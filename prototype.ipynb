{
 "cells": [
  {
   "cell_type": "markdown",
   "source": [
    "# 1 Install and Import Dependencies"
   ],
   "metadata": {
    "collapsed": false
   },
   "id": "942cdf3329e656f2"
  },
  {
   "cell_type": "code",
   "execution_count": 3,
   "outputs": [
    {
     "name": "stdout",
     "output_type": "stream",
     "text": [
      "Collecting opencv-python\r\n",
      "  Obtaining dependency information for opencv-python from https://files.pythonhosted.org/packages/a1/f6/57de91ea40c670527cd47a6548bf2cbedc68cec57c041793b256356abad7/opencv_python-4.8.1.78-cp37-abi3-macosx_11_0_arm64.whl.metadata\r\n",
      "  Downloading opencv_python-4.8.1.78-cp37-abi3-macosx_11_0_arm64.whl.metadata (19 kB)\r\n",
      "Collecting imageio\r\n",
      "  Obtaining dependency information for imageio from https://files.pythonhosted.org/packages/c0/69/3aaa69cb0748e33e644fda114c9abd3186ce369edd4fca11107e9f39c6a7/imageio-2.33.1-py3-none-any.whl.metadata\r\n",
      "  Downloading imageio-2.33.1-py3-none-any.whl.metadata (4.9 kB)\r\n",
      "Collecting gdown\r\n",
      "  Downloading gdown-4.7.1-py3-none-any.whl (15 kB)\r\n",
      "Collecting tensorflow\r\n",
      "  Obtaining dependency information for tensorflow from https://files.pythonhosted.org/packages/b8/95/0fb1c154bb02f7f7b44138219926519ac19339493b32ff6eefa9bbc83769/tensorflow-2.15.0-cp39-cp39-macosx_12_0_arm64.whl.metadata\r\n",
      "  Downloading tensorflow-2.15.0-cp39-cp39-macosx_12_0_arm64.whl.metadata (3.6 kB)\r\n",
      "Requirement already satisfied: numpy>=1.21.0 in /Users/khizarbm/anaconda3/envs/DS/lib/python3.9/site-packages (from opencv-python) (1.26.0)\r\n",
      "Requirement already satisfied: pillow>=8.3.2 in /Users/khizarbm/anaconda3/envs/DS/lib/python3.9/site-packages (from imageio) (10.1.0)\r\n",
      "Collecting filelock (from gdown)\r\n",
      "  Obtaining dependency information for filelock from https://files.pythonhosted.org/packages/81/54/84d42a0bee35edba99dee7b59a8d4970eccdd44b99fe728ed912106fc781/filelock-3.13.1-py3-none-any.whl.metadata\r\n",
      "  Downloading filelock-3.13.1-py3-none-any.whl.metadata (2.8 kB)\r\n",
      "Requirement already satisfied: requests[socks] in /Users/khizarbm/anaconda3/envs/DS/lib/python3.9/site-packages (from gdown) (2.31.0)\r\n",
      "Requirement already satisfied: six in /Users/khizarbm/anaconda3/envs/DS/lib/python3.9/site-packages (from gdown) (1.16.0)\r\n",
      "Collecting tqdm (from gdown)\r\n",
      "  Obtaining dependency information for tqdm from https://files.pythonhosted.org/packages/00/e5/f12a80907d0884e6dff9c16d0c0114d81b8cd07dc3ae54c5e962cc83037e/tqdm-4.66.1-py3-none-any.whl.metadata\r\n",
      "  Downloading tqdm-4.66.1-py3-none-any.whl.metadata (57 kB)\r\n",
      "\u001B[2K     \u001B[90m━━━━━━━━━━━━━━━━━━━━━━━━━━━━━━━━━━━━━━━━\u001B[0m \u001B[32m57.6/57.6 kB\u001B[0m \u001B[31m4.0 MB/s\u001B[0m eta \u001B[36m0:00:00\u001B[0m\r\n",
      "\u001B[?25hRequirement already satisfied: beautifulsoup4 in /Users/khizarbm/anaconda3/envs/DS/lib/python3.9/site-packages (from gdown) (4.12.2)\r\n",
      "Collecting tensorflow-macos==2.15.0 (from tensorflow)\r\n",
      "  Obtaining dependency information for tensorflow-macos==2.15.0 from https://files.pythonhosted.org/packages/3e/ca/4d8aede401f69ebe6dfdb8ef0681bb30ae6051b6441cb25a047e334f9a86/tensorflow_macos-2.15.0-cp39-cp39-macosx_12_0_arm64.whl.metadata\r\n",
      "  Downloading tensorflow_macos-2.15.0-cp39-cp39-macosx_12_0_arm64.whl.metadata (4.2 kB)\r\n",
      "Collecting absl-py>=1.0.0 (from tensorflow-macos==2.15.0->tensorflow)\r\n",
      "  Obtaining dependency information for absl-py>=1.0.0 from https://files.pythonhosted.org/packages/01/e4/dc0a1dcc4e74e08d7abedab278c795eef54a224363bb18f5692f416d834f/absl_py-2.0.0-py3-none-any.whl.metadata\r\n",
      "  Downloading absl_py-2.0.0-py3-none-any.whl.metadata (2.3 kB)\r\n",
      "Collecting astunparse>=1.6.0 (from tensorflow-macos==2.15.0->tensorflow)\r\n",
      "  Downloading astunparse-1.6.3-py2.py3-none-any.whl (12 kB)\r\n",
      "Collecting flatbuffers>=23.5.26 (from tensorflow-macos==2.15.0->tensorflow)\r\n",
      "  Obtaining dependency information for flatbuffers>=23.5.26 from https://files.pythonhosted.org/packages/6f/12/d5c79ee252793ffe845d58a913197bfa02ae9a0b5c9bc3dc4b58d477b9e7/flatbuffers-23.5.26-py2.py3-none-any.whl.metadata\r\n",
      "  Downloading flatbuffers-23.5.26-py2.py3-none-any.whl.metadata (850 bytes)\r\n",
      "Collecting gast!=0.5.0,!=0.5.1,!=0.5.2,>=0.2.1 (from tensorflow-macos==2.15.0->tensorflow)\r\n",
      "  Downloading gast-0.5.4-py3-none-any.whl (19 kB)\r\n",
      "Collecting google-pasta>=0.1.1 (from tensorflow-macos==2.15.0->tensorflow)\r\n",
      "  Downloading google_pasta-0.2.0-py3-none-any.whl (57 kB)\r\n",
      "\u001B[2K     \u001B[90m━━━━━━━━━━━━━━━━━━━━━━━━━━━━━━━━━━━━━━━━\u001B[0m \u001B[32m57.5/57.5 kB\u001B[0m \u001B[31m5.8 MB/s\u001B[0m eta \u001B[36m0:00:00\u001B[0m\r\n",
      "\u001B[?25hCollecting h5py>=2.9.0 (from tensorflow-macos==2.15.0->tensorflow)\r\n",
      "  Obtaining dependency information for h5py>=2.9.0 from https://files.pythonhosted.org/packages/0f/b6/064fbf45e6e6d696e55275a1ca5149d9732d371063cbd239a6c527235ec7/h5py-3.10.0-cp39-cp39-macosx_11_0_arm64.whl.metadata\r\n",
      "  Downloading h5py-3.10.0-cp39-cp39-macosx_11_0_arm64.whl.metadata (2.5 kB)\r\n",
      "Collecting libclang>=13.0.0 (from tensorflow-macos==2.15.0->tensorflow)\r\n",
      "  Obtaining dependency information for libclang>=13.0.0 from https://files.pythonhosted.org/packages/32/1f/981809b77b71972beec34b3ff5422c1b1f7e519daac7b3cbd055c05ba2cf/libclang-16.0.6-py2.py3-none-macosx_11_0_arm64.whl.metadata\r\n",
      "  Downloading libclang-16.0.6-py2.py3-none-macosx_11_0_arm64.whl.metadata (5.2 kB)\r\n",
      "Collecting ml-dtypes~=0.2.0 (from tensorflow-macos==2.15.0->tensorflow)\r\n",
      "  Obtaining dependency information for ml-dtypes~=0.2.0 from https://files.pythonhosted.org/packages/f0/d8/f602f05db13d187884ddb5ae4e823d333beb28bbd3d12c057450afa3acee/ml_dtypes-0.2.0-cp39-cp39-macosx_10_9_universal2.whl.metadata\r\n",
      "  Downloading ml_dtypes-0.2.0-cp39-cp39-macosx_10_9_universal2.whl.metadata (20 kB)\r\n",
      "Collecting opt-einsum>=2.3.2 (from tensorflow-macos==2.15.0->tensorflow)\r\n",
      "  Downloading opt_einsum-3.3.0-py3-none-any.whl (65 kB)\r\n",
      "\u001B[2K     \u001B[90m━━━━━━━━━━━━━━━━━━━━━━━━━━━━━━━━━━━━━━━━\u001B[0m \u001B[32m65.5/65.5 kB\u001B[0m \u001B[31m10.0 MB/s\u001B[0m eta \u001B[36m0:00:00\u001B[0m\r\n",
      "\u001B[?25hRequirement already satisfied: packaging in /Users/khizarbm/anaconda3/envs/DS/lib/python3.9/site-packages (from tensorflow-macos==2.15.0->tensorflow) (23.1)\r\n",
      "Collecting protobuf!=4.21.0,!=4.21.1,!=4.21.2,!=4.21.3,!=4.21.4,!=4.21.5,<5.0.0dev,>=3.20.3 (from tensorflow-macos==2.15.0->tensorflow)\r\n",
      "  Obtaining dependency information for protobuf!=4.21.0,!=4.21.1,!=4.21.2,!=4.21.3,!=4.21.4,!=4.21.5,<5.0.0dev,>=3.20.3 from https://files.pythonhosted.org/packages/e6/db/7b2edc72807d45d72f9db42f3eb86ddaf37f9e55d923159b1dbfc9d835bc/protobuf-4.25.1-cp37-abi3-macosx_10_9_universal2.whl.metadata\r\n",
      "  Downloading protobuf-4.25.1-cp37-abi3-macosx_10_9_universal2.whl.metadata (541 bytes)\r\n",
      "Requirement already satisfied: setuptools in /Users/khizarbm/anaconda3/envs/DS/lib/python3.9/site-packages (from tensorflow-macos==2.15.0->tensorflow) (68.0.0)\r\n",
      "Collecting termcolor>=1.1.0 (from tensorflow-macos==2.15.0->tensorflow)\r\n",
      "  Obtaining dependency information for termcolor>=1.1.0 from https://files.pythonhosted.org/packages/d9/5f/8c716e47b3a50cbd7c146f45881e11d9414def768b7cd9c5e6650ec2a80a/termcolor-2.4.0-py3-none-any.whl.metadata\r\n",
      "  Downloading termcolor-2.4.0-py3-none-any.whl.metadata (6.1 kB)\r\n",
      "Requirement already satisfied: typing-extensions>=3.6.6 in /Users/khizarbm/anaconda3/envs/DS/lib/python3.9/site-packages (from tensorflow-macos==2.15.0->tensorflow) (4.7.1)\r\n",
      "Collecting wrapt<1.15,>=1.11.0 (from tensorflow-macos==2.15.0->tensorflow)\r\n",
      "  Downloading wrapt-1.14.1-cp39-cp39-macosx_11_0_arm64.whl (35 kB)\r\n",
      "Collecting tensorflow-io-gcs-filesystem>=0.23.1 (from tensorflow-macos==2.15.0->tensorflow)\r\n",
      "  Obtaining dependency information for tensorflow-io-gcs-filesystem>=0.23.1 from https://files.pythonhosted.org/packages/f9/17/74b5b4f7c965aa4e7cbf7dd287744b71692abc52d7c805b4b1d70175f64f/tensorflow_io_gcs_filesystem-0.34.0-cp39-cp39-macosx_12_0_arm64.whl.metadata\r\n",
      "  Downloading tensorflow_io_gcs_filesystem-0.34.0-cp39-cp39-macosx_12_0_arm64.whl.metadata (14 kB)\r\n",
      "Collecting grpcio<2.0,>=1.24.3 (from tensorflow-macos==2.15.0->tensorflow)\r\n",
      "  Obtaining dependency information for grpcio<2.0,>=1.24.3 from https://files.pythonhosted.org/packages/64/3e/4b6d0c1fa2c9374e1192a027a770329ecab8c630c3057c9efb4f5f953166/grpcio-1.60.0-cp39-cp39-macosx_10_10_universal2.whl.metadata\r\n",
      "  Downloading grpcio-1.60.0-cp39-cp39-macosx_10_10_universal2.whl.metadata (4.0 kB)\r\n",
      "Collecting tensorboard<2.16,>=2.15 (from tensorflow-macos==2.15.0->tensorflow)\r\n",
      "  Obtaining dependency information for tensorboard<2.16,>=2.15 from https://files.pythonhosted.org/packages/6e/0c/1059a6682cf2cc1fcc0d5327837b5672fe4f5574255fa5430d0a8ceb75e9/tensorboard-2.15.1-py3-none-any.whl.metadata\r\n",
      "  Downloading tensorboard-2.15.1-py3-none-any.whl.metadata (1.7 kB)\r\n",
      "Collecting tensorflow-estimator<2.16,>=2.15.0 (from tensorflow-macos==2.15.0->tensorflow)\r\n",
      "  Obtaining dependency information for tensorflow-estimator<2.16,>=2.15.0 from https://files.pythonhosted.org/packages/b6/c8/2f823c8958d5342eafc6dd3e922f0cc4fcf8c2e0460284cc462dae3b60a0/tensorflow_estimator-2.15.0-py2.py3-none-any.whl.metadata\r\n",
      "  Downloading tensorflow_estimator-2.15.0-py2.py3-none-any.whl.metadata (1.3 kB)\r\n",
      "Collecting keras<2.16,>=2.15.0 (from tensorflow-macos==2.15.0->tensorflow)\r\n",
      "  Obtaining dependency information for keras<2.16,>=2.15.0 from https://files.pythonhosted.org/packages/fc/a7/0d4490de967a67f68a538cc9cdb259bff971c4b5787f7765dc7c8f118f71/keras-2.15.0-py3-none-any.whl.metadata\r\n",
      "  Downloading keras-2.15.0-py3-none-any.whl.metadata (2.4 kB)\r\n",
      "Requirement already satisfied: soupsieve>1.2 in /Users/khizarbm/anaconda3/envs/DS/lib/python3.9/site-packages (from beautifulsoup4->gdown) (2.4)\r\n",
      "Requirement already satisfied: charset-normalizer<4,>=2 in /Users/khizarbm/anaconda3/envs/DS/lib/python3.9/site-packages (from requests[socks]->gdown) (2.0.4)\r\n",
      "Requirement already satisfied: idna<4,>=2.5 in /Users/khizarbm/anaconda3/envs/DS/lib/python3.9/site-packages (from requests[socks]->gdown) (3.4)\r\n",
      "Requirement already satisfied: urllib3<3,>=1.21.1 in /Users/khizarbm/anaconda3/envs/DS/lib/python3.9/site-packages (from requests[socks]->gdown) (1.26.16)\r\n",
      "Requirement already satisfied: certifi>=2017.4.17 in /Users/khizarbm/anaconda3/envs/DS/lib/python3.9/site-packages (from requests[socks]->gdown) (2023.7.22)\r\n",
      "Requirement already satisfied: PySocks!=1.5.7,>=1.5.6 in /Users/khizarbm/anaconda3/envs/DS/lib/python3.9/site-packages (from requests[socks]->gdown) (1.7.1)\r\n",
      "Requirement already satisfied: wheel<1.0,>=0.23.0 in /Users/khizarbm/anaconda3/envs/DS/lib/python3.9/site-packages (from astunparse>=1.6.0->tensorflow-macos==2.15.0->tensorflow) (0.41.2)\r\n",
      "Collecting google-auth<3,>=1.6.3 (from tensorboard<2.16,>=2.15->tensorflow-macos==2.15.0->tensorflow)\r\n",
      "  Obtaining dependency information for google-auth<3,>=1.6.3 from https://files.pythonhosted.org/packages/f4/d2/9f6f3b9c0fd486617816cff42e856afea079d0bad99f0e60dc186c76b881/google_auth-2.25.2-py2.py3-none-any.whl.metadata\r\n",
      "  Downloading google_auth-2.25.2-py2.py3-none-any.whl.metadata (4.7 kB)\r\n",
      "Collecting google-auth-oauthlib<2,>=0.5 (from tensorboard<2.16,>=2.15->tensorflow-macos==2.15.0->tensorflow)\r\n",
      "  Obtaining dependency information for google-auth-oauthlib<2,>=0.5 from https://files.pythonhosted.org/packages/71/bf/9e125754d1adb3bc4bd206c4e5df756513b1d23675ac06caa471278d1f3f/google_auth_oauthlib-1.2.0-py2.py3-none-any.whl.metadata\r\n",
      "  Downloading google_auth_oauthlib-1.2.0-py2.py3-none-any.whl.metadata (2.7 kB)\r\n",
      "Collecting markdown>=2.6.8 (from tensorboard<2.16,>=2.15->tensorflow-macos==2.15.0->tensorflow)\r\n",
      "  Obtaining dependency information for markdown>=2.6.8 from https://files.pythonhosted.org/packages/70/58/2c5a654173937d9f540a4971c569b44dcd55e5424a484d954cdaeebcf79c/Markdown-3.5.1-py3-none-any.whl.metadata\r\n",
      "  Downloading Markdown-3.5.1-py3-none-any.whl.metadata (7.1 kB)\r\n",
      "Collecting protobuf!=4.21.0,!=4.21.1,!=4.21.2,!=4.21.3,!=4.21.4,!=4.21.5,<5.0.0dev,>=3.20.3 (from tensorflow-macos==2.15.0->tensorflow)\r\n",
      "  Obtaining dependency information for protobuf!=4.21.0,!=4.21.1,!=4.21.2,!=4.21.3,!=4.21.4,!=4.21.5,<5.0.0dev,>=3.20.3 from https://files.pythonhosted.org/packages/cb/d3/a164038605494d49acc4f9cda1c0bc200b96382c53edd561387263bb181d/protobuf-4.23.4-cp37-abi3-macosx_10_9_universal2.whl.metadata\r\n",
      "  Downloading protobuf-4.23.4-cp37-abi3-macosx_10_9_universal2.whl.metadata (540 bytes)\r\n",
      "Collecting tensorboard-data-server<0.8.0,>=0.7.0 (from tensorboard<2.16,>=2.15->tensorflow-macos==2.15.0->tensorflow)\r\n",
      "  Obtaining dependency information for tensorboard-data-server<0.8.0,>=0.7.0 from https://files.pythonhosted.org/packages/7a/13/e503968fefabd4c6b2650af21e110aa8466fe21432cd7c43a84577a89438/tensorboard_data_server-0.7.2-py3-none-any.whl.metadata\r\n",
      "  Downloading tensorboard_data_server-0.7.2-py3-none-any.whl.metadata (1.1 kB)\r\n",
      "Collecting werkzeug>=1.0.1 (from tensorboard<2.16,>=2.15->tensorflow-macos==2.15.0->tensorflow)\r\n",
      "  Obtaining dependency information for werkzeug>=1.0.1 from https://files.pythonhosted.org/packages/c3/fc/254c3e9b5feb89ff5b9076a23218dafbc99c96ac5941e900b71206e6313b/werkzeug-3.0.1-py3-none-any.whl.metadata\r\n",
      "  Downloading werkzeug-3.0.1-py3-none-any.whl.metadata (4.1 kB)\r\n",
      "Collecting cachetools<6.0,>=2.0.0 (from google-auth<3,>=1.6.3->tensorboard<2.16,>=2.15->tensorflow-macos==2.15.0->tensorflow)\r\n",
      "  Obtaining dependency information for cachetools<6.0,>=2.0.0 from https://files.pythonhosted.org/packages/a2/91/2d843adb9fbd911e0da45fbf6f18ca89d07a087c3daa23e955584f90ebf4/cachetools-5.3.2-py3-none-any.whl.metadata\r\n",
      "  Downloading cachetools-5.3.2-py3-none-any.whl.metadata (5.2 kB)\r\n",
      "Collecting pyasn1-modules>=0.2.1 (from google-auth<3,>=1.6.3->tensorboard<2.16,>=2.15->tensorflow-macos==2.15.0->tensorflow)\r\n",
      "  Downloading pyasn1_modules-0.3.0-py2.py3-none-any.whl (181 kB)\r\n",
      "\u001B[2K     \u001B[90m━━━━━━━━━━━━━━━━━━━━━━━━━━━━━━━━━━━━━━━\u001B[0m \u001B[32m181.3/181.3 kB\u001B[0m \u001B[31m9.3 MB/s\u001B[0m eta \u001B[36m0:00:00\u001B[0m\r\n",
      "\u001B[?25hCollecting rsa<5,>=3.1.4 (from google-auth<3,>=1.6.3->tensorboard<2.16,>=2.15->tensorflow-macos==2.15.0->tensorflow)\r\n",
      "  Downloading rsa-4.9-py3-none-any.whl (34 kB)\r\n",
      "Collecting requests-oauthlib>=0.7.0 (from google-auth-oauthlib<2,>=0.5->tensorboard<2.16,>=2.15->tensorflow-macos==2.15.0->tensorflow)\r\n",
      "  Downloading requests_oauthlib-1.3.1-py2.py3-none-any.whl (23 kB)\r\n",
      "Requirement already satisfied: importlib-metadata>=4.4 in /Users/khizarbm/anaconda3/envs/DS/lib/python3.9/site-packages (from markdown>=2.6.8->tensorboard<2.16,>=2.15->tensorflow-macos==2.15.0->tensorflow) (6.0.0)\r\n",
      "Requirement already satisfied: MarkupSafe>=2.1.1 in /Users/khizarbm/anaconda3/envs/DS/lib/python3.9/site-packages (from werkzeug>=1.0.1->tensorboard<2.16,>=2.15->tensorflow-macos==2.15.0->tensorflow) (2.1.1)\r\n",
      "Requirement already satisfied: zipp>=0.5 in /Users/khizarbm/anaconda3/envs/DS/lib/python3.9/site-packages (from importlib-metadata>=4.4->markdown>=2.6.8->tensorboard<2.16,>=2.15->tensorflow-macos==2.15.0->tensorflow) (3.11.0)\r\n",
      "Collecting pyasn1<0.6.0,>=0.4.6 (from pyasn1-modules>=0.2.1->google-auth<3,>=1.6.3->tensorboard<2.16,>=2.15->tensorflow-macos==2.15.0->tensorflow)\r\n",
      "  Obtaining dependency information for pyasn1<0.6.0,>=0.4.6 from https://files.pythonhosted.org/packages/d1/75/4686d2872bf2fc0b37917cbc8bbf0dd3a5cdb0990799be1b9cbf1e1eb733/pyasn1-0.5.1-py2.py3-none-any.whl.metadata\r\n",
      "  Downloading pyasn1-0.5.1-py2.py3-none-any.whl.metadata (8.6 kB)\r\n",
      "Collecting oauthlib>=3.0.0 (from requests-oauthlib>=0.7.0->google-auth-oauthlib<2,>=0.5->tensorboard<2.16,>=2.15->tensorflow-macos==2.15.0->tensorflow)\r\n",
      "  Downloading oauthlib-3.2.2-py3-none-any.whl (151 kB)\r\n",
      "\u001B[2K     \u001B[90m━━━━━━━━━━━━━━━━━━━━━━━━━━━━━━━━━━━━━━━\u001B[0m \u001B[32m151.7/151.7 kB\u001B[0m \u001B[31m9.0 MB/s\u001B[0m eta \u001B[36m0:00:00\u001B[0m\r\n",
      "\u001B[?25hDownloading opencv_python-4.8.1.78-cp37-abi3-macosx_11_0_arm64.whl (33.1 MB)\r\n",
      "\u001B[2K   \u001B[90m━━━━━━━━━━━━━━━━━━━━━━━━━━━━━━━━━━━━━━━━\u001B[0m \u001B[32m33.1/33.1 MB\u001B[0m \u001B[31m9.0 MB/s\u001B[0m eta \u001B[36m0:00:00\u001B[0m00:01\u001B[0mm00:01\u001B[0m\r\n",
      "\u001B[?25hDownloading imageio-2.33.1-py3-none-any.whl (313 kB)\r\n",
      "\u001B[2K   \u001B[90m━━━━━━━━━━━━━━━━━━━━━━━━━━━━━━━━━━━━━━━━\u001B[0m \u001B[32m313.3/313.3 kB\u001B[0m \u001B[31m4.9 MB/s\u001B[0m eta \u001B[36m0:00:00\u001B[0ma \u001B[36m0:00:01\u001B[0m\r\n",
      "\u001B[?25hDownloading tensorflow-2.15.0-cp39-cp39-macosx_12_0_arm64.whl (2.1 kB)\r\n",
      "Downloading tensorflow_macos-2.15.0-cp39-cp39-macosx_12_0_arm64.whl (208.8 MB)\r\n",
      "\u001B[2K   \u001B[90m━━━━━━━━━━━━━━━━━━━━━━━━━━━━━━━━━━━━━━━━\u001B[0m \u001B[32m208.8/208.8 MB\u001B[0m \u001B[31m7.0 MB/s\u001B[0m eta \u001B[36m0:00:00\u001B[0m:00:01\u001B[0m00:01\u001B[0m\r\n",
      "\u001B[?25hDownloading filelock-3.13.1-py3-none-any.whl (11 kB)\r\n",
      "Downloading tqdm-4.66.1-py3-none-any.whl (78 kB)\r\n",
      "\u001B[2K   \u001B[90m━━━━━━━━━━━━━━━━━━━━━━━━━━━━━━━━━━━━━━━━\u001B[0m \u001B[32m78.3/78.3 kB\u001B[0m \u001B[31m6.7 MB/s\u001B[0m eta \u001B[36m0:00:00\u001B[0m\r\n",
      "\u001B[?25hDownloading absl_py-2.0.0-py3-none-any.whl (130 kB)\r\n",
      "\u001B[2K   \u001B[90m━━━━━━━━━━━━━━━━━━━━━━━━━━━━━━━━━━━━━━━━\u001B[0m \u001B[32m130.2/130.2 kB\u001B[0m \u001B[31m8.2 MB/s\u001B[0m eta \u001B[36m0:00:00\u001B[0m\r\n",
      "\u001B[?25hDownloading flatbuffers-23.5.26-py2.py3-none-any.whl (26 kB)\r\n",
      "Downloading grpcio-1.60.0-cp39-cp39-macosx_10_10_universal2.whl (9.7 MB)\r\n",
      "\u001B[2K   \u001B[90m━━━━━━━━━━━━━━━━━━━━━━━━━━━━━━━━━━━━━━━━\u001B[0m \u001B[32m9.7/9.7 MB\u001B[0m \u001B[31m11.0 MB/s\u001B[0m eta \u001B[36m0:00:00\u001B[0m00:01\u001B[0m00:01\u001B[0m\r\n",
      "\u001B[?25hDownloading h5py-3.10.0-cp39-cp39-macosx_11_0_arm64.whl (2.7 MB)\r\n",
      "\u001B[2K   \u001B[90m━━━━━━━━━━━━━━━━━━━━━━━━━━━━━━━━━━━━━━━━\u001B[0m \u001B[32m2.7/2.7 MB\u001B[0m \u001B[31m10.3 MB/s\u001B[0m eta \u001B[36m0:00:00\u001B[0ma \u001B[36m0:00:01\u001B[0m\r\n",
      "\u001B[?25hDownloading keras-2.15.0-py3-none-any.whl (1.7 MB)\r\n",
      "\u001B[2K   \u001B[90m━━━━━━━━━━━━━━━━━━━━━━━━━━━━━━━━━━━━━━━━\u001B[0m \u001B[32m1.7/1.7 MB\u001B[0m \u001B[31m8.4 MB/s\u001B[0m eta \u001B[36m0:00:00\u001B[0ma \u001B[36m0:00:01\u001B[0m\r\n",
      "\u001B[?25hDownloading libclang-16.0.6-py2.py3-none-macosx_11_0_arm64.whl (20.6 MB)\r\n",
      "\u001B[2K   \u001B[90m━━━━━━━━━━━━━━━━━━━━━━━━━━━━━━━━━━━━━━━━\u001B[0m \u001B[32m20.6/20.6 MB\u001B[0m \u001B[31m8.0 MB/s\u001B[0m eta \u001B[36m0:00:00\u001B[0m00:01\u001B[0m00:01\u001B[0mm\r\n",
      "\u001B[?25hDownloading ml_dtypes-0.2.0-cp39-cp39-macosx_10_9_universal2.whl (1.2 MB)\r\n",
      "\u001B[2K   \u001B[90m━━━━━━━━━━━━━━━━━━━━━━━━━━━━━━━━━━━━━━━━\u001B[0m \u001B[32m1.2/1.2 MB\u001B[0m \u001B[31m6.9 MB/s\u001B[0m eta \u001B[36m0:00:00\u001B[0ma \u001B[36m0:00:01\u001B[0m\r\n",
      "\u001B[?25hDownloading tensorboard-2.15.1-py3-none-any.whl (5.5 MB)\r\n",
      "\u001B[2K   \u001B[90m━━━━━━━━━━━━━━━━━━━━━━━━━━━━━━━━━━━━━━━━\u001B[0m \u001B[32m5.5/5.5 MB\u001B[0m \u001B[31m9.4 MB/s\u001B[0m eta \u001B[36m0:00:00\u001B[0m00:01\u001B[0m00:01\u001B[0m\r\n",
      "\u001B[?25hDownloading protobuf-4.23.4-cp37-abi3-macosx_10_9_universal2.whl (400 kB)\r\n",
      "\u001B[2K   \u001B[90m━━━━━━━━━━━━━━━━━━━━━━━━━━━━━━━━━━━━━━━━\u001B[0m \u001B[32m400.3/400.3 kB\u001B[0m \u001B[31m9.9 MB/s\u001B[0m eta \u001B[36m0:00:00\u001B[0m:00:01\u001B[0m\r\n",
      "\u001B[?25hDownloading tensorflow_estimator-2.15.0-py2.py3-none-any.whl (441 kB)\r\n",
      "\u001B[2K   \u001B[90m━━━━━━━━━━━━━━━━━━━━━━━━━━━━━━━━━━━━━━━━\u001B[0m \u001B[32m442.0/442.0 kB\u001B[0m \u001B[31m10.2 MB/s\u001B[0m eta \u001B[36m0:00:00\u001B[0m00:01\u001B[0m\r\n",
      "\u001B[?25hDownloading tensorflow_io_gcs_filesystem-0.34.0-cp39-cp39-macosx_12_0_arm64.whl (1.9 MB)\r\n",
      "\u001B[2K   \u001B[90m━━━━━━━━━━━━━━━━━━━━━━━━━━━━━━━━━━━━━━━━\u001B[0m \u001B[32m1.9/1.9 MB\u001B[0m \u001B[31m10.8 MB/s\u001B[0m eta \u001B[36m0:00:00\u001B[0ma \u001B[36m0:00:01\u001B[0m\r\n",
      "\u001B[?25hDownloading termcolor-2.4.0-py3-none-any.whl (7.7 kB)\r\n",
      "Downloading google_auth-2.25.2-py2.py3-none-any.whl (184 kB)\r\n",
      "\u001B[2K   \u001B[90m━━━━━━━━━━━━━━━━━━━━━━━━━━━━━━━━━━━━━━━━\u001B[0m \u001B[32m184.2/184.2 kB\u001B[0m \u001B[31m11.0 MB/s\u001B[0m eta \u001B[36m0:00:00\u001B[0m\r\n",
      "\u001B[?25hDownloading google_auth_oauthlib-1.2.0-py2.py3-none-any.whl (24 kB)\r\n",
      "Downloading Markdown-3.5.1-py3-none-any.whl (102 kB)\r\n",
      "\u001B[2K   \u001B[90m━━━━━━━━━━━━━━━━━━━━━━━━━━━━━━━━━━━━━━━━\u001B[0m \u001B[32m102.2/102.2 kB\u001B[0m \u001B[31m7.1 MB/s\u001B[0m eta \u001B[36m0:00:00\u001B[0m\r\n",
      "\u001B[?25hDownloading tensorboard_data_server-0.7.2-py3-none-any.whl (2.4 kB)\r\n",
      "Downloading werkzeug-3.0.1-py3-none-any.whl (226 kB)\r\n",
      "\u001B[2K   \u001B[90m━━━━━━━━━━━━━━━━━━━━━━━━━━━━━━━━━━━━━━━━\u001B[0m \u001B[32m226.7/226.7 kB\u001B[0m \u001B[31m9.3 MB/s\u001B[0m eta \u001B[36m0:00:00\u001B[0m\r\n",
      "\u001B[?25hDownloading cachetools-5.3.2-py3-none-any.whl (9.3 kB)\r\n",
      "Downloading pyasn1-0.5.1-py2.py3-none-any.whl (84 kB)\r\n",
      "\u001B[2K   \u001B[90m━━━━━━━━━━━━━━━━━━━━━━━━━━━━━━━━━━━━━━━━\u001B[0m \u001B[32m84.9/84.9 kB\u001B[0m \u001B[31m1.8 MB/s\u001B[0m eta \u001B[36m0:00:00\u001B[0ma \u001B[36m0:00:01\u001B[0m\r\n",
      "\u001B[?25hInstalling collected packages: libclang, flatbuffers, wrapt, werkzeug, tqdm, termcolor, tensorflow-io-gcs-filesystem, tensorflow-estimator, tensorboard-data-server, pyasn1, protobuf, opt-einsum, opencv-python, oauthlib, ml-dtypes, keras, imageio, h5py, grpcio, google-pasta, gast, filelock, cachetools, astunparse, absl-py, rsa, requests-oauthlib, pyasn1-modules, markdown, google-auth, gdown, google-auth-oauthlib, tensorboard, tensorflow-macos, tensorflow\r\n",
      "Successfully installed absl-py-2.0.0 astunparse-1.6.3 cachetools-5.3.2 filelock-3.13.1 flatbuffers-23.5.26 gast-0.5.4 gdown-4.7.1 google-auth-2.25.2 google-auth-oauthlib-1.2.0 google-pasta-0.2.0 grpcio-1.60.0 h5py-3.10.0 imageio-2.33.1 keras-2.15.0 libclang-16.0.6 markdown-3.5.1 ml-dtypes-0.2.0 oauthlib-3.2.2 opencv-python-4.8.1.78 opt-einsum-3.3.0 protobuf-4.23.4 pyasn1-0.5.1 pyasn1-modules-0.3.0 requests-oauthlib-1.3.1 rsa-4.9 tensorboard-2.15.1 tensorboard-data-server-0.7.2 tensorflow-2.15.0 tensorflow-estimator-2.15.0 tensorflow-io-gcs-filesystem-0.34.0 tensorflow-macos-2.15.0 termcolor-2.4.0 tqdm-4.66.1 werkzeug-3.0.1 wrapt-1.14.1\r\n"
     ]
    }
   ],
   "source": [
    "!pip install opencv-python imageio gdown tensorflow"
   ],
   "metadata": {
    "collapsed": false,
    "ExecuteTime": {
     "end_time": "2023-12-17T12:56:24.592501Z",
     "start_time": "2023-12-17T12:55:42.750277Z"
    }
   },
   "id": "8aa8aae589adbbbc"
  },
  {
   "cell_type": "code",
   "execution_count": 3,
   "outputs": [
    {
     "name": "stdout",
     "output_type": "stream",
     "text": [
      "Collecting dlib\r\n",
      "  Downloading dlib-19.24.2.tar.gz (11.8 MB)\r\n",
      "\u001B[2K     \u001B[90m━━━━━━━━━━━━━━━━━━━━━━━━━━━━━━━━━━━━━━━━\u001B[0m \u001B[32m11.8/11.8 MB\u001B[0m \u001B[31m10.1 MB/s\u001B[0m eta \u001B[36m0:00:00\u001B[0m00:01\u001B[0m00:01\u001B[0m\r\n",
      "\u001B[?25h  Installing build dependencies ... \u001B[?25ldone\r\n",
      "\u001B[?25h  Getting requirements to build wheel ... \u001B[?25ldone\r\n",
      "\u001B[?25h  Preparing metadata (pyproject.toml) ... \u001B[?25ldone\r\n",
      "\u001B[?25hCollecting imutils\r\n",
      "  Downloading imutils-0.5.4.tar.gz (17 kB)\r\n",
      "  Preparing metadata (setup.py) ... \u001B[?25ldone\r\n",
      "\u001B[?25hBuilding wheels for collected packages: dlib, imutils\r\n",
      "  Building wheel for dlib (pyproject.toml) ... \u001B[?25ldone\r\n",
      "\u001B[?25h  Created wheel for dlib: filename=dlib-19.24.2-cp39-cp39-macosx_14_0_arm64.whl size=2919899 sha256=07db4f2dc67e738cc1be05f1f05d62f39df702fd5f878b8c7cbce200dd65e0c1\r\n",
      "  Stored in directory: /Users/khizarbm/Library/Caches/pip/wheels/f7/ae/0e/3478eae12f6aed0e3d4880147ca855ba5d58f2e1098c73ab5f\r\n",
      "  Building wheel for imutils (setup.py) ... \u001B[?25ldone\r\n",
      "\u001B[?25h  Created wheel for imutils: filename=imutils-0.5.4-py3-none-any.whl size=25837 sha256=cfbc124e92ee96294c95999333550c6f32dc09968bd8e58bf97bf90db5e6c0d0\r\n",
      "  Stored in directory: /Users/khizarbm/Library/Caches/pip/wheels/4b/a5/2d/4a070a801d3a3d93f033d3ee9728f470f514826e89952df3ea\r\n",
      "Successfully built dlib imutils\r\n",
      "Installing collected packages: imutils, dlib\r\n",
      "Successfully installed dlib-19.24.2 imutils-0.5.4\r\n"
     ]
    }
   ],
   "source": [
    "!pip install dlib imutils"
   ],
   "metadata": {
    "collapsed": false,
    "ExecuteTime": {
     "end_time": "2023-12-17T13:34:02.762933Z",
     "start_time": "2023-12-17T13:32:15.270862Z"
    }
   },
   "id": "e12f6739c9edaa08"
  },
  {
   "cell_type": "code",
   "execution_count": 1,
   "outputs": [
    {
     "name": "stdout",
     "output_type": "stream",
     "text": [
      "--2023-12-17 15:24:16--  http://dlib.net/files/shape_predictor_68_face_landmarks.dat.bz2\r\n",
      "Resolving dlib.net (dlib.net)... 107.180.26.78\r\n",
      "Connecting to dlib.net (dlib.net)|107.180.26.78|:80... connected.\r\n",
      "HTTP request sent, awaiting response... 200 OK\r\n",
      "Length: 64040097 (61M)\r\n",
      "Saving to: ‘shape_predictor_68_face_landmarks.dat.bz2’\r\n",
      "\r\n",
      "shape_predictor_68_ 100%[===================>]  61.07M  1.08MB/s    in 57s     \r\n",
      "\r\n",
      "2023-12-17 15:25:13 (1.07 MB/s) - ‘shape_predictor_68_face_landmarks.dat.bz2’ saved [64040097/64040097]\r\n",
      "\r\n"
     ]
    }
   ],
   "source": [
    "!wget 'http://dlib.net/files/shape_predictor_68_face_landmarks.dat.bz2'"
   ],
   "metadata": {
    "collapsed": false,
    "ExecuteTime": {
     "end_time": "2023-12-17T13:25:13.758992Z",
     "start_time": "2023-12-17T13:24:15.939548Z"
    }
   },
   "id": "dc9d34cb4048217a"
  },
  {
   "cell_type": "code",
   "execution_count": 2,
   "outputs": [],
   "source": [
    "!bzip2 -d 'shape_predictor_68_face_landmarks.dat.bz2'"
   ],
   "metadata": {
    "collapsed": false,
    "ExecuteTime": {
     "end_time": "2023-12-17T13:25:44.657813Z",
     "start_time": "2023-12-17T13:25:41.751509Z"
    }
   },
   "id": "b2a5bf1bd0b924b9"
  },
  {
   "cell_type": "code",
   "execution_count": 11,
   "id": "initial_id",
   "metadata": {
    "collapsed": true,
    "ExecuteTime": {
     "end_time": "2023-12-17T14:20:15.548288Z",
     "start_time": "2023-12-17T14:20:11.499148Z"
    }
   },
   "outputs": [],
   "source": [
    "import os, cv2\n",
    "from matplotlib import pyplot as plt\n",
    "import imageio\n",
    "import numpy as np\n",
    "import tensorflow as tf"
   ]
  },
  {
   "cell_type": "code",
   "execution_count": 12,
   "outputs": [],
   "source": [
    "# prevent exponential memory growth\n",
    "physical_devices = tf.config.list_physical_devices('GPU')\n",
    "try:\n",
    "    tf.config.experimental.set_memory_growth(physical_devices[0], True)\n",
    "except:\n",
    "    pass"
   ],
   "metadata": {
    "collapsed": false,
    "ExecuteTime": {
     "end_time": "2023-12-17T14:20:16.447684Z",
     "start_time": "2023-12-17T14:20:16.440331Z"
    }
   },
   "id": "95402e83aa9da9dd"
  },
  {
   "cell_type": "markdown",
   "source": [
    "# 2 Build Data Loading Functions"
   ],
   "metadata": {
    "collapsed": false
   },
   "id": "9f6d42c9475df34d"
  },
  {
   "cell_type": "code",
   "execution_count": 7,
   "outputs": [],
   "source": [
    "import gdown"
   ],
   "metadata": {
    "collapsed": false,
    "ExecuteTime": {
     "end_time": "2023-12-17T13:05:33.811225Z",
     "start_time": "2023-12-17T13:05:33.235658Z"
    }
   },
   "id": "154d965ebaf848"
  },
  {
   "cell_type": "code",
   "execution_count": 8,
   "outputs": [
    {
     "name": "stderr",
     "output_type": "stream",
     "text": [
      "Downloading...\n",
      "From (uriginal): https://drive.google.com/uc?id=1YlvpDLix3S-U8fd-gqRwPcWXAXm8JwjL\n",
      "From (redirected): https://drive.google.com/uc?id=1YlvpDLix3S-U8fd-gqRwPcWXAXm8JwjL&confirm=t&uuid=194c6072-65be-4133-ac1d-1ead7e84882f\n",
      "To: /Users/khizarbm/EDISS/portfolio/Lip-Reading-Model/data.zip\n",
      "100%|██████████| 423M/423M [00:44<00:00, 9.56MB/s] \n"
     ]
    },
    {
     "data": {
      "text/plain": "['data/',\n 'data/alignments/',\n 'data/alignments/s1/',\n 'data/alignments/s1/bbaf2n.align',\n 'data/alignments/s1/bbaf3s.align',\n 'data/alignments/s1/bbaf4p.align',\n 'data/alignments/s1/bbaf5a.align',\n 'data/alignments/s1/bbal6n.align',\n 'data/alignments/s1/bbal7s.align',\n 'data/alignments/s1/bbal8p.align',\n 'data/alignments/s1/bbal9a.align',\n 'data/alignments/s1/bbas1s.align',\n 'data/alignments/s1/bbas2p.align',\n 'data/alignments/s1/bbas3a.align',\n 'data/alignments/s1/bbaszn.align',\n 'data/alignments/s1/bbaz4n.align',\n 'data/alignments/s1/bbaz5s.align',\n 'data/alignments/s1/bbaz6p.align',\n 'data/alignments/s1/bbaz7a.align',\n 'data/alignments/s1/bbbf6n.align',\n 'data/alignments/s1/bbbf7s.align',\n 'data/alignments/s1/bbbf8p.align',\n 'data/alignments/s1/bbbf9a.align',\n 'data/alignments/s1/bbbm1s.align',\n 'data/alignments/s1/bbbm2p.align',\n 'data/alignments/s1/bbbm3a.align',\n 'data/alignments/s1/bbbmzn.align',\n 'data/alignments/s1/bbbs4n.align',\n 'data/alignments/s1/bbbs5s.align',\n 'data/alignments/s1/bbbs6p.align',\n 'data/alignments/s1/bbbs7a.align',\n 'data/alignments/s1/bbbz8n.align',\n 'data/alignments/s1/bbbz9s.align',\n 'data/alignments/s1/bbie8n.align',\n 'data/alignments/s1/bbie9s.align',\n 'data/alignments/s1/bbif1a.align',\n 'data/alignments/s1/bbifzp.align',\n 'data/alignments/s1/bbil2n.align',\n 'data/alignments/s1/bbil3s.align',\n 'data/alignments/s1/bbil4p.align',\n 'data/alignments/s1/bbil5a.align',\n 'data/alignments/s1/bbir6n.align',\n 'data/alignments/s1/bbir7s.align',\n 'data/alignments/s1/bbir8p.align',\n 'data/alignments/s1/bbir9a.align',\n 'data/alignments/s1/bbiz1s.align',\n 'data/alignments/s1/bbiz2p.align',\n 'data/alignments/s1/bbiz3a.align',\n 'data/alignments/s1/bbizzn.align',\n 'data/alignments/s1/bbwg1s.align',\n 'data/alignments/s1/bbwg2p.align',\n 'data/alignments/s1/bbwg3a.align',\n 'data/alignments/s1/bbwgzn.align',\n 'data/alignments/s1/bbwm4n.align',\n 'data/alignments/s1/bbwm5s.align',\n 'data/alignments/s1/bbwm6p.align',\n 'data/alignments/s1/bbwm7a.align',\n 'data/alignments/s1/bbws8n.align',\n 'data/alignments/s1/bbws9s.align',\n 'data/alignments/s1/bbwt1a.align',\n 'data/alignments/s1/bbwtzp.align',\n 'data/alignments/s1/bgaa6n.align',\n 'data/alignments/s1/bgaa7s.align',\n 'data/alignments/s1/bgaa8p.align',\n 'data/alignments/s1/bgaa9a.align',\n 'data/alignments/s1/bgah1s.align',\n 'data/alignments/s1/bgah2p.align',\n 'data/alignments/s1/bgah3a.align',\n 'data/alignments/s1/bgahzn.align',\n 'data/alignments/s1/bgan4n.align',\n 'data/alignments/s1/bgan5s.align',\n 'data/alignments/s1/bgan6p.align',\n 'data/alignments/s1/bgan7a.align',\n 'data/alignments/s1/bgat8n.align',\n 'data/alignments/s1/bgat9s.align',\n 'data/alignments/s1/bgau1a.align',\n 'data/alignments/s1/bgauzp.align',\n 'data/alignments/s1/bgbb1s.align',\n 'data/alignments/s1/bgbb2p.align',\n 'data/alignments/s1/bgbb3a.align',\n 'data/alignments/s1/bgbbzn.align',\n 'data/alignments/s1/bgbh4n.align',\n 'data/alignments/s1/bgbh5s.align',\n 'data/alignments/s1/bgbh6p.align',\n 'data/alignments/s1/bgbh7a.align',\n 'data/alignments/s1/bgbn8n.align',\n 'data/alignments/s1/bgbn9s.align',\n 'data/alignments/s1/bgbo1a.align',\n 'data/alignments/s1/bgbozp.align',\n 'data/alignments/s1/bgbu2n.align',\n 'data/alignments/s1/bgbu3s.align',\n 'data/alignments/s1/bgbu4p.align',\n 'data/alignments/s1/bgbu5a.align',\n 'data/alignments/s1/bgia2n.align',\n 'data/alignments/s1/bgia3s.align',\n 'data/alignments/s1/bgia4p.align',\n 'data/alignments/s1/bgia5a.align',\n 'data/alignments/s1/bgig6n.align',\n 'data/alignments/s1/bgig7s.align',\n 'data/alignments/s1/bgig8p.align',\n 'data/alignments/s1/bgig9a.align',\n 'data/alignments/s1/bgin1s.align',\n 'data/alignments/s1/bgin2p.align',\n 'data/alignments/s1/bgin3a.align',\n 'data/alignments/s1/bginzn.align',\n 'data/alignments/s1/bgit4n.align',\n 'data/alignments/s1/bgit5s.align',\n 'data/alignments/s1/bgit6p.align',\n 'data/alignments/s1/bgit7a.align',\n 'data/alignments/s1/bgwb4n.align',\n 'data/alignments/s1/bgwb5s.align',\n 'data/alignments/s1/bgwb6p.align',\n 'data/alignments/s1/bgwb7a.align',\n 'data/alignments/s1/bgwh8n.align',\n 'data/alignments/s1/bgwh9s.align',\n 'data/alignments/s1/bgwi1a.align',\n 'data/alignments/s1/bgwizp.align',\n 'data/alignments/s1/bgwo2n.align',\n 'data/alignments/s1/bgwo3s.align',\n 'data/alignments/s1/bgwo4p.align',\n 'data/alignments/s1/bgwo5a.align',\n 'data/alignments/s1/bgwu6n.align',\n 'data/alignments/s1/bgwu7s.align',\n 'data/alignments/s1/bgwu8p.align',\n 'data/alignments/s1/bgwu9a.align',\n 'data/alignments/s1/braf8n.align',\n 'data/alignments/s1/braf9s.align',\n 'data/alignments/s1/brag1a.align',\n 'data/alignments/s1/bragzp.align',\n 'data/alignments/s1/bram2n.align',\n 'data/alignments/s1/bram3s.align',\n 'data/alignments/s1/bram4p.align',\n 'data/alignments/s1/bram5a.align',\n 'data/alignments/s1/bras6n.align',\n 'data/alignments/s1/bras7s.align',\n 'data/alignments/s1/bras8p.align',\n 'data/alignments/s1/bras9a.align',\n 'data/alignments/s1/brba1a.align',\n 'data/alignments/s1/brbazp.align',\n 'data/alignments/s1/brbg2n.align',\n 'data/alignments/s1/brbg3s.align',\n 'data/alignments/s1/brbg4p.align',\n 'data/alignments/s1/brbg5a.align',\n 'data/alignments/s1/brbm6n.align',\n 'data/alignments/s1/brbm7s.align',\n 'data/alignments/s1/brbm8p.align',\n 'data/alignments/s1/brbm9a.align',\n 'data/alignments/s1/brbt1s.align',\n 'data/alignments/s1/brbt2p.align',\n 'data/alignments/s1/brbt3a.align',\n 'data/alignments/s1/brbtzn.align',\n 'data/alignments/s1/brif4n.align',\n 'data/alignments/s1/brif5s.align',\n 'data/alignments/s1/brif6p.align',\n 'data/alignments/s1/brif7a.align',\n 'data/alignments/s1/bril8n.align',\n 'data/alignments/s1/bril9s.align',\n 'data/alignments/s1/brim1a.align',\n 'data/alignments/s1/brimzp.align',\n 'data/alignments/s1/bris2n.align',\n 'data/alignments/s1/bris3s.align',\n 'data/alignments/s1/bris4p.align',\n 'data/alignments/s1/bris5a.align',\n 'data/alignments/s1/briz6n.align',\n 'data/alignments/s1/briz7s.align',\n 'data/alignments/s1/briz8p.align',\n 'data/alignments/s1/briz9a.align',\n 'data/alignments/s1/brwa2n.align',\n 'data/alignments/s1/brwa3s.align',\n 'data/alignments/s1/brwa4p.align',\n 'data/alignments/s1/brwa5a.align',\n 'data/alignments/s1/brwg6n.align',\n 'data/alignments/s1/brwg7s.align',\n 'data/alignments/s1/brwg8p.align',\n 'data/alignments/s1/brwg9a.align',\n 'data/alignments/s1/brwn1s.align',\n 'data/alignments/s1/brwn2p.align',\n 'data/alignments/s1/brwn3a.align',\n 'data/alignments/s1/brwnzn.align',\n 'data/alignments/s1/brwt4n.align',\n 'data/alignments/s1/brwt5s.align',\n 'data/alignments/s1/brwt6p.align',\n 'data/alignments/s1/brwt7a.align',\n 'data/alignments/s1/bwaa1s.align',\n 'data/alignments/s1/bwaa2p.align',\n 'data/alignments/s1/bwaa3a.align',\n 'data/alignments/s1/bwaazn.align',\n 'data/alignments/s1/bwag4n.align',\n 'data/alignments/s1/bwag5s.align',\n 'data/alignments/s1/bwag6p.align',\n 'data/alignments/s1/bwag7a.align',\n 'data/alignments/s1/bwam8n.align',\n 'data/alignments/s1/bwam9s.align',\n 'data/alignments/s1/bwan1a.align',\n 'data/alignments/s1/bwanzp.align',\n 'data/alignments/s1/bwat2n.align',\n 'data/alignments/s1/bwat3s.align',\n 'data/alignments/s1/bwat4p.align',\n 'data/alignments/s1/bwat5a.align',\n 'data/alignments/s1/bwba4n.align',\n 'data/alignments/s1/bwba5s.align',\n 'data/alignments/s1/bwba6p.align',\n 'data/alignments/s1/bwba7a.align',\n 'data/alignments/s1/bwbg8n.align',\n 'data/alignments/s1/bwbg9s.align',\n 'data/alignments/s1/bwbh1a.align',\n 'data/alignments/s1/bwbhzp.align',\n 'data/alignments/s1/bwbn2n.align',\n 'data/alignments/s1/bwbn3s.align',\n 'data/alignments/s1/bwbn4p.align',\n 'data/alignments/s1/bwbn5a.align',\n 'data/alignments/s1/bwbt6n.align',\n 'data/alignments/s1/bwbt7s.align',\n 'data/alignments/s1/bwbt8p.align',\n 'data/alignments/s1/bwbt9a.align',\n 'data/alignments/s1/bwig1s.align',\n 'data/alignments/s1/bwig2p.align',\n 'data/alignments/s1/bwig3a.align',\n 'data/alignments/s1/bwigzn.align',\n 'data/alignments/s1/bwim4n.align',\n 'data/alignments/s1/bwim5s.align',\n 'data/alignments/s1/bwim6p.align',\n 'data/alignments/s1/bwim7a.align',\n 'data/alignments/s1/bwis8n.align',\n 'data/alignments/s1/bwis9s.align',\n 'data/alignments/s1/bwit1a.align',\n 'data/alignments/s1/bwitzp.align',\n 'data/alignments/s1/bwwa8n.align',\n 'data/alignments/s1/bwwa9s.align',\n 'data/alignments/s1/bwwb1a.align',\n 'data/alignments/s1/bwwbzp.align',\n 'data/alignments/s1/bwwh2n.align',\n 'data/alignments/s1/bwwh3s.align',\n 'data/alignments/s1/bwwh4p.align',\n 'data/alignments/s1/bwwh5a.align',\n 'data/alignments/s1/bwwn6n.align',\n 'data/alignments/s1/bwwn7s.align',\n 'data/alignments/s1/bwwn8p.align',\n 'data/alignments/s1/bwwn9a.align',\n 'data/alignments/s1/bwwu1s.align',\n 'data/alignments/s1/bwwu2p.align',\n 'data/alignments/s1/bwwu3a.align',\n 'data/alignments/s1/bwwuzn.align',\n 'data/alignments/s1/lbad6n.align',\n 'data/alignments/s1/lbad7s.align',\n 'data/alignments/s1/lbad8p.align',\n 'data/alignments/s1/lbad9a.align',\n 'data/alignments/s1/lbak1s.align',\n 'data/alignments/s1/lbak2p.align',\n 'data/alignments/s1/lbak3a.align',\n 'data/alignments/s1/lbakzn.align',\n 'data/alignments/s1/lbaq4n.align',\n 'data/alignments/s1/lbaq5s.align',\n 'data/alignments/s1/lbaq6p.align',\n 'data/alignments/s1/lbaq7a.align',\n 'data/alignments/s1/lbax8n.align',\n 'data/alignments/s1/lbax9s.align',\n 'data/alignments/s1/lbay1a.align',\n 'data/alignments/s1/lbayzp.align',\n 'data/alignments/s1/lbbe1s.align',\n 'data/alignments/s1/lbbe2p.align',\n 'data/alignments/s1/lbbe3a.align',\n 'data/alignments/s1/lbbezn.align',\n 'data/alignments/s1/lbbk4n.align',\n 'data/alignments/s1/lbbk5s.align',\n 'data/alignments/s1/lbbk6p.align',\n 'data/alignments/s1/lbbk7a.align',\n 'data/alignments/s1/lbbq8n.align',\n 'data/alignments/s1/lbbq9s.align',\n 'data/alignments/s1/lbbr1a.align',\n 'data/alignments/s1/lbbrzp.align',\n 'data/alignments/s1/lbby2n.align',\n 'data/alignments/s1/lbby3s.align',\n 'data/alignments/s1/lbby4p.align',\n 'data/alignments/s1/lbby5a.align',\n 'data/alignments/s1/lbid2n.align',\n 'data/alignments/s1/lbid3s.align',\n 'data/alignments/s1/lbid4p.align',\n 'data/alignments/s1/lbid5a.align',\n 'data/alignments/s1/lbij6n.align',\n 'data/alignments/s1/lbij7s.align',\n 'data/alignments/s1/lbij8p.align',\n 'data/alignments/s1/lbij9a.align',\n 'data/alignments/s1/lbiq1s.align',\n 'data/alignments/s1/lbiq2p.align',\n 'data/alignments/s1/lbiq3a.align',\n 'data/alignments/s1/lbiqzn.align',\n 'data/alignments/s1/lbix4n.align',\n 'data/alignments/s1/lbix5s.align',\n 'data/alignments/s1/lbix6p.align',\n 'data/alignments/s1/lbix7a.align',\n 'data/alignments/s1/lbwe4n.align',\n 'data/alignments/s1/lbwe5s.align',\n 'data/alignments/s1/lbwe6p.align',\n 'data/alignments/s1/lbwe7a.align',\n 'data/alignments/s1/lbwk8n.align',\n 'data/alignments/s1/lbwk9s.align',\n 'data/alignments/s1/lbwl1a.align',\n 'data/alignments/s1/lbwlzp.align',\n 'data/alignments/s1/lbwr2n.align',\n 'data/alignments/s1/lbwr3s.align',\n 'data/alignments/s1/lbwr4p.align',\n 'data/alignments/s1/lbwr5a.align',\n 'data/alignments/s1/lbwy6n.align',\n 'data/alignments/s1/lbwy7s.align',\n 'data/alignments/s1/lbwy8p.align',\n 'data/alignments/s1/lbwy9a.align',\n 'data/alignments/s1/lgaf4n.align',\n 'data/alignments/s1/lgaf5s.align',\n 'data/alignments/s1/lgaf6p.align',\n 'data/alignments/s1/lgaf7a.align',\n 'data/alignments/s1/lgal8n.align',\n 'data/alignments/s1/lgal9s.align',\n 'data/alignments/s1/lgam1a.align',\n 'data/alignments/s1/lgamzp.align',\n 'data/alignments/s1/lgas2n.align',\n 'data/alignments/s1/lgas3s.align',\n 'data/alignments/s1/lgas4p.align',\n 'data/alignments/s1/lgas5a.align',\n 'data/alignments/s1/lgaz6n.align',\n 'data/alignments/s1/lgaz7s.align',\n 'data/alignments/s1/lgaz8p.align',\n 'data/alignments/s1/lgaz9a.align',\n 'data/alignments/s1/lgbf8n.align',\n 'data/alignments/s1/lgbf9s.align',\n 'data/alignments/s1/lgbg1a.align',\n 'data/alignments/s1/lgbgzp.align',\n 'data/alignments/s1/lgbm2n.align',\n 'data/alignments/s1/lgbm3s.align',\n 'data/alignments/s1/lgbm4p.align',\n 'data/alignments/s1/lgbm5a.align',\n 'data/alignments/s1/lgbs6n.align',\n 'data/alignments/s1/lgbs7s.align',\n 'data/alignments/s1/lgbs8p.align',\n 'data/alignments/s1/lgbs9a.align',\n 'data/alignments/s1/lgif1s.align',\n 'data/alignments/s1/lgif2p.align',\n 'data/alignments/s1/lgif3a.align',\n 'data/alignments/s1/lgifzn.align',\n 'data/alignments/s1/lgil4n.align',\n 'data/alignments/s1/lgil5s.align',\n 'data/alignments/s1/lgil6p.align',\n 'data/alignments/s1/lgil7a.align',\n 'data/alignments/s1/lgir8n.align',\n 'data/alignments/s1/lgir9s.align',\n 'data/alignments/s1/lgis1a.align',\n 'data/alignments/s1/lgiszp.align',\n 'data/alignments/s1/lgiz2n.align',\n 'data/alignments/s1/lgiz3s.align',\n 'data/alignments/s1/lgiz4p.align',\n 'data/alignments/s1/lgiz5a.align',\n 'data/alignments/s1/lgwa1a.align',\n 'data/alignments/s1/lgwazp.align',\n 'data/alignments/s1/lgwg2n.align',\n 'data/alignments/s1/lgwg3s.align',\n 'data/alignments/s1/lgwg4p.align',\n 'data/alignments/s1/lgwg5a.align',\n 'data/alignments/s1/lgwm6n.align',\n 'data/alignments/s1/lgwm7s.align',\n 'data/alignments/s1/lgwm8p.align',\n 'data/alignments/s1/lgwm9a.align',\n 'data/alignments/s1/lgwt1s.align',\n 'data/alignments/s1/lgwt2p.align',\n 'data/alignments/s1/lgwt3a.align',\n 'data/alignments/s1/lgwtzn.align',\n 'data/alignments/s1/lrae2n.align',\n 'data/alignments/s1/lrae3s.align',\n 'data/alignments/s1/lrae4p.align',\n 'data/alignments/s1/lrae5a.align',\n 'data/alignments/s1/lrak6n.align',\n 'data/alignments/s1/lrak7s.align',\n 'data/alignments/s1/lrak8p.align',\n 'data/alignments/s1/lrak9a.align',\n 'data/alignments/s1/lrar1s.align',\n 'data/alignments/s1/lrar2p.align',\n 'data/alignments/s1/lrar3a.align',\n 'data/alignments/s1/lrarzn.align',\n 'data/alignments/s1/lray4n.align',\n 'data/alignments/s1/lray5s.align',\n 'data/alignments/s1/lray6p.align',\n 'data/alignments/s1/lray7a.align',\n 'data/alignments/s1/lrbe6n.align',\n 'data/alignments/s1/lrbe7s.align',\n 'data/alignments/s1/lrbe8p.align',\n 'data/alignments/s1/lrbe9a.align',\n 'data/alignments/s1/lrbl1s.align',\n 'data/alignments/s1/lrbl2p.align',\n 'data/alignments/s1/lrbl3a.align',\n 'data/alignments/s1/lrblzn.align',\n 'data/alignments/s1/lrbr4n.align',\n 'data/alignments/s1/lrbr5s.align',\n 'data/alignments/s1/lrbr6p.align',\n 'data/alignments/s1/lrbr7a.align',\n 'data/alignments/s1/lrby8n.align',\n 'data/alignments/s1/lrby9s.align',\n 'data/alignments/s1/lrbz1a.align',\n 'data/alignments/s1/lrbzzp.align',\n 'data/alignments/s1/lrid8n.align',\n 'data/alignments/s1/lrid9s.align',\n 'data/alignments/s1/lrie1a.align',\n 'data/alignments/s1/lriezp.align',\n 'data/alignments/s1/lrik2n.align',\n 'data/alignments/s1/lrik3s.align',\n 'data/alignments/s1/lrik4p.align',\n 'data/alignments/s1/lrik5a.align',\n 'data/alignments/s1/lriq6n.align',\n 'data/alignments/s1/lriq7s.align',\n 'data/alignments/s1/lriq8p.align',\n 'data/alignments/s1/lriq9a.align',\n 'data/alignments/s1/lriy1s.align',\n 'data/alignments/s1/lriy2p.align',\n 'data/alignments/s1/lriy3a.align',\n 'data/alignments/s1/lriyzn.align',\n 'data/alignments/s1/lrwf1s.align',\n 'data/alignments/s1/lrwf2p.align',\n 'data/alignments/s1/lrwf3a.align',\n 'data/alignments/s1/lrwfzn.align',\n 'data/alignments/s1/lrwl4n.align',\n 'data/alignments/s1/lrwl5s.align',\n 'data/alignments/s1/lrwl6p.align',\n 'data/alignments/s1/lrwl7a.align',\n 'data/alignments/s1/lrwr8n.align',\n 'data/alignments/s1/lrwr9s.align',\n 'data/alignments/s1/lrws1a.align',\n 'data/alignments/s1/lrwszp.align',\n 'data/alignments/s1/lrwz2n.align',\n 'data/alignments/s1/lrwz3s.align',\n 'data/alignments/s1/lrwz4p.align',\n 'data/alignments/s1/lrwz5a.align',\n 'data/alignments/s1/lwae8n.align',\n 'data/alignments/s1/lwae9s.align',\n 'data/alignments/s1/lwaf1a.align',\n 'data/alignments/s1/lwafzp.align',\n 'data/alignments/s1/lwal2n.align',\n 'data/alignments/s1/lwal3s.align',\n 'data/alignments/s1/lwal4p.align',\n 'data/alignments/s1/lwal5a.align',\n 'data/alignments/s1/lwar6n.align',\n 'data/alignments/s1/lwar7s.align',\n 'data/alignments/s1/lwar8p.align',\n 'data/alignments/s1/lwar9a.align',\n 'data/alignments/s1/lwaz1s.align',\n 'data/alignments/s1/lwaz2p.align',\n 'data/alignments/s1/lwaz3a.align',\n 'data/alignments/s1/lwazzn.align',\n 'data/alignments/s1/lwbf2n.align',\n 'data/alignments/s1/lwbf3s.align',\n 'data/alignments/s1/lwbf4p.align',\n 'data/alignments/s1/lwbf5a.align',\n 'data/alignments/s1/lwbl6n.align',\n 'data/alignments/s1/lwbl7s.align',\n 'data/alignments/s1/lwbl8p.align',\n 'data/alignments/s1/lwbl9a.align',\n 'data/alignments/s1/lwbs1s.align',\n 'data/alignments/s1/lwbs2p.align',\n 'data/alignments/s1/lwbs3a.align',\n 'data/alignments/s1/lwbszn.align',\n 'data/alignments/s1/lwbz4n.align',\n 'data/alignments/s1/lwbz5s.align',\n 'data/alignments/s1/lwbz6p.align',\n 'data/alignments/s1/lwbz7a.align',\n 'data/alignments/s1/lwie4n.align',\n 'data/alignments/s1/lwie5s.align',\n 'data/alignments/s1/lwie6p.align',\n 'data/alignments/s1/lwie7a.align',\n 'data/alignments/s1/lwik8n.align',\n 'data/alignments/s1/lwik9s.align',\n 'data/alignments/s1/lwil1a.align',\n 'data/alignments/s1/lwilzp.align',\n 'data/alignments/s1/lwir2n.align',\n 'data/alignments/s1/lwir3s.align',\n 'data/alignments/s1/lwir4p.align',\n 'data/alignments/s1/lwir5a.align',\n 'data/alignments/s1/lwiy6n.align',\n 'data/alignments/s1/lwiy7s.align',\n 'data/alignments/s1/lwiy8p.align',\n 'data/alignments/s1/lwiy9a.align',\n 'data/alignments/s1/lwwf6n.align',\n 'data/alignments/s1/lwwf7s.align',\n 'data/alignments/s1/lwwf8p.align',\n 'data/alignments/s1/lwwf9a.align',\n 'data/alignments/s1/lwwm1s.align',\n 'data/alignments/s1/lwwm2p.align',\n 'data/alignments/s1/lwwm3a.align',\n 'data/alignments/s1/lwwmzn.align',\n 'data/alignments/s1/lwws4n.align',\n 'data/alignments/s1/lwws5s.align',\n 'data/alignments/s1/lwws6p.align',\n 'data/alignments/s1/lwws7a.align',\n 'data/alignments/s1/lwwz8n.align',\n 'data/alignments/s1/lwwz9s.align',\n 'data/alignments/s1/pbac1s.align',\n 'data/alignments/s1/pbac2p.align',\n 'data/alignments/s1/pbac3a.align',\n 'data/alignments/s1/pbaczn.align',\n 'data/alignments/s1/pbai4n.align',\n 'data/alignments/s1/pbai5s.align',\n 'data/alignments/s1/pbai6p.align',\n 'data/alignments/s1/pbai7a.align',\n 'data/alignments/s1/pbao8n.align',\n 'data/alignments/s1/pbao9s.align',\n 'data/alignments/s1/pbap1a.align',\n 'data/alignments/s1/pbapzp.align',\n 'data/alignments/s1/pbav2n.align',\n 'data/alignments/s1/pbav3s.align',\n 'data/alignments/s1/pbav4p.align',\n 'data/alignments/s1/pbav5a.align',\n 'data/alignments/s1/pbbc4n.align',\n 'data/alignments/s1/pbbc5s.align',\n 'data/alignments/s1/pbbc6p.align',\n 'data/alignments/s1/pbbc7a.align',\n 'data/alignments/s1/pbbi8n.align',\n 'data/alignments/s1/pbbi9s.align',\n 'data/alignments/s1/pbbj1a.align',\n 'data/alignments/s1/pbbjzp.align',\n 'data/alignments/s1/pbbp2n.align',\n 'data/alignments/s1/pbbp3s.align',\n 'data/alignments/s1/pbbp4p.align',\n 'data/alignments/s1/pbbp5a.align',\n 'data/alignments/s1/pbbv6n.align',\n 'data/alignments/s1/pbbv7s.align',\n 'data/alignments/s1/pbbv8p.align',\n 'data/alignments/s1/pbbv9a.align',\n 'data/alignments/s1/pbib6n.align',\n 'data/alignments/s1/pbib7s.align',\n 'data/alignments/s1/pbib8p.align',\n 'data/alignments/s1/pbib9a.align',\n 'data/alignments/s1/pbii1s.align',\n 'data/alignments/s1/pbii2p.align',\n 'data/alignments/s1/pbii3a.align',\n 'data/alignments/s1/pbiizn.align',\n 'data/alignments/s1/pbio4n.align',\n 'data/alignments/s1/pbio5s.align',\n 'data/alignments/s1/pbio6p.align',\n 'data/alignments/s1/pbio7a.align',\n 'data/alignments/s1/pbiu8n.align',\n 'data/alignments/s1/pbiu9s.align',\n 'data/alignments/s1/pbiv1a.align',\n 'data/alignments/s1/pbivzp.align',\n 'data/alignments/s1/pbwc8n.align',\n 'data/alignments/s1/pbwc9s.align',\n 'data/alignments/s1/pbwd1a.align',\n 'data/alignments/s1/pbwdzp.align',\n 'data/alignments/s1/pbwj2n.align',\n 'data/alignments/s1/pbwj3s.align',\n 'data/alignments/s1/pbwj4p.align',\n 'data/alignments/s1/pbwj5a.align',\n 'data/alignments/s1/pbwp6n.align',\n 'data/alignments/s1/pbwp7s.align',\n 'data/alignments/s1/pbwp8p.align',\n 'data/alignments/s1/pbwp9a.align',\n 'data/alignments/s1/pbwx1s.align',\n 'data/alignments/s1/pbwx2p.align',\n 'data/alignments/s1/pbwx3a.align',\n 'data/alignments/s1/pbwxzn.align',\n 'data/alignments/s1/pgad8n.align',\n 'data/alignments/s1/pgad9s.align',\n 'data/alignments/s1/pgae1a.align',\n 'data/alignments/s1/pgaezp.align',\n 'data/alignments/s1/pgak2n.align',\n 'data/alignments/s1/pgak3s.align',\n 'data/alignments/s1/pgak4p.align',\n 'data/alignments/s1/pgak5a.align',\n 'data/alignments/s1/pgaq6n.align',\n 'data/alignments/s1/pgaq7s.align',\n 'data/alignments/s1/pgaq8p.align',\n 'data/alignments/s1/pgaq9a.align',\n 'data/alignments/s1/pgay1s.align',\n 'data/alignments/s1/pgay2p.align',\n 'data/alignments/s1/pgay3a.align',\n 'data/alignments/s1/pgayzn.align',\n 'data/alignments/s1/pgbe2n.align',\n 'data/alignments/s1/pgbe3s.align',\n 'data/alignments/s1/pgbe4p.align',\n 'data/alignments/s1/pgbe5a.align',\n 'data/alignments/s1/pgbk6n.align',\n 'data/alignments/s1/pgbk7s.align',\n 'data/alignments/s1/pgbk8p.align',\n 'data/alignments/s1/pgbk9a.align',\n 'data/alignments/s1/pgbr1s.align',\n 'data/alignments/s1/pgbr2p.align',\n 'data/alignments/s1/pgbr3a.align',\n 'data/alignments/s1/pgbrzn.align',\n 'data/alignments/s1/pgby4n.align',\n 'data/alignments/s1/pgby5s.align',\n 'data/alignments/s1/pgby6p.align',\n 'data/alignments/s1/pgby7a.align',\n 'data/alignments/s1/pgid4n.align',\n 'data/alignments/s1/pgid5s.align',\n 'data/alignments/s1/pgid6p.align',\n 'data/alignments/s1/pgid7a.align',\n 'data/alignments/s1/pgij8n.align',\n 'data/alignments/s1/pgij9s.align',\n 'data/alignments/s1/pgik1a.align',\n 'data/alignments/s1/pgikzp.align',\n 'data/alignments/s1/pgiq2n.align',\n 'data/alignments/s1/pgiq3s.align',\n 'data/alignments/s1/pgiq4p.align',\n 'data/alignments/s1/pgiq5a.align',\n 'data/alignments/s1/pgix6n.align',\n 'data/alignments/s1/pgix7s.align',\n 'data/alignments/s1/pgix8p.align',\n 'data/alignments/s1/pgix9a.align',\n 'data/alignments/s1/pgwe6n.align',\n 'data/alignments/s1/pgwe7s.align',\n 'data/alignments/s1/pgwe8p.align',\n 'data/alignments/s1/pgwe9a.align',\n 'data/alignments/s1/pgwl1s.align',\n 'data/alignments/s1/pgwl2p.align',\n 'data/alignments/s1/pgwl3a.align',\n 'data/alignments/s1/pgwlzn.align',\n 'data/alignments/s1/pgwr4n.align',\n 'data/alignments/s1/pgwr5s.align',\n 'data/alignments/s1/pgwr6p.align',\n 'data/alignments/s1/pgwr7a.align',\n 'data/alignments/s1/pgwy8n.align',\n 'data/alignments/s1/pgwy9s.align',\n 'data/alignments/s1/pgwz1a.align',\n 'data/alignments/s1/pgwzzp.align',\n 'data/alignments/s1/prac6n.align',\n 'data/alignments/s1/prac7s.align',\n 'data/alignments/s1/prac8p.align',\n 'data/alignments/s1/prac9a.align',\n 'data/alignments/s1/praj1s.align',\n 'data/alignments/s1/praj2p.align',\n 'data/alignments/s1/praj3a.align',\n 'data/alignments/s1/prajzn.align',\n 'data/alignments/s1/prap4n.align',\n 'data/alignments/s1/prap5s.align',\n 'data/alignments/s1/prap6p.align',\n 'data/alignments/s1/prap7a.align',\n 'data/alignments/s1/prav8n.align',\n 'data/alignments/s1/prav9s.align',\n 'data/alignments/s1/prax1a.align',\n 'data/alignments/s1/praxzp.align',\n 'data/alignments/s1/prbd1s.align',\n 'data/alignments/s1/prbd2p.align',\n 'data/alignments/s1/prbd3a.align',\n 'data/alignments/s1/prbdzn.align',\n 'data/alignments/s1/prbj4n.align',\n 'data/alignments/s1/prbj5s.align',\n 'data/alignments/s1/prbj6p.align',\n 'data/alignments/s1/prbj7a.align',\n 'data/alignments/s1/prbp8n.align',\n 'data/alignments/s1/prbp9s.align',\n 'data/alignments/s1/prbq1a.align',\n 'data/alignments/s1/prbqzp.align',\n 'data/alignments/s1/prbx2n.align',\n 'data/alignments/s1/prbx3s.align',\n 'data/alignments/s1/prbx4p.align',\n 'data/alignments/s1/prbx5a.align',\n 'data/alignments/s1/pric2n.align',\n 'data/alignments/s1/pric3s.align',\n 'data/alignments/s1/pric4p.align',\n 'data/alignments/s1/pric5a.align',\n 'data/alignments/s1/prii6n.align',\n 'data/alignments/s1/prii7s.align',\n 'data/alignments/s1/prii8p.align',\n 'data/alignments/s1/prii9a.align',\n 'data/alignments/s1/prip1s.align',\n 'data/alignments/s1/prip2p.align',\n 'data/alignments/s1/prip3a.align',\n 'data/alignments/s1/pripzn.align',\n 'data/alignments/s1/priv4n.align',\n 'data/alignments/s1/priv5s.align',\n 'data/alignments/s1/priv6p.align',\n 'data/alignments/s1/priv7a.align',\n 'data/alignments/s1/prwd4n.align',\n 'data/alignments/s1/prwd5s.align',\n 'data/alignments/s1/prwd6p.align',\n 'data/alignments/s1/prwd7a.align',\n 'data/alignments/s1/prwj8n.align',\n 'data/alignments/s1/prwj9s.align',\n 'data/alignments/s1/prwk1a.align',\n 'data/alignments/s1/prwkzp.align',\n 'data/alignments/s1/prwq2n.align',\n 'data/alignments/s1/prwq3s.align',\n 'data/alignments/s1/prwq4p.align',\n 'data/alignments/s1/prwq5a.align',\n 'data/alignments/s1/prwx6n.align',\n 'data/alignments/s1/prwx7s.align',\n 'data/alignments/s1/prwx8p.align',\n 'data/alignments/s1/prwx9a.align',\n 'data/alignments/s1/pwad2n.align',\n 'data/alignments/s1/pwad3s.align',\n 'data/alignments/s1/pwad4p.align',\n 'data/alignments/s1/pwad5a.align',\n 'data/alignments/s1/pwaj6n.align',\n 'data/alignments/s1/pwaj7s.align',\n 'data/alignments/s1/pwaj8p.align',\n 'data/alignments/s1/pwaj9a.align',\n 'data/alignments/s1/pwaq1s.align',\n 'data/alignments/s1/pwaq2p.align',\n 'data/alignments/s1/pwaq3a.align',\n 'data/alignments/s1/pwaqzn.align',\n 'data/alignments/s1/pwax4n.align',\n 'data/alignments/s1/pwax5s.align',\n 'data/alignments/s1/pwax6p.align',\n 'data/alignments/s1/pwax7a.align',\n 'data/alignments/s1/pwbd6n.align',\n 'data/alignments/s1/pwbd7s.align',\n 'data/alignments/s1/pwbd8p.align',\n 'data/alignments/s1/pwbd9a.align',\n 'data/alignments/s1/pwbk1s.align',\n 'data/alignments/s1/pwbk2p.align',\n 'data/alignments/s1/pwbk3a.align',\n 'data/alignments/s1/pwbkzn.align',\n 'data/alignments/s1/pwbq4n.align',\n 'data/alignments/s1/pwbq5s.align',\n 'data/alignments/s1/pwbq6p.align',\n 'data/alignments/s1/pwbq7a.align',\n 'data/alignments/s1/pwbx8n.align',\n 'data/alignments/s1/pwbx9s.align',\n 'data/alignments/s1/pwby1a.align',\n 'data/alignments/s1/pwbyzp.align',\n 'data/alignments/s1/pwic8n.align',\n 'data/alignments/s1/pwic9s.align',\n 'data/alignments/s1/pwid1a.align',\n 'data/alignments/s1/pwidzp.align',\n 'data/alignments/s1/pwij2n.align',\n 'data/alignments/s1/pwij3s.align',\n 'data/alignments/s1/pwij4p.align',\n 'data/alignments/s1/pwij5a.align',\n 'data/alignments/s1/pwip6n.align',\n 'data/alignments/s1/pwip7s.align',\n 'data/alignments/s1/pwip8p.align',\n 'data/alignments/s1/pwip9a.align',\n 'data/alignments/s1/pwix1s.align',\n 'data/alignments/s1/pwix2p.align',\n 'data/alignments/s1/pwix3a.align',\n 'data/alignments/s1/pwixzn.align',\n 'data/alignments/s1/pwwe1s.align',\n 'data/alignments/s1/pwwe2p.align',\n 'data/alignments/s1/pwwe3a.align',\n 'data/alignments/s1/pwwezn.align',\n 'data/alignments/s1/pwwk4n.align',\n 'data/alignments/s1/pwwk5s.align',\n 'data/alignments/s1/pwwk6p.align',\n 'data/alignments/s1/pwwk7a.align',\n 'data/alignments/s1/pwwq8n.align',\n 'data/alignments/s1/pwwq9s.align',\n 'data/alignments/s1/pwwr1a.align',\n 'data/alignments/s1/pwwrzp.align',\n 'data/alignments/s1/pwwy2n.align',\n 'data/alignments/s1/pwwy3s.align',\n 'data/alignments/s1/pwwy4p.align',\n 'data/alignments/s1/pwwy5a.align',\n 'data/alignments/s1/sbaa4n.align',\n 'data/alignments/s1/sbaa5s.align',\n 'data/alignments/s1/sbaa6p.align',\n 'data/alignments/s1/sbaa7a.align',\n 'data/alignments/s1/sbag8n.align',\n 'data/alignments/s1/sbag9s.align',\n 'data/alignments/s1/sbah1a.align',\n 'data/alignments/s1/sbahzp.align',\n 'data/alignments/s1/sban2n.align',\n 'data/alignments/s1/sban3s.align',\n 'data/alignments/s1/sban4p.align',\n 'data/alignments/s1/sban5a.align',\n 'data/alignments/s1/sbat6n.align',\n 'data/alignments/s1/sbat7s.align',\n 'data/alignments/s1/sbat8p.align',\n 'data/alignments/s1/sbat9a.align',\n 'data/alignments/s1/sbba8n.align',\n 'data/alignments/s1/sbba9s.align',\n 'data/alignments/s1/sbbb1a.align',\n 'data/alignments/s1/sbbbzp.align',\n 'data/alignments/s1/sbbh2n.align',\n 'data/alignments/s1/sbbh3s.align',\n 'data/alignments/s1/sbbh4p.align',\n 'data/alignments/s1/sbbh5a.align',\n 'data/alignments/s1/sbbn6n.align',\n 'data/alignments/s1/sbbn7s.align',\n 'data/alignments/s1/sbbn8p.align',\n 'data/alignments/s1/sbbn9a.align',\n 'data/alignments/s1/sbbu1s.align',\n 'data/alignments/s1/sbbu2p.align',\n 'data/alignments/s1/sbbu3a.align',\n 'data/alignments/s1/sbbuzn.align',\n 'data/alignments/s1/sbia1s.align',\n 'data/alignments/s1/sbia2p.align',\n 'data/alignments/s1/sbia3a.align',\n 'data/alignments/s1/sbiazn.align',\n 'data/alignments/s1/sbig4n.align',\n 'data/alignments/s1/sbig5s.align',\n 'data/alignments/s1/sbig6p.align',\n 'data/alignments/s1/sbig7a.align',\n 'data/alignments/s1/sbim8n.align',\n 'data/alignments/s1/sbim9s.align',\n 'data/alignments/s1/sbin1a.align',\n 'data/alignments/s1/sbinzp.align',\n 'data/alignments/s1/sbit2n.align',\n 'data/alignments/s1/sbit3s.align',\n 'data/alignments/s1/sbit4p.align',\n 'data/alignments/s1/sbit5a.align',\n 'data/alignments/s1/sbwb2n.align',\n 'data/alignments/s1/sbwb3s.align',\n 'data/alignments/s1/sbwb4p.align',\n 'data/alignments/s1/sbwb5a.align',\n 'data/alignments/s1/sbwh6n.align',\n 'data/alignments/s1/sbwh7s.align',\n 'data/alignments/s1/sbwh8p.align',\n 'data/alignments/s1/sbwh9a.align',\n 'data/alignments/s1/sbwo1s.align',\n 'data/alignments/s1/sbwo2p.align',\n 'data/alignments/s1/sbwo3a.align',\n 'data/alignments/s1/sbwozn.align',\n 'data/alignments/s1/sbwu4n.align',\n 'data/alignments/s1/sbwu5s.align',\n 'data/alignments/s1/sbwu6p.align',\n 'data/alignments/s1/sbwu7a.align',\n 'data/alignments/s1/sgac2n.align',\n 'data/alignments/s1/sgac3s.align',\n 'data/alignments/s1/sgac4p.align',\n 'data/alignments/s1/sgac5a.align',\n 'data/alignments/s1/sgai6n.align',\n 'data/alignments/s1/sgai7s.align',\n 'data/alignments/s1/sgai8p.align',\n 'data/alignments/s1/sgai9a.align',\n 'data/alignments/s1/sgap1s.align',\n 'data/alignments/s1/sgap2p.align',\n 'data/alignments/s1/sgap3a.align',\n 'data/alignments/s1/sgapzn.align',\n 'data/alignments/s1/sgav4n.align',\n 'data/alignments/s1/sgav5s.align',\n 'data/alignments/s1/sgav6p.align',\n 'data/alignments/s1/sgav7a.align',\n 'data/alignments/s1/sgbc6n.align',\n 'data/alignments/s1/sgbc7s.align',\n 'data/alignments/s1/sgbc8p.align',\n 'data/alignments/s1/sgbc9a.align',\n 'data/alignments/s1/sgbj1s.align',\n 'data/alignments/s1/sgbj2p.align',\n 'data/alignments/s1/sgbj3a.align',\n 'data/alignments/s1/sgbjzn.align',\n 'data/alignments/s1/sgbp4n.align',\n 'data/alignments/s1/sgbp5s.align',\n 'data/alignments/s1/sgbp6p.align',\n 'data/alignments/s1/sgbp7a.align',\n 'data/alignments/s1/sgbv8n.align',\n 'data/alignments/s1/sgbv9s.align',\n 'data/alignments/s1/sgbx1a.align',\n 'data/alignments/s1/sgbxzp.align',\n 'data/alignments/s1/sgib8n.align',\n 'data/alignments/s1/sgib9s.align',\n 'data/alignments/s1/sgic1a.align',\n 'data/alignments/s1/sgiczp.align',\n 'data/alignments/s1/sgii2n.align',\n 'data/alignments/s1/sgii3s.align',\n 'data/alignments/s1/sgii4p.align',\n 'data/alignments/s1/sgii5a.align',\n 'data/alignments/s1/sgio6n.align',\n 'data/alignments/s1/sgio7s.align',\n 'data/alignments/s1/sgio8p.align',\n 'data/alignments/s1/sgio9a.align',\n 'data/alignments/s1/sgiv1s.align',\n 'data/alignments/s1/sgiv2p.align',\n 'data/alignments/s1/sgiv3a.align',\n 'data/alignments/s1/sgivzn.align',\n 'data/alignments/s1/sgwd1s.align',\n 'data/alignments/s1/sgwd2p.align',\n 'data/alignments/s1/sgwd3a.align',\n 'data/alignments/s1/sgwdzn.align',\n 'data/alignments/s1/sgwj4n.align',\n 'data/alignments/s1/sgwj5s.align',\n 'data/alignments/s1/sgwj6p.align',\n 'data/alignments/s1/sgwj7a.align',\n 'data/alignments/s1/sgwp8n.align',\n 'data/alignments/s1/sgwp9s.align',\n 'data/alignments/s1/sgwq1a.align',\n 'data/alignments/s1/sgwqzp.align',\n 'data/alignments/s1/sgwx2n.align',\n 'data/alignments/s1/sgwx3s.align',\n 'data/alignments/s1/sgwx4p.align',\n 'data/alignments/s1/sgwx5a.align',\n 'data/alignments/s1/srab1s.align',\n 'data/alignments/s1/srab2p.align',\n 'data/alignments/s1/srab3a.align',\n 'data/alignments/s1/srabzn.align',\n 'data/alignments/s1/srah4n.align',\n 'data/alignments/s1/srah5s.align',\n 'data/alignments/s1/srah6p.align',\n 'data/alignments/s1/srah7a.align',\n 'data/alignments/s1/sran8n.align',\n 'data/alignments/s1/sran9s.align',\n 'data/alignments/s1/srao1a.align',\n 'data/alignments/s1/sraozp.align',\n 'data/alignments/s1/srau2n.align',\n 'data/alignments/s1/srau3s.align',\n 'data/alignments/s1/srau4p.align',\n 'data/alignments/s1/srau5a.align',\n 'data/alignments/s1/srbb4n.align',\n 'data/alignments/s1/srbb5s.align',\n 'data/alignments/s1/srbb6p.align',\n 'data/alignments/s1/srbb7a.align',\n 'data/alignments/s1/srbh8n.align',\n 'data/alignments/s1/srbh9s.align',\n 'data/alignments/s1/srbi1a.align',\n 'data/alignments/s1/srbizp.align',\n 'data/alignments/s1/srbo2n.align',\n 'data/alignments/s1/srbo3s.align',\n 'data/alignments/s1/srbo4p.align',\n 'data/alignments/s1/srbo5a.align',\n 'data/alignments/s1/srbu6n.align',\n 'data/alignments/s1/srbu7s.align',\n 'data/alignments/s1/srbu8p.align',\n 'data/alignments/s1/srbu9a.align',\n 'data/alignments/s1/sria6n.align',\n 'data/alignments/s1/sria7s.align',\n 'data/alignments/s1/sria8p.align',\n 'data/alignments/s1/sria9a.align',\n 'data/alignments/s1/srih1s.align',\n 'data/alignments/s1/srih2p.align',\n 'data/alignments/s1/srih3a.align',\n 'data/alignments/s1/srihzn.align',\n 'data/alignments/s1/srin4n.align',\n 'data/alignments/s1/srin5s.align',\n 'data/alignments/s1/srin6p.align',\n 'data/alignments/s1/srin7a.align',\n 'data/alignments/s1/srit8n.align',\n 'data/alignments/s1/srit9s.align',\n 'data/alignments/s1/sriu1a.align',\n 'data/alignments/s1/sriuzp.align',\n 'data/alignments/s1/srwb8n.align',\n 'data/alignments/s1/srwb9s.align',\n 'data/alignments/s1/srwc1a.align',\n 'data/alignments/s1/srwczp.align',\n 'data/alignments/s1/srwi2n.align',\n 'data/alignments/s1/srwi3s.align',\n 'data/alignments/s1/srwi4p.align',\n 'data/alignments/s1/srwi5a.align',\n 'data/alignments/s1/srwo6n.align',\n 'data/alignments/s1/srwo7s.align',\n 'data/alignments/s1/srwo8p.align',\n 'data/alignments/s1/srwo9a.align',\n 'data/alignments/s1/srwv1s.align',\n 'data/alignments/s1/srwv2p.align',\n 'data/alignments/s1/srwv3a.align',\n 'data/alignments/s1/srwvzn.align',\n 'data/alignments/s1/swab6n.align',\n 'data/alignments/s1/swab7s.align',\n 'data/alignments/s1/swab8p.align',\n 'data/alignments/s1/swab9a.align',\n 'data/alignments/s1/swai1s.align',\n 'data/alignments/s1/swai2p.align',\n 'data/alignments/s1/swai3a.align',\n 'data/alignments/s1/swaizn.align',\n 'data/alignments/s1/swao4n.align',\n 'data/alignments/s1/swao5s.align',\n 'data/alignments/s1/swao6p.align',\n 'data/alignments/s1/swao7a.align',\n 'data/alignments/s1/swau8n.align',\n 'data/alignments/s1/swau9s.align',\n 'data/alignments/s1/swav1a.align',\n 'data/alignments/s1/swavzp.align',\n 'data/alignments/s1/swbc1s.align',\n 'data/alignments/s1/swbc2p.align',\n 'data/alignments/s1/swbc3a.align',\n 'data/alignments/s1/swbczn.align',\n 'data/alignments/s1/swbi4n.align',\n 'data/alignments/s1/swbi5s.align',\n 'data/alignments/s1/swbi6p.align',\n 'data/alignments/s1/swbi7a.align',\n 'data/alignments/s1/swbo8n.align',\n 'data/alignments/s1/swbo9s.align',\n 'data/alignments/s1/swbp1a.align',\n 'data/alignments/s1/swbpzp.align',\n 'data/alignments/s1/swbv2n.align',\n 'data/alignments/s1/swbv3s.align',\n 'data/alignments/s1/swbv4p.align',\n 'data/alignments/s1/swbv5a.align',\n 'data/alignments/s1/swib2n.align',\n 'data/alignments/s1/swib3s.align',\n 'data/alignments/s1/swib4p.align',\n 'data/alignments/s1/swib5a.align',\n 'data/alignments/s1/swih6n.align',\n 'data/alignments/s1/swih7s.align',\n 'data/alignments/s1/swih8p.align',\n 'data/alignments/s1/swih9a.align',\n 'data/alignments/s1/swio1s.align',\n 'data/alignments/s1/swio2p.align',\n 'data/alignments/s1/swio3a.align',\n 'data/alignments/s1/swiozn.align',\n 'data/alignments/s1/swiu4n.align',\n 'data/alignments/s1/swiu5s.align',\n 'data/alignments/s1/swiu6p.align',\n 'data/alignments/s1/swiu7a.align',\n 'data/alignments/s1/swwc4n.align',\n 'data/alignments/s1/swwc5s.align',\n 'data/alignments/s1/swwc6p.align',\n 'data/alignments/s1/swwc7a.align',\n 'data/alignments/s1/swwi8n.align',\n 'data/alignments/s1/swwi9s.align',\n 'data/alignments/s1/swwj1a.align',\n 'data/alignments/s1/swwjzp.align',\n 'data/alignments/s1/swwp2n.align',\n 'data/alignments/s1/swwp3s.align',\n 'data/alignments/s1/swwp4p.align',\n 'data/alignments/s1/swwp5a.align',\n 'data/alignments/s1/swwv6n.align',\n ...]"
     },
     "execution_count": 8,
     "metadata": {},
     "output_type": "execute_result"
    }
   ],
   "source": [
    "# downloading the dataset\n",
    "url = 'https://drive.google.com/uc?id=1YlvpDLix3S-U8fd-gqRwPcWXAXm8JwjL'\n",
    "output = 'data.zip'\n",
    "gdown.download(url,output, quiet=False)\n",
    "gdown.extractall(output)"
   ],
   "metadata": {
    "collapsed": false,
    "ExecuteTime": {
     "end_time": "2023-12-17T13:08:30.350984Z",
     "start_time": "2023-12-17T13:07:41.512694Z"
    }
   },
   "id": "a09ed743cdf3ad4"
  },
  {
   "cell_type": "code",
   "execution_count": 23,
   "outputs": [],
   "source": [
    "from imutils import face_utils\n",
    "import dlib"
   ],
   "metadata": {
    "collapsed": false,
    "ExecuteTime": {
     "end_time": "2023-12-17T14:21:24.741344Z",
     "start_time": "2023-12-17T14:21:24.736189Z"
    }
   },
   "id": "b9e28b02e153226b"
  },
  {
   "cell_type": "code",
   "execution_count": 14,
   "outputs": [],
   "source": [
    "\n",
    "# initialize dlib's face detector (HOG-based) and then create\n",
    "# the facial landmark predictor\n",
    "detector = dlib.get_frontal_face_detector()\n",
    "predictor = dlib.shape_predictor('./shape_predictor_68_face_landmarks.dat')"
   ],
   "metadata": {
    "collapsed": false,
    "ExecuteTime": {
     "end_time": "2023-12-17T14:20:22.139614Z",
     "start_time": "2023-12-17T14:20:22.138403Z"
    }
   },
   "id": "eab3e19bf8874e47"
  },
  {
   "cell_type": "code",
   "execution_count": 167,
   "outputs": [],
   "source": [
    "def get_roi(frame):\n",
    "    faces = detector(frame)\n",
    "    show = True\n",
    "    fixed_size = (100, 50)  # width x height\n",
    "\n",
    "    \n",
    "    for face in faces:\n",
    "        shape = predictor(frame, face)\n",
    "        shape = face_utils.shape_to_np(shape)\n",
    "        for (name, (i, j)) in face_utils.FACIAL_LANDMARKS_IDXS.items():\n",
    "            if name == \"mouth\":\n",
    "                # extract the ROI of the face region as a separate image\n",
    "                (x, y, w, h) = cv2.boundingRect(np.array([shape[i:j]]))\n",
    "                expansion_factor = 0.4  # e.g., 20% expansion\n",
    "                new_w = int(w * (1 + expansion_factor))\n",
    "                new_h = int(h * (1 + expansion_factor))\n",
    "                \n",
    "                # Adjust the top-left corner to compensate for the expansion\n",
    "                new_x = max(x - int(w * expansion_factor / 2), 0)\n",
    "                new_y = max(y - int(h * expansion_factor / 2), 0)\n",
    "\n",
    "                # Ensure the expanded ROI doesn't exceed the frame boundaries\n",
    "                new_x_end = min(new_x + new_w, frame.shape[1])\n",
    "                new_y_end = min(new_y + new_h, frame.shape[0])\n",
    "\n",
    "                roi = frame[new_y:new_y_end, new_x:new_x_end]\n",
    "                roi_resized = cv2.resize(roi, fixed_size)\n",
    "                return roi_resized\n",
    "    "
   ],
   "metadata": {
    "collapsed": false,
    "ExecuteTime": {
     "end_time": "2023-12-17T15:35:14.066894Z",
     "start_time": "2023-12-17T15:35:14.058792Z"
    }
   },
   "id": "3af74ac57a2182ec"
  },
  {
   "cell_type": "code",
   "execution_count": 175,
   "outputs": [],
   "source": [
    "def load_video(path):\n",
    "    cap = cv2.VideoCapture(path)\n",
    "    frames = []\n",
    "    for _ in range(int(cap.get(cv2.CAP_PROP_FRAME_COUNT))):\n",
    "        ret, frame = cap.read()\n",
    "        frame = cv2.cvtColor(frame, cv2.COLOR_BGRA2GRAY)\n",
    "        frames.append(tf.expand_dims(tf.image.convert_image_dtype(get_roi(frame), dtype=tf.uint8),-1))\n",
    "    cap.release()\n",
    "    \n",
    "    mean = tf.math.reduce_mean(frames)\n",
    "    std = tf.math.reduce_std(tf.cast(frames, tf.float32))\n",
    "    return tf.cast((frames - mean), tf.float32) / std"
   ],
   "metadata": {
    "collapsed": false,
    "ExecuteTime": {
     "end_time": "2023-12-17T15:35:26.914477Z",
     "start_time": "2023-12-17T15:35:26.913170Z"
    }
   },
   "id": "7bf6bc4a3fc140bb"
  },
  {
   "cell_type": "code",
   "execution_count": 176,
   "outputs": [],
   "source": [
    "vocab = [x for x in \"abcdefghijklmnopqrstuvwxyz'?!123456789 \"]"
   ],
   "metadata": {
    "collapsed": false,
    "ExecuteTime": {
     "end_time": "2023-12-17T15:35:27.194671Z",
     "start_time": "2023-12-17T15:35:27.185187Z"
    }
   },
   "id": "4ebd79cdb0527dfe"
  },
  {
   "cell_type": "code",
   "execution_count": 177,
   "outputs": [
    {
     "name": "stdout",
     "output_type": "stream",
     "text": [
      "The vocabulary is: ['', 'a', 'b', 'c', 'd', 'e', 'f', 'g', 'h', 'i', 'j', 'k', 'l', 'm', 'n', 'o', 'p', 'q', 'r', 's', 't', 'u', 'v', 'w', 'x', 'y', 'z', \"'\", '?', '!', '1', '2', '3', '4', '5', '6', '7', '8', '9', ' '](size =40)\n"
     ]
    }
   ],
   "source": [
    "char_to_num = tf.keras.layers.StringLookup(vocabulary = vocab, oov_token = \"\")\n",
    "num_to_char = tf.keras.layers.StringLookup(vocabulary = char_to_num.get_vocabulary(), oov_token=\"\", invert=True)\n",
    "\n",
    "print(\n",
    "    f\"The vocabulary is: {char_to_num.get_vocabulary()}\"\n",
    "    f\"(size ={char_to_num.vocabulary_size()})\"\n",
    ")"
   ],
   "metadata": {
    "collapsed": false,
    "ExecuteTime": {
     "end_time": "2023-12-17T15:35:27.383393Z",
     "start_time": "2023-12-17T15:35:27.372621Z"
    }
   },
   "id": "c337ad129b2ce741"
  },
  {
   "cell_type": "code",
   "execution_count": 178,
   "outputs": [],
   "source": [
    "def load_alignments(path):\n",
    "    with open(path, 'r') as f:\n",
    "        lines = f.readlines()\n",
    "        tokens = []\n",
    "        for line in lines:\n",
    "            line = line.split()\n",
    "            if line[2] != 'sil':\n",
    "                tokens = [*tokens, ' ', line[2]]\n",
    "        return char_to_num(tf.reshape(tf.strings.unicode_split(tokens, input_encoding='UTF-8'), (-1)))[1:]"
   ],
   "metadata": {
    "collapsed": false,
    "ExecuteTime": {
     "end_time": "2023-12-17T15:35:27.542799Z",
     "start_time": "2023-12-17T15:35:27.537346Z"
    }
   },
   "id": "107c541d32faacd9"
  },
  {
   "cell_type": "code",
   "execution_count": 179,
   "outputs": [],
   "source": [
    "def load_data(path):\n",
    "    path = path.numpy().decode('UTF-8')\n",
    "    file_name = os.path.splitext(os.path.basename(path))[0]\n",
    "    video_path = os.path.join('data', 's1', f'{file_name}.mpg')\n",
    "    alignment_path = os.path.join('data', 'alignments', 's1', f'{file_name}.align')\n",
    "    frames = load_video(video_path)\n",
    "    alignments = load_alignments(alignment_path)\n",
    "    \n",
    "    return frames, alignments"
   ],
   "metadata": {
    "collapsed": false,
    "ExecuteTime": {
     "end_time": "2023-12-17T15:35:27.734206Z",
     "start_time": "2023-12-17T15:35:27.728253Z"
    }
   },
   "id": "f9c0fa47c71681a3"
  },
  {
   "cell_type": "code",
   "execution_count": 180,
   "outputs": [],
   "source": [
    "test_path = './data/s1/bbaf2n.mpg'"
   ],
   "metadata": {
    "collapsed": false,
    "ExecuteTime": {
     "end_time": "2023-12-17T15:35:28.164464Z",
     "start_time": "2023-12-17T15:35:28.160768Z"
    }
   },
   "id": "d09fceeaffddf483"
  },
  {
   "cell_type": "code",
   "execution_count": 181,
   "outputs": [
    {
     "data": {
      "text/plain": "<tf.Tensor: shape=(50, 100, 1), dtype=float32, numpy=\narray([[[1.0411141 ],\n        [1.0884374 ],\n        [1.1830841 ],\n        ...,\n        [0.75717384],\n        [0.8518206 ],\n        [0.89914393]],\n\n       [[1.0411141 ],\n        [1.0884374 ],\n        [1.1830841 ],\n        ...,\n        [0.75717384],\n        [0.8518206 ],\n        [0.89914393]],\n\n       [[0.9937907 ],\n        [1.0411141 ],\n        [1.1357608 ],\n        ...,\n        [0.75717384],\n        [0.89914393],\n        [0.94646734]],\n\n       ...,\n\n       [[0.80449724],\n        [0.8518206 ],\n        [0.94646734],\n        ...,\n        [0.80449724],\n        [0.80449724],\n        [0.80449724]],\n\n       [[0.8518206 ],\n        [0.89914393],\n        [1.0411141 ],\n        ...,\n        [0.8518206 ],\n        [0.8518206 ],\n        [0.8518206 ]],\n\n       [[0.8518206 ],\n        [0.89914393],\n        [1.0411141 ],\n        ...,\n        [0.8518206 ],\n        [0.8518206 ],\n        [0.8518206 ]]], dtype=float32)>"
     },
     "execution_count": 181,
     "metadata": {},
     "output_type": "execute_result"
    }
   ],
   "source": [
    "frames, alignments = load_data(tf.convert_to_tensor(test_path))\n",
    "frames[2]"
   ],
   "metadata": {
    "collapsed": false,
    "ExecuteTime": {
     "end_time": "2023-12-17T15:35:29.201569Z",
     "start_time": "2023-12-17T15:35:28.563904Z"
    }
   },
   "id": "a24bf15df2c77d7d"
  },
  {
   "cell_type": "code",
   "execution_count": 182,
   "outputs": [
    {
     "data": {
      "text/plain": "<matplotlib.image.AxesImage at 0x2c6b264c0>"
     },
     "execution_count": 182,
     "metadata": {},
     "output_type": "execute_result"
    },
    {
     "data": {
      "text/plain": "<Figure size 640x480 with 1 Axes>",
      "image/png": "[encoded data removed]"
     },
     "metadata": {},
     "output_type": "display_data"
    }
   ],
   "source": [
    "plt.imshow(frames[2])"
   ],
   "metadata": {
    "collapsed": false,
    "ExecuteTime": {
     "end_time": "2023-12-17T15:35:41.479355Z",
     "start_time": "2023-12-17T15:35:41.386977Z"
    }
   },
   "id": "ec9d95fdf1fcc673"
  },
  {
   "cell_type": "code",
   "execution_count": 183,
   "outputs": [],
   "source": [
    "def mappable_function(path):\n",
    "    result = tf.py_function(load_data, [path], (tf.float32, tf.int64))\n",
    "    return result"
   ],
   "metadata": {
    "collapsed": false,
    "ExecuteTime": {
     "end_time": "2023-12-17T15:35:41.618301Z",
     "start_time": "2023-12-17T15:35:41.609549Z"
    }
   },
   "id": "b6b2df2942348518"
  },
  {
   "cell_type": "markdown",
   "source": [
    "# 3 Create Data Pipeline"
   ],
   "metadata": {
    "collapsed": false
   },
   "id": "61d2deeec1a51cfd"
  },
  {
   "cell_type": "code",
   "execution_count": 237,
   "outputs": [],
   "source": [
    "data = tf.data.Dataset.list_files('./data/s1/*.mpg')\n",
    "data = data.shuffle(500, reshuffle_each_iteration=False)\n",
    "data = data.map(mappable_function)\n",
    "data = data.padded_batch(2, padded_shapes=([75, None, None, None], [40]))\n",
    "data = data.prefetch(tf.data.AUTOTUNE)\n",
    "train = data.take(450)\n",
    "test = data.skip(450)"
   ],
   "metadata": {
    "collapsed": false,
    "ExecuteTime": {
     "end_time": "2023-12-17T21:54:57.726755Z",
     "start_time": "2023-12-17T21:54:57.581953Z"
    }
   },
   "id": "af232a923a7e7414"
  },
  {
   "cell_type": "code",
   "execution_count": 238,
   "outputs": [
    {
     "data": {
      "text/plain": "<matplotlib.image.AxesImage at 0x2ca0581c0>"
     },
     "execution_count": 238,
     "metadata": {},
     "output_type": "execute_result"
    },
    {
     "data": {
      "text/plain": "<Figure size 640x480 with 1 Axes>",
      "image/png": "[encoded data removed]"
     },
     "metadata": {},
     "output_type": "display_data"
    }
   ],
   "source": [
    "frames , alignments = data.as_numpy_iterator().next()\n",
    "plt.imshow(frames[0][1])"
   ],
   "metadata": {
    "collapsed": false,
    "ExecuteTime": {
     "end_time": "2023-12-17T21:55:04.376888Z",
     "start_time": "2023-12-17T21:55:01.856498Z"
    }
   },
   "id": "65d7a1368973b8f4"
  },
  {
   "cell_type": "code",
   "execution_count": 239,
   "outputs": [],
   "source": [
    "from PIL import Image\n",
    "\n",
    "imageio.mimsave('./animation.gif', tf.image.convert_image_dtype(tf.image.resize(tf.squeeze(frames[0],-1),(600,50)),dtype=tf.uint8), fps=20)"
   ],
   "metadata": {
    "collapsed": false,
    "ExecuteTime": {
     "end_time": "2023-12-17T21:55:05.510093Z",
     "start_time": "2023-12-17T21:55:05.355524Z"
    }
   },
   "id": "c9e91ab3448737b9"
  },
  {
   "cell_type": "markdown",
   "source": [
    "# 4 Building the Model"
   ],
   "metadata": {
    "collapsed": false
   },
   "id": "b2ff69027bd07411"
  },
  {
   "cell_type": "code",
   "execution_count": 240,
   "outputs": [],
   "source": [
    "from tensorflow.keras.models import Sequential\n",
    "from tensorflow.keras.layers import Conv3D, LSTM, Dense, Dropout, Bidirectional, MaxPool3D, Activation, Reshape, TimeDistributed, Flatten\n",
    "from tensorflow.keras.optimizers import Adam\n",
    "from tensorflow.keras.callbacks import ModelCheckpoint, LearningRateScheduler\n"
   ],
   "metadata": {
    "collapsed": false,
    "ExecuteTime": {
     "end_time": "2023-12-17T21:55:06.580900Z",
     "start_time": "2023-12-17T21:55:06.579816Z"
    }
   },
   "id": "15f0c3a5c99aec14"
  },
  {
   "cell_type": "code",
   "execution_count": 241,
   "outputs": [],
   "source": [
    "model = Sequential()\n",
    "model.add(Conv3D(128, 3, input_shape=(75,50,100,1), padding='same', activation='relu'))\n",
    "model.add(MaxPool3D((1,2,2)))\n",
    "\n",
    "model.add(Conv3D(256, 3, padding='same', activation='relu'))\n",
    "model.add(MaxPool3D((1,2,2)))\n",
    "\n",
    "model.add(Conv3D(75, 3, padding='same', activation='relu'))\n",
    "model.add(MaxPool3D((1,2,2)))\n",
    "\n",
    "model.add(TimeDistributed(Flatten()))\n",
    "\n",
    "model.add(Bidirectional(LSTM(128, kernel_initializer='Orthogonal', return_sequences=True)))\n",
    "model.add(Dropout(0.5))\n",
    "\n",
    "model.add(Bidirectional(LSTM(128, kernel_initializer='Orthogonal', return_sequences=True)))\n",
    "model.add(Dropout(0.5))\n",
    "\n",
    "model.add(Dense(char_to_num.vocabulary_size()+1, kernel_initializer='he_normal', activation='softmax'))\n"
   ],
   "metadata": {
    "collapsed": false,
    "ExecuteTime": {
     "end_time": "2023-12-17T21:55:07.794150Z",
     "start_time": "2023-12-17T21:55:06.984705Z"
    }
   },
   "id": "1c53c74066c13dbe"
  },
  {
   "cell_type": "code",
   "execution_count": 242,
   "outputs": [
    {
     "name": "stdout",
     "output_type": "stream",
     "text": [
      "Model: \"sequential_3\"\n",
      "_________________________________________________________________\n",
      " Layer (type)                Output Shape              Param #   \n",
      "=================================================================\n",
      " conv3d_7 (Conv3D)           (None, 75, 50, 100, 128   3584      \n",
      "                             )                                   \n",
      "                                                                 \n",
      " max_pooling3d_7 (MaxPoolin  (None, 75, 25, 50, 128)   0         \n",
      " g3D)                                                            \n",
      "                                                                 \n",
      " conv3d_8 (Conv3D)           (None, 75, 25, 50, 256)   884992    \n",
      "                                                                 \n",
      " max_pooling3d_8 (MaxPoolin  (None, 75, 12, 25, 256)   0         \n",
      " g3D)                                                            \n",
      "                                                                 \n",
      " conv3d_9 (Conv3D)           (None, 75, 12, 25, 75)    518475    \n",
      "                                                                 \n",
      " max_pooling3d_9 (MaxPoolin  (None, 75, 6, 12, 75)     0         \n",
      " g3D)                                                            \n",
      "                                                                 \n",
      " time_distributed_2 (TimeDi  (None, 75, 5400)          0         \n",
      " stributed)                                                      \n",
      "                                                                 \n",
      " bidirectional_4 (Bidirecti  (None, 75, 256)           5661696   \n",
      " onal)                                                           \n",
      "                                                                 \n",
      " dropout_4 (Dropout)         (None, 75, 256)           0         \n",
      "                                                                 \n",
      " bidirectional_5 (Bidirecti  (None, 75, 256)           394240    \n",
      " onal)                                                           \n",
      "                                                                 \n",
      " dropout_5 (Dropout)         (None, 75, 256)           0         \n",
      "                                                                 \n",
      " dense_2 (Dense)             (None, 75, 41)            10537     \n",
      "                                                                 \n",
      "=================================================================\n",
      "Total params: 7473524 (28.51 MB)\n",
      "Trainable params: 7473524 (28.51 MB)\n",
      "Non-trainable params: 0 (0.00 Byte)\n",
      "_________________________________________________________________\n"
     ]
    }
   ],
   "source": [
    "model.summary()"
   ],
   "metadata": {
    "collapsed": false,
    "ExecuteTime": {
     "end_time": "2023-12-17T21:55:07.823012Z",
     "start_time": "2023-12-17T21:55:07.795212Z"
    }
   },
   "id": "40954eaf0e5af514"
  },
  {
   "cell_type": "code",
   "execution_count": 243,
   "outputs": [],
   "source": [
    "val = data.as_numpy_iterator().next()"
   ],
   "metadata": {
    "collapsed": false,
    "ExecuteTime": {
     "end_time": "2023-12-17T21:55:10.900437Z",
     "start_time": "2023-12-17T21:55:08.340802Z"
    }
   },
   "id": "e2fb22a116d42e47"
  },
  {
   "cell_type": "code",
   "execution_count": 244,
   "outputs": [
    {
     "name": "stdout",
     "output_type": "stream",
     "text": [
      "1/1 [==============================] - 2s 2s/step\n"
     ]
    }
   ],
   "source": [
    "yhat = model.predict(val[0])"
   ],
   "metadata": {
    "collapsed": false,
    "ExecuteTime": {
     "end_time": "2023-12-17T21:55:12.900747Z",
     "start_time": "2023-12-17T21:55:10.901266Z"
    }
   },
   "id": "6a3f1f1139c4594b"
  },
  {
   "cell_type": "code",
   "execution_count": 245,
   "outputs": [
    {
     "data": {
      "text/plain": "<tf.Tensor: shape=(), dtype=string, numpy=b'kkrrrrrrrrrrrrrrrrrrrrrrrrrrrrrrrrrrrrrrrrrrrrrrrrrrrrrrrrrrrrrrrrrrrrrrnnn'>"
     },
     "execution_count": 245,
     "metadata": {},
     "output_type": "execute_result"
    }
   ],
   "source": [
    "tf.strings.reduce_join([num_to_char(tf.argmax(x)) for x in yhat[0]])"
   ],
   "metadata": {
    "collapsed": false,
    "ExecuteTime": {
     "end_time": "2023-12-17T21:55:12.936726Z",
     "start_time": "2023-12-17T21:55:12.900415Z"
    }
   },
   "id": "e334524ac588327b"
  },
  {
   "cell_type": "markdown",
   "source": [
    "# 5 Train the Model"
   ],
   "metadata": {
    "collapsed": false
   },
   "id": "35d52df911a1fd42"
  },
  {
   "cell_type": "code",
   "execution_count": 246,
   "outputs": [],
   "source": [
    "def scheduler(epoch, lr):\n",
    "    if epoch < 30:\n",
    "        return lr\n",
    "    else:\n",
    "        return lr * tf.math.exp(-0.1)"
   ],
   "metadata": {
    "collapsed": false,
    "ExecuteTime": {
     "end_time": "2023-12-17T21:55:14.461115Z",
     "start_time": "2023-12-17T21:55:14.456719Z"
    }
   },
   "id": "47e43d28c041f3e7"
  },
  {
   "cell_type": "code",
   "execution_count": 247,
   "outputs": [],
   "source": [
    "def CTCLoss(y_true, y_pred):\n",
    "    batch_len = tf.cast(tf.shape(y_true)[0], dtype=\"int64\")\n",
    "    input_length = tf.cast(tf.shape(y_pred)[1], dtype=\"int64\")\n",
    "    label_length = tf.cast(tf.shape(y_true)[1], dtype=\"int64\")\n",
    "    \n",
    "    input_length = input_length * tf.ones(shape=(batch_len,1), dtype=\"int64\")\n",
    "    label_length = label_length * tf.ones(shape=(batch_len,1), dtype=\"int64\")\n",
    "    \n",
    "    loss = tf.keras.backend.ctc_batch_cost(y_true, y_pred, input_length, label_length)\n",
    "    return loss"
   ],
   "metadata": {
    "collapsed": false,
    "ExecuteTime": {
     "end_time": "2023-12-17T21:55:14.808559Z",
     "start_time": "2023-12-17T21:55:14.802125Z"
    }
   },
   "id": "928dbf886f8e2452"
  },
  {
   "cell_type": "code",
   "execution_count": 248,
   "outputs": [],
   "source": [
    "class ProduceExample(tf.keras.callbacks.Callback):\n",
    "    def __init__(self, dataset) -> None:\n",
    "        self.dataset = dataset.as_numpy_iterator()\n",
    "        \n",
    "    def on_epoch_end(self, epoch, logs=None) -> None:\n",
    "        data = self.dataset.next()\n",
    "        yhat = self.model.predict(data[0])\n",
    "        decoded = tf.keras.backend.ctc_decode(yhat, [75,75], greedy=False)[0][0].numpy()\n",
    "        for x in range(len(yhat)):           \n",
    "            print('Original:', tf.strings.reduce_join(num_to_char(data[1][x])).numpy().decode('utf-8'))\n",
    "            print('Prediction:', tf.strings.reduce_join(num_to_char(decoded[x])).numpy().decode('utf-8'))\n",
    "            print('~'*100)\n"
   ],
   "metadata": {
    "collapsed": false,
    "ExecuteTime": {
     "end_time": "2023-12-17T21:55:15.540274Z",
     "start_time": "2023-12-17T21:55:15.530498Z"
    }
   },
   "id": "e6fc45828b1cf66c"
  },
  {
   "cell_type": "code",
   "execution_count": 249,
   "outputs": [
    {
     "name": "stderr",
     "output_type": "stream",
     "text": [
      "WARNING:absl:At this time, the v2.11+ optimizer `tf.keras.optimizers.Adam` runs slowly on M1/M2 Macs, please use the legacy Keras optimizer instead, located at `tf.keras.optimizers.legacy.Adam`.\n"
     ]
    }
   ],
   "source": [
    "model.compile(optimizer=Adam(learning_rate=0.0001), loss=CTCLoss)"
   ],
   "metadata": {
    "collapsed": false,
    "ExecuteTime": {
     "end_time": "2023-12-17T21:55:15.867422Z",
     "start_time": "2023-12-17T21:55:15.858133Z"
    }
   },
   "id": "292fbbe122f59c2b"
  },
  {
   "cell_type": "code",
   "execution_count": 250,
   "outputs": [],
   "source": [
    "checkpoint_callback = ModelCheckpoint(os.path.join('models','checkpoint'), monitor='loss', save_weights_only=True) "
   ],
   "metadata": {
    "collapsed": false,
    "ExecuteTime": {
     "end_time": "2023-12-17T21:55:16.114558Z",
     "start_time": "2023-12-17T21:55:16.111816Z"
    }
   },
   "id": "25eb1242decd0116"
  },
  {
   "cell_type": "code",
   "execution_count": 251,
   "outputs": [],
   "source": [
    "schedule_callback = LearningRateScheduler(scheduler)"
   ],
   "metadata": {
    "collapsed": false,
    "ExecuteTime": {
     "end_time": "2023-12-17T21:55:16.630455Z",
     "start_time": "2023-12-17T21:55:16.627743Z"
    }
   },
   "id": "5f1a65b2ab22735c"
  },
  {
   "cell_type": "code",
   "execution_count": 252,
   "outputs": [],
   "source": [
    "example_callback = ProduceExample(data)"
   ],
   "metadata": {
    "collapsed": false,
    "ExecuteTime": {
     "end_time": "2023-12-17T21:55:17.705498Z",
     "start_time": "2023-12-17T21:55:17.690315Z"
    }
   },
   "id": "bdfbe8aa8905a9e1"
  },
  {
   "cell_type": "code",
   "execution_count": 253,
   "outputs": [
    {
     "name": "stdout",
     "output_type": "stream",
     "text": [
      "Epoch 1/2\n",
      "  3/450 [..............................] - ETA: 1:24:55 - loss: 192.4533"
     ]
    },
    {
     "ename": "KeyboardInterrupt",
     "evalue": "",
     "output_type": "error",
     "traceback": [
      "\u001B[0;31m---------------------------------------------------------------------------\u001B[0m",
      "\u001B[0;31mKeyboardInterrupt\u001B[0m                         Traceback (most recent call last)",
      "Cell \u001B[0;32mIn[253], line 1\u001B[0m\n\u001B[0;32m----> 1\u001B[0m \u001B[43mmodel\u001B[49m\u001B[38;5;241;43m.\u001B[39;49m\u001B[43mfit\u001B[49m\u001B[43m(\u001B[49m\u001B[43mtrain\u001B[49m\u001B[43m,\u001B[49m\u001B[43m \u001B[49m\u001B[43mvalidation_data\u001B[49m\u001B[38;5;241;43m=\u001B[39;49m\u001B[43mtest\u001B[49m\u001B[43m,\u001B[49m\u001B[43m \u001B[49m\u001B[43mepochs\u001B[49m\u001B[38;5;241;43m=\u001B[39;49m\u001B[38;5;241;43m2\u001B[39;49m\u001B[43m,\u001B[49m\u001B[43m \u001B[49m\u001B[43mcallbacks\u001B[49m\u001B[38;5;241;43m=\u001B[39;49m\u001B[43m[\u001B[49m\u001B[43mcheckpoint_callback\u001B[49m\u001B[43m,\u001B[49m\u001B[43m \u001B[49m\u001B[43mschedule_callback\u001B[49m\u001B[43m,\u001B[49m\u001B[43m \u001B[49m\u001B[43mexample_callback\u001B[49m\u001B[43m]\u001B[49m\u001B[43m)\u001B[49m\n",
      "File \u001B[0;32m~/anaconda3/envs/DS/lib/python3.9/site-packages/keras/src/utils/traceback_utils.py:65\u001B[0m, in \u001B[0;36mfilter_traceback.<locals>.error_handler\u001B[0;34m(*args, **kwargs)\u001B[0m\n\u001B[1;32m     63\u001B[0m filtered_tb \u001B[38;5;241m=\u001B[39m \u001B[38;5;28;01mNone\u001B[39;00m\n\u001B[1;32m     64\u001B[0m \u001B[38;5;28;01mtry\u001B[39;00m:\n\u001B[0;32m---> 65\u001B[0m     \u001B[38;5;28;01mreturn\u001B[39;00m \u001B[43mfn\u001B[49m\u001B[43m(\u001B[49m\u001B[38;5;241;43m*\u001B[39;49m\u001B[43margs\u001B[49m\u001B[43m,\u001B[49m\u001B[43m \u001B[49m\u001B[38;5;241;43m*\u001B[39;49m\u001B[38;5;241;43m*\u001B[39;49m\u001B[43mkwargs\u001B[49m\u001B[43m)\u001B[49m\n\u001B[1;32m     66\u001B[0m \u001B[38;5;28;01mexcept\u001B[39;00m \u001B[38;5;167;01mException\u001B[39;00m \u001B[38;5;28;01mas\u001B[39;00m e:\n\u001B[1;32m     67\u001B[0m     filtered_tb \u001B[38;5;241m=\u001B[39m _process_traceback_frames(e\u001B[38;5;241m.\u001B[39m__traceback__)\n",
      "File \u001B[0;32m~/anaconda3/envs/DS/lib/python3.9/site-packages/keras/src/engine/training.py:1807\u001B[0m, in \u001B[0;36mModel.fit\u001B[0;34m(self, x, y, batch_size, epochs, verbose, callbacks, validation_split, validation_data, shuffle, class_weight, sample_weight, initial_epoch, steps_per_epoch, validation_steps, validation_batch_size, validation_freq, max_queue_size, workers, use_multiprocessing)\u001B[0m\n\u001B[1;32m   1799\u001B[0m \u001B[38;5;28;01mwith\u001B[39;00m tf\u001B[38;5;241m.\u001B[39mprofiler\u001B[38;5;241m.\u001B[39mexperimental\u001B[38;5;241m.\u001B[39mTrace(\n\u001B[1;32m   1800\u001B[0m     \u001B[38;5;124m\"\u001B[39m\u001B[38;5;124mtrain\u001B[39m\u001B[38;5;124m\"\u001B[39m,\n\u001B[1;32m   1801\u001B[0m     epoch_num\u001B[38;5;241m=\u001B[39mepoch,\n\u001B[0;32m   (...)\u001B[0m\n\u001B[1;32m   1804\u001B[0m     _r\u001B[38;5;241m=\u001B[39m\u001B[38;5;241m1\u001B[39m,\n\u001B[1;32m   1805\u001B[0m ):\n\u001B[1;32m   1806\u001B[0m     callbacks\u001B[38;5;241m.\u001B[39mon_train_batch_begin(step)\n\u001B[0;32m-> 1807\u001B[0m     tmp_logs \u001B[38;5;241m=\u001B[39m \u001B[38;5;28;43mself\u001B[39;49m\u001B[38;5;241;43m.\u001B[39;49m\u001B[43mtrain_function\u001B[49m\u001B[43m(\u001B[49m\u001B[43miterator\u001B[49m\u001B[43m)\u001B[49m\n\u001B[1;32m   1808\u001B[0m     \u001B[38;5;28;01mif\u001B[39;00m data_handler\u001B[38;5;241m.\u001B[39mshould_sync:\n\u001B[1;32m   1809\u001B[0m         context\u001B[38;5;241m.\u001B[39masync_wait()\n",
      "File \u001B[0;32m~/anaconda3/envs/DS/lib/python3.9/site-packages/tensorflow/python/util/traceback_utils.py:150\u001B[0m, in \u001B[0;36mfilter_traceback.<locals>.error_handler\u001B[0;34m(*args, **kwargs)\u001B[0m\n\u001B[1;32m    148\u001B[0m filtered_tb \u001B[38;5;241m=\u001B[39m \u001B[38;5;28;01mNone\u001B[39;00m\n\u001B[1;32m    149\u001B[0m \u001B[38;5;28;01mtry\u001B[39;00m:\n\u001B[0;32m--> 150\u001B[0m   \u001B[38;5;28;01mreturn\u001B[39;00m \u001B[43mfn\u001B[49m\u001B[43m(\u001B[49m\u001B[38;5;241;43m*\u001B[39;49m\u001B[43margs\u001B[49m\u001B[43m,\u001B[49m\u001B[43m \u001B[49m\u001B[38;5;241;43m*\u001B[39;49m\u001B[38;5;241;43m*\u001B[39;49m\u001B[43mkwargs\u001B[49m\u001B[43m)\u001B[49m\n\u001B[1;32m    151\u001B[0m \u001B[38;5;28;01mexcept\u001B[39;00m \u001B[38;5;167;01mException\u001B[39;00m \u001B[38;5;28;01mas\u001B[39;00m e:\n\u001B[1;32m    152\u001B[0m   filtered_tb \u001B[38;5;241m=\u001B[39m _process_traceback_frames(e\u001B[38;5;241m.\u001B[39m__traceback__)\n",
      "File \u001B[0;32m~/anaconda3/envs/DS/lib/python3.9/site-packages/tensorflow/python/eager/polymorphic_function/polymorphic_function.py:832\u001B[0m, in \u001B[0;36mFunction.__call__\u001B[0;34m(self, *args, **kwds)\u001B[0m\n\u001B[1;32m    829\u001B[0m compiler \u001B[38;5;241m=\u001B[39m \u001B[38;5;124m\"\u001B[39m\u001B[38;5;124mxla\u001B[39m\u001B[38;5;124m\"\u001B[39m \u001B[38;5;28;01mif\u001B[39;00m \u001B[38;5;28mself\u001B[39m\u001B[38;5;241m.\u001B[39m_jit_compile \u001B[38;5;28;01melse\u001B[39;00m \u001B[38;5;124m\"\u001B[39m\u001B[38;5;124mnonXla\u001B[39m\u001B[38;5;124m\"\u001B[39m\n\u001B[1;32m    831\u001B[0m \u001B[38;5;28;01mwith\u001B[39;00m OptionalXlaContext(\u001B[38;5;28mself\u001B[39m\u001B[38;5;241m.\u001B[39m_jit_compile):\n\u001B[0;32m--> 832\u001B[0m   result \u001B[38;5;241m=\u001B[39m \u001B[38;5;28;43mself\u001B[39;49m\u001B[38;5;241;43m.\u001B[39;49m\u001B[43m_call\u001B[49m\u001B[43m(\u001B[49m\u001B[38;5;241;43m*\u001B[39;49m\u001B[43margs\u001B[49m\u001B[43m,\u001B[49m\u001B[43m \u001B[49m\u001B[38;5;241;43m*\u001B[39;49m\u001B[38;5;241;43m*\u001B[39;49m\u001B[43mkwds\u001B[49m\u001B[43m)\u001B[49m\n\u001B[1;32m    834\u001B[0m new_tracing_count \u001B[38;5;241m=\u001B[39m \u001B[38;5;28mself\u001B[39m\u001B[38;5;241m.\u001B[39mexperimental_get_tracing_count()\n\u001B[1;32m    835\u001B[0m without_tracing \u001B[38;5;241m=\u001B[39m (tracing_count \u001B[38;5;241m==\u001B[39m new_tracing_count)\n",
      "File \u001B[0;32m~/anaconda3/envs/DS/lib/python3.9/site-packages/tensorflow/python/eager/polymorphic_function/polymorphic_function.py:868\u001B[0m, in \u001B[0;36mFunction._call\u001B[0;34m(self, *args, **kwds)\u001B[0m\n\u001B[1;32m    865\u001B[0m   \u001B[38;5;28mself\u001B[39m\u001B[38;5;241m.\u001B[39m_lock\u001B[38;5;241m.\u001B[39mrelease()\n\u001B[1;32m    866\u001B[0m   \u001B[38;5;66;03m# In this case we have created variables on the first call, so we run the\u001B[39;00m\n\u001B[1;32m    867\u001B[0m   \u001B[38;5;66;03m# defunned version which is guaranteed to never create variables.\u001B[39;00m\n\u001B[0;32m--> 868\u001B[0m   \u001B[38;5;28;01mreturn\u001B[39;00m \u001B[43mtracing_compilation\u001B[49m\u001B[38;5;241;43m.\u001B[39;49m\u001B[43mcall_function\u001B[49m\u001B[43m(\u001B[49m\n\u001B[1;32m    869\u001B[0m \u001B[43m      \u001B[49m\u001B[43margs\u001B[49m\u001B[43m,\u001B[49m\u001B[43m \u001B[49m\u001B[43mkwds\u001B[49m\u001B[43m,\u001B[49m\u001B[43m \u001B[49m\u001B[38;5;28;43mself\u001B[39;49m\u001B[38;5;241;43m.\u001B[39;49m\u001B[43m_no_variable_creation_config\u001B[49m\n\u001B[1;32m    870\u001B[0m \u001B[43m  \u001B[49m\u001B[43m)\u001B[49m\n\u001B[1;32m    871\u001B[0m \u001B[38;5;28;01melif\u001B[39;00m \u001B[38;5;28mself\u001B[39m\u001B[38;5;241m.\u001B[39m_variable_creation_config \u001B[38;5;129;01mis\u001B[39;00m \u001B[38;5;129;01mnot\u001B[39;00m \u001B[38;5;28;01mNone\u001B[39;00m:\n\u001B[1;32m    872\u001B[0m   \u001B[38;5;66;03m# Release the lock early so that multiple threads can perform the call\u001B[39;00m\n\u001B[1;32m    873\u001B[0m   \u001B[38;5;66;03m# in parallel.\u001B[39;00m\n\u001B[1;32m    874\u001B[0m   \u001B[38;5;28mself\u001B[39m\u001B[38;5;241m.\u001B[39m_lock\u001B[38;5;241m.\u001B[39mrelease()\n",
      "File \u001B[0;32m~/anaconda3/envs/DS/lib/python3.9/site-packages/tensorflow/python/eager/polymorphic_function/tracing_compilation.py:139\u001B[0m, in \u001B[0;36mcall_function\u001B[0;34m(args, kwargs, tracing_options)\u001B[0m\n\u001B[1;32m    137\u001B[0m bound_args \u001B[38;5;241m=\u001B[39m function\u001B[38;5;241m.\u001B[39mfunction_type\u001B[38;5;241m.\u001B[39mbind(\u001B[38;5;241m*\u001B[39margs, \u001B[38;5;241m*\u001B[39m\u001B[38;5;241m*\u001B[39mkwargs)\n\u001B[1;32m    138\u001B[0m flat_inputs \u001B[38;5;241m=\u001B[39m function\u001B[38;5;241m.\u001B[39mfunction_type\u001B[38;5;241m.\u001B[39munpack_inputs(bound_args)\n\u001B[0;32m--> 139\u001B[0m \u001B[38;5;28;01mreturn\u001B[39;00m \u001B[43mfunction\u001B[49m\u001B[38;5;241;43m.\u001B[39;49m\u001B[43m_call_flat\u001B[49m\u001B[43m(\u001B[49m\u001B[43m  \u001B[49m\u001B[38;5;66;43;03m# pylint: disable=protected-access\u001B[39;49;00m\n\u001B[1;32m    140\u001B[0m \u001B[43m    \u001B[49m\u001B[43mflat_inputs\u001B[49m\u001B[43m,\u001B[49m\u001B[43m \u001B[49m\u001B[43mcaptured_inputs\u001B[49m\u001B[38;5;241;43m=\u001B[39;49m\u001B[43mfunction\u001B[49m\u001B[38;5;241;43m.\u001B[39;49m\u001B[43mcaptured_inputs\u001B[49m\n\u001B[1;32m    141\u001B[0m \u001B[43m\u001B[49m\u001B[43m)\u001B[49m\n",
      "File \u001B[0;32m~/anaconda3/envs/DS/lib/python3.9/site-packages/tensorflow/python/eager/polymorphic_function/concrete_function.py:1323\u001B[0m, in \u001B[0;36mConcreteFunction._call_flat\u001B[0;34m(self, tensor_inputs, captured_inputs)\u001B[0m\n\u001B[1;32m   1319\u001B[0m possible_gradient_type \u001B[38;5;241m=\u001B[39m gradients_util\u001B[38;5;241m.\u001B[39mPossibleTapeGradientTypes(args)\n\u001B[1;32m   1320\u001B[0m \u001B[38;5;28;01mif\u001B[39;00m (possible_gradient_type \u001B[38;5;241m==\u001B[39m gradients_util\u001B[38;5;241m.\u001B[39mPOSSIBLE_GRADIENT_TYPES_NONE\n\u001B[1;32m   1321\u001B[0m     \u001B[38;5;129;01mand\u001B[39;00m executing_eagerly):\n\u001B[1;32m   1322\u001B[0m   \u001B[38;5;66;03m# No tape is watching; skip to running the function.\u001B[39;00m\n\u001B[0;32m-> 1323\u001B[0m   \u001B[38;5;28;01mreturn\u001B[39;00m \u001B[38;5;28;43mself\u001B[39;49m\u001B[38;5;241;43m.\u001B[39;49m\u001B[43m_inference_function\u001B[49m\u001B[38;5;241;43m.\u001B[39;49m\u001B[43mcall_preflattened\u001B[49m\u001B[43m(\u001B[49m\u001B[43margs\u001B[49m\u001B[43m)\u001B[49m\n\u001B[1;32m   1324\u001B[0m forward_backward \u001B[38;5;241m=\u001B[39m \u001B[38;5;28mself\u001B[39m\u001B[38;5;241m.\u001B[39m_select_forward_and_backward_functions(\n\u001B[1;32m   1325\u001B[0m     args,\n\u001B[1;32m   1326\u001B[0m     possible_gradient_type,\n\u001B[1;32m   1327\u001B[0m     executing_eagerly)\n\u001B[1;32m   1328\u001B[0m forward_function, args_with_tangents \u001B[38;5;241m=\u001B[39m forward_backward\u001B[38;5;241m.\u001B[39mforward()\n",
      "File \u001B[0;32m~/anaconda3/envs/DS/lib/python3.9/site-packages/tensorflow/python/eager/polymorphic_function/atomic_function.py:216\u001B[0m, in \u001B[0;36mAtomicFunction.call_preflattened\u001B[0;34m(self, args)\u001B[0m\n\u001B[1;32m    214\u001B[0m \u001B[38;5;28;01mdef\u001B[39;00m \u001B[38;5;21mcall_preflattened\u001B[39m(\u001B[38;5;28mself\u001B[39m, args: Sequence[core\u001B[38;5;241m.\u001B[39mTensor]) \u001B[38;5;241m-\u001B[39m\u001B[38;5;241m>\u001B[39m Any:\n\u001B[1;32m    215\u001B[0m \u001B[38;5;250m  \u001B[39m\u001B[38;5;124;03m\"\"\"Calls with flattened tensor inputs and returns the structured output.\"\"\"\u001B[39;00m\n\u001B[0;32m--> 216\u001B[0m   flat_outputs \u001B[38;5;241m=\u001B[39m \u001B[38;5;28;43mself\u001B[39;49m\u001B[38;5;241;43m.\u001B[39;49m\u001B[43mcall_flat\u001B[49m\u001B[43m(\u001B[49m\u001B[38;5;241;43m*\u001B[39;49m\u001B[43margs\u001B[49m\u001B[43m)\u001B[49m\n\u001B[1;32m    217\u001B[0m   \u001B[38;5;28;01mreturn\u001B[39;00m \u001B[38;5;28mself\u001B[39m\u001B[38;5;241m.\u001B[39mfunction_type\u001B[38;5;241m.\u001B[39mpack_output(flat_outputs)\n",
      "File \u001B[0;32m~/anaconda3/envs/DS/lib/python3.9/site-packages/tensorflow/python/eager/polymorphic_function/atomic_function.py:251\u001B[0m, in \u001B[0;36mAtomicFunction.call_flat\u001B[0;34m(self, *args)\u001B[0m\n\u001B[1;32m    249\u001B[0m \u001B[38;5;28;01mwith\u001B[39;00m record\u001B[38;5;241m.\u001B[39mstop_recording():\n\u001B[1;32m    250\u001B[0m   \u001B[38;5;28;01mif\u001B[39;00m \u001B[38;5;28mself\u001B[39m\u001B[38;5;241m.\u001B[39m_bound_context\u001B[38;5;241m.\u001B[39mexecuting_eagerly():\n\u001B[0;32m--> 251\u001B[0m     outputs \u001B[38;5;241m=\u001B[39m \u001B[38;5;28;43mself\u001B[39;49m\u001B[38;5;241;43m.\u001B[39;49m\u001B[43m_bound_context\u001B[49m\u001B[38;5;241;43m.\u001B[39;49m\u001B[43mcall_function\u001B[49m\u001B[43m(\u001B[49m\n\u001B[1;32m    252\u001B[0m \u001B[43m        \u001B[49m\u001B[38;5;28;43mself\u001B[39;49m\u001B[38;5;241;43m.\u001B[39;49m\u001B[43mname\u001B[49m\u001B[43m,\u001B[49m\n\u001B[1;32m    253\u001B[0m \u001B[43m        \u001B[49m\u001B[38;5;28;43mlist\u001B[39;49m\u001B[43m(\u001B[49m\u001B[43margs\u001B[49m\u001B[43m)\u001B[49m\u001B[43m,\u001B[49m\n\u001B[1;32m    254\u001B[0m \u001B[43m        \u001B[49m\u001B[38;5;28;43mlen\u001B[39;49m\u001B[43m(\u001B[49m\u001B[38;5;28;43mself\u001B[39;49m\u001B[38;5;241;43m.\u001B[39;49m\u001B[43mfunction_type\u001B[49m\u001B[38;5;241;43m.\u001B[39;49m\u001B[43mflat_outputs\u001B[49m\u001B[43m)\u001B[49m\u001B[43m,\u001B[49m\n\u001B[1;32m    255\u001B[0m \u001B[43m    \u001B[49m\u001B[43m)\u001B[49m\n\u001B[1;32m    256\u001B[0m   \u001B[38;5;28;01melse\u001B[39;00m:\n\u001B[1;32m    257\u001B[0m     outputs \u001B[38;5;241m=\u001B[39m make_call_op_in_graph(\n\u001B[1;32m    258\u001B[0m         \u001B[38;5;28mself\u001B[39m,\n\u001B[1;32m    259\u001B[0m         \u001B[38;5;28mlist\u001B[39m(args),\n\u001B[1;32m    260\u001B[0m         \u001B[38;5;28mself\u001B[39m\u001B[38;5;241m.\u001B[39m_bound_context\u001B[38;5;241m.\u001B[39mfunction_call_options\u001B[38;5;241m.\u001B[39mas_attrs(),\n\u001B[1;32m    261\u001B[0m     )\n",
      "File \u001B[0;32m~/anaconda3/envs/DS/lib/python3.9/site-packages/tensorflow/python/eager/context.py:1486\u001B[0m, in \u001B[0;36mContext.call_function\u001B[0;34m(self, name, tensor_inputs, num_outputs)\u001B[0m\n\u001B[1;32m   1484\u001B[0m cancellation_context \u001B[38;5;241m=\u001B[39m cancellation\u001B[38;5;241m.\u001B[39mcontext()\n\u001B[1;32m   1485\u001B[0m \u001B[38;5;28;01mif\u001B[39;00m cancellation_context \u001B[38;5;129;01mis\u001B[39;00m \u001B[38;5;28;01mNone\u001B[39;00m:\n\u001B[0;32m-> 1486\u001B[0m   outputs \u001B[38;5;241m=\u001B[39m \u001B[43mexecute\u001B[49m\u001B[38;5;241;43m.\u001B[39;49m\u001B[43mexecute\u001B[49m\u001B[43m(\u001B[49m\n\u001B[1;32m   1487\u001B[0m \u001B[43m      \u001B[49m\u001B[43mname\u001B[49m\u001B[38;5;241;43m.\u001B[39;49m\u001B[43mdecode\u001B[49m\u001B[43m(\u001B[49m\u001B[38;5;124;43m\"\u001B[39;49m\u001B[38;5;124;43mutf-8\u001B[39;49m\u001B[38;5;124;43m\"\u001B[39;49m\u001B[43m)\u001B[49m\u001B[43m,\u001B[49m\n\u001B[1;32m   1488\u001B[0m \u001B[43m      \u001B[49m\u001B[43mnum_outputs\u001B[49m\u001B[38;5;241;43m=\u001B[39;49m\u001B[43mnum_outputs\u001B[49m\u001B[43m,\u001B[49m\n\u001B[1;32m   1489\u001B[0m \u001B[43m      \u001B[49m\u001B[43minputs\u001B[49m\u001B[38;5;241;43m=\u001B[39;49m\u001B[43mtensor_inputs\u001B[49m\u001B[43m,\u001B[49m\n\u001B[1;32m   1490\u001B[0m \u001B[43m      \u001B[49m\u001B[43mattrs\u001B[49m\u001B[38;5;241;43m=\u001B[39;49m\u001B[43mattrs\u001B[49m\u001B[43m,\u001B[49m\n\u001B[1;32m   1491\u001B[0m \u001B[43m      \u001B[49m\u001B[43mctx\u001B[49m\u001B[38;5;241;43m=\u001B[39;49m\u001B[38;5;28;43mself\u001B[39;49m\u001B[43m,\u001B[49m\n\u001B[1;32m   1492\u001B[0m \u001B[43m  \u001B[49m\u001B[43m)\u001B[49m\n\u001B[1;32m   1493\u001B[0m \u001B[38;5;28;01melse\u001B[39;00m:\n\u001B[1;32m   1494\u001B[0m   outputs \u001B[38;5;241m=\u001B[39m execute\u001B[38;5;241m.\u001B[39mexecute_with_cancellation(\n\u001B[1;32m   1495\u001B[0m       name\u001B[38;5;241m.\u001B[39mdecode(\u001B[38;5;124m\"\u001B[39m\u001B[38;5;124mutf-8\u001B[39m\u001B[38;5;124m\"\u001B[39m),\n\u001B[1;32m   1496\u001B[0m       num_outputs\u001B[38;5;241m=\u001B[39mnum_outputs,\n\u001B[0;32m   (...)\u001B[0m\n\u001B[1;32m   1500\u001B[0m       cancellation_manager\u001B[38;5;241m=\u001B[39mcancellation_context,\n\u001B[1;32m   1501\u001B[0m   )\n",
      "File \u001B[0;32m~/anaconda3/envs/DS/lib/python3.9/site-packages/tensorflow/python/eager/execute.py:53\u001B[0m, in \u001B[0;36mquick_execute\u001B[0;34m(op_name, num_outputs, inputs, attrs, ctx, name)\u001B[0m\n\u001B[1;32m     51\u001B[0m \u001B[38;5;28;01mtry\u001B[39;00m:\n\u001B[1;32m     52\u001B[0m   ctx\u001B[38;5;241m.\u001B[39mensure_initialized()\n\u001B[0;32m---> 53\u001B[0m   tensors \u001B[38;5;241m=\u001B[39m \u001B[43mpywrap_tfe\u001B[49m\u001B[38;5;241;43m.\u001B[39;49m\u001B[43mTFE_Py_Execute\u001B[49m\u001B[43m(\u001B[49m\u001B[43mctx\u001B[49m\u001B[38;5;241;43m.\u001B[39;49m\u001B[43m_handle\u001B[49m\u001B[43m,\u001B[49m\u001B[43m \u001B[49m\u001B[43mdevice_name\u001B[49m\u001B[43m,\u001B[49m\u001B[43m \u001B[49m\u001B[43mop_name\u001B[49m\u001B[43m,\u001B[49m\n\u001B[1;32m     54\u001B[0m \u001B[43m                                      \u001B[49m\u001B[43minputs\u001B[49m\u001B[43m,\u001B[49m\u001B[43m \u001B[49m\u001B[43mattrs\u001B[49m\u001B[43m,\u001B[49m\u001B[43m \u001B[49m\u001B[43mnum_outputs\u001B[49m\u001B[43m)\u001B[49m\n\u001B[1;32m     55\u001B[0m \u001B[38;5;28;01mexcept\u001B[39;00m core\u001B[38;5;241m.\u001B[39m_NotOkStatusException \u001B[38;5;28;01mas\u001B[39;00m e:\n\u001B[1;32m     56\u001B[0m   \u001B[38;5;28;01mif\u001B[39;00m name \u001B[38;5;129;01mis\u001B[39;00m \u001B[38;5;129;01mnot\u001B[39;00m \u001B[38;5;28;01mNone\u001B[39;00m:\n",
      "\u001B[0;31mKeyboardInterrupt\u001B[0m: "
     ]
    }
   ],
   "source": [
    "model.fit(train, validation_data=test, epochs=2, callbacks=[checkpoint_callback, schedule_callback, example_callback])"
   ],
   "metadata": {
    "collapsed": false,
    "ExecuteTime": {
     "end_time": "2023-12-17T21:56:16.206942Z",
     "start_time": "2023-12-17T21:55:22.948058Z"
    }
   },
   "id": "5d7010715659c42f"
  },
  {
   "cell_type": "code",
   "execution_count": null,
   "outputs": [],
   "source": [],
   "metadata": {
    "collapsed": false
   },
   "id": "fae1aecd810ea7e0"
  }
 ],
 "metadata": {
  "kernelspec": {
   "display_name": "Python 3",
   "language": "python",
   "name": "python3"
  },
  "language_info": {
   "codemirror_mode": {
    "name": "ipython",
    "version": 2
   },
   "file_extension": ".py",
   "mimetype": "text/x-python",
   "name": "python",
   "nbconvert_exporter": "python",
   "pygments_lexer": "ipython2",
   "version": "2.7.6"
  }
 },
 "nbformat": 4,
 "nbformat_minor": 5
}
