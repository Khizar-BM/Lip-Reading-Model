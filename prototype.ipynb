{
 "cells": [
  {
   "cell_type": "markdown",
   "id": "942cdf3329e656f2",
   "metadata": {
    "collapsed": false
   },
   "source": [
    "# 1 Install and Import Dependencies"
   ]
  },
  {
   "cell_type": "code",
   "execution_count": 1,
   "id": "8aa8aae589adbbbc",
   "metadata": {
    "ExecuteTime": {
     "end_time": "2023-12-17T12:56:24.592501Z",
     "start_time": "2023-12-17T12:55:42.750277Z"
    },
    "collapsed": false
   },
   "outputs": [
    {
     "name": "stdout",
     "output_type": "stream",
     "text": [
      "Collecting opencv-python\n",
      "  Using cached opencv_python-4.8.1.78-cp37-abi3-manylinux_2_17_x86_64.manylinux2014_x86_64.whl.metadata (19 kB)\n",
      "Requirement already satisfied: imageio in /home/ediss3/miniconda3/envs/khiz-env/lib/python3.8/site-packages (2.33.1)\n",
      "Collecting matplotlib\n",
      "  Downloading matplotlib-3.7.4-cp38-cp38-manylinux_2_12_x86_64.manylinux2010_x86_64.whl.metadata (5.7 kB)\n",
      "Requirement already satisfied: numpy>=1.17.0 in /home/ediss3/miniconda3/envs/khiz-env/lib/python3.8/site-packages (from opencv-python) (1.23.4)\n",
      "Requirement already satisfied: pillow>=8.3.2 in /home/ediss3/miniconda3/envs/khiz-env/lib/python3.8/site-packages (from imageio) (9.4.0)\n",
      "Collecting contourpy>=1.0.1 (from matplotlib)\n",
      "  Downloading contourpy-1.1.1-cp38-cp38-manylinux_2_17_x86_64.manylinux2014_x86_64.whl.metadata (5.9 kB)\n",
      "Collecting cycler>=0.10 (from matplotlib)\n",
      "  Using cached cycler-0.12.1-py3-none-any.whl.metadata (3.8 kB)\n",
      "Collecting fonttools>=4.22.0 (from matplotlib)\n",
      "  Downloading fonttools-4.47.0-cp38-cp38-manylinux_2_17_x86_64.manylinux2014_x86_64.whl.metadata (157 kB)\n",
      "\u001B[2K     \u001B[90m━━━━━━━━━━━━━━━━━━━━━━━━━━━━━━━━━━━━━━\u001B[0m \u001B[32m157.2/157.2 kB\u001B[0m \u001B[31m10.3 MB/s\u001B[0m eta \u001B[36m0:00:00\u001B[0m\n",
      "\u001B[?25hCollecting kiwisolver>=1.0.1 (from matplotlib)\n",
      "  Downloading kiwisolver-1.4.5-cp38-cp38-manylinux_2_5_x86_64.manylinux1_x86_64.whl.metadata (6.4 kB)\n",
      "Requirement already satisfied: packaging>=20.0 in /home/ediss3/miniconda3/envs/khiz-env/lib/python3.8/site-packages (from matplotlib) (23.1)\n",
      "Collecting pyparsing>=2.3.1 (from matplotlib)\n",
      "  Using cached pyparsing-3.1.1-py3-none-any.whl.metadata (5.1 kB)\n",
      "Requirement already satisfied: python-dateutil>=2.7 in /home/ediss3/miniconda3/envs/khiz-env/lib/python3.8/site-packages (from matplotlib) (2.8.2)\n",
      "Collecting importlib-resources>=3.2.0 (from matplotlib)\n",
      "  Using cached importlib_resources-6.1.1-py3-none-any.whl.metadata (4.1 kB)\n",
      "Requirement already satisfied: zipp>=3.1.0 in /home/ediss3/miniconda3/envs/khiz-env/lib/python3.8/site-packages (from importlib-resources>=3.2.0->matplotlib) (3.11.0)\n",
      "Requirement already satisfied: six>=1.5 in /home/ediss3/miniconda3/envs/khiz-env/lib/python3.8/site-packages (from python-dateutil>=2.7->matplotlib) (1.16.0)\n",
      "Using cached opencv_python-4.8.1.78-cp37-abi3-manylinux_2_17_x86_64.manylinux2014_x86_64.whl (61.7 MB)\n",
      "Downloading matplotlib-3.7.4-cp38-cp38-manylinux_2_12_x86_64.manylinux2010_x86_64.whl (9.2 MB)\n",
      "\u001B[2K   \u001B[90m━━━━━━━━━━━━━━━━━━━━━━━━━━━━━━━━━━━━━━━━\u001B[0m \u001B[32m9.2/9.2 MB\u001B[0m \u001B[31m69.6 MB/s\u001B[0m eta \u001B[36m0:00:00\u001B[0m:00:01\u001B[0m00:01\u001B[0m\n",
      "\u001B[?25hDownloading contourpy-1.1.1-cp38-cp38-manylinux_2_17_x86_64.manylinux2014_x86_64.whl (301 kB)\n",
      "\u001B[2K   \u001B[90m━━━━━━━━━━━━━━━━━━━━━━━━━━━━━━━━━━━━━━━━\u001B[0m \u001B[32m301.1/301.1 kB\u001B[0m \u001B[31m62.5 MB/s\u001B[0m eta \u001B[36m0:00:00\u001B[0m\n",
      "\u001B[?25hUsing cached cycler-0.12.1-py3-none-any.whl (8.3 kB)\n",
      "Downloading fonttools-4.47.0-cp38-cp38-manylinux_2_17_x86_64.manylinux2014_x86_64.whl (4.7 MB)\n",
      "\u001B[2K   \u001B[90m━━━━━━━━━━━━━━━━━━━━━━━━━━━━━━━━━━━━━━━━\u001B[0m \u001B[32m4.7/4.7 MB\u001B[0m \u001B[31m68.3 MB/s\u001B[0m eta \u001B[36m0:00:00\u001B[0mta \u001B[36m0:00:01\u001B[0m\n",
      "\u001B[?25hUsing cached importlib_resources-6.1.1-py3-none-any.whl (33 kB)\n",
      "Downloading kiwisolver-1.4.5-cp38-cp38-manylinux_2_5_x86_64.manylinux1_x86_64.whl (1.2 MB)\n",
      "\u001B[2K   \u001B[90m━━━━━━━━━━━━━━━━━━━━━━━━━━━━━━━━━━━━━━━━\u001B[0m \u001B[32m1.2/1.2 MB\u001B[0m \u001B[31m51.6 MB/s\u001B[0m eta \u001B[36m0:00:00\u001B[0m\n",
      "\u001B[?25hUsing cached pyparsing-3.1.1-py3-none-any.whl (103 kB)\n",
      "Installing collected packages: pyparsing, opencv-python, kiwisolver, importlib-resources, fonttools, cycler, contourpy, matplotlib\n",
      "Successfully installed contourpy-1.1.1 cycler-0.12.1 fonttools-4.47.0 importlib-resources-6.1.1 kiwisolver-1.4.5 matplotlib-3.7.4 opencv-python-4.8.1.78 pyparsing-3.1.1\n",
      "Note: you may need to restart the kernel to use updated packages.\n"
     ]
    }
   ],
   "source": [
    "%pip install opencv-python imageio  matplotlib"
   ]
  },
  {
   "cell_type": "code",
   "execution_count": 2,
   "id": "a999f48c",
   "metadata": {},
   "outputs": [
    {
     "name": "stdout",
     "output_type": "stream",
     "text": [
      "/bin/bash: /home/ediss3/miniconda3/envs/lipnet/lib/python3.9/site-packages/cv2/../../../../lib/libtinfo.so.6: no version information available (required by /bin/bash)\n",
      "Collecting matplotlib\n",
      "  Using cached matplotlib-3.8.2-cp39-cp39-manylinux_2_17_x86_64.manylinux2014_x86_64.whl.metadata (5.8 kB)\n",
      "Collecting contourpy>=1.0.1 (from matplotlib)\n",
      "  Using cached contourpy-1.2.0-cp39-cp39-manylinux_2_17_x86_64.manylinux2014_x86_64.whl.metadata (5.8 kB)\n",
      "Collecting cycler>=0.10 (from matplotlib)\n",
      "  Using cached cycler-0.12.1-py3-none-any.whl.metadata (3.8 kB)\n",
      "Collecting fonttools>=4.22.0 (from matplotlib)\n",
      "  Downloading fonttools-4.47.0-cp39-cp39-manylinux_2_17_x86_64.manylinux2014_x86_64.whl.metadata (157 kB)\n",
      "\u001B[2K     \u001B[90m━━━━━━━━━━━━━━━━━━━━━━━━━━━━━━━━━━━━━━━\u001B[0m \u001B[32m157.2/157.2 kB\u001B[0m \u001B[31m6.2 MB/s\u001B[0m eta \u001B[36m0:00:00\u001B[0m\n",
      "\u001B[?25hCollecting kiwisolver>=1.3.1 (from matplotlib)\n",
      "  Using cached kiwisolver-1.4.5-cp39-cp39-manylinux_2_12_x86_64.manylinux2010_x86_64.whl.metadata (6.4 kB)\n",
      "Requirement already satisfied: numpy<2,>=1.21 in /home/ediss3/miniconda3/envs/lipnet/lib/python3.9/site-packages (from matplotlib) (1.22.3)\n",
      "Requirement already satisfied: packaging>=20.0 in /home/ediss3/miniconda3/envs/lipnet/lib/python3.9/site-packages (from matplotlib) (23.1)\n",
      "Requirement already satisfied: pillow>=8 in /home/ediss3/miniconda3/envs/lipnet/lib/python3.9/site-packages (from matplotlib) (9.4.0)\n",
      "Collecting pyparsing>=2.3.1 (from matplotlib)\n",
      "  Using cached pyparsing-3.1.1-py3-none-any.whl.metadata (5.1 kB)\n",
      "Requirement already satisfied: python-dateutil>=2.7 in /home/ediss3/miniconda3/envs/lipnet/lib/python3.9/site-packages (from matplotlib) (2.8.2)\n",
      "Collecting importlib-resources>=3.2.0 (from matplotlib)\n",
      "  Using cached importlib_resources-6.1.1-py3-none-any.whl.metadata (4.1 kB)\n",
      "Requirement already satisfied: zipp>=3.1.0 in /home/ediss3/miniconda3/envs/lipnet/lib/python3.9/site-packages (from importlib-resources>=3.2.0->matplotlib) (3.11.0)\n",
      "Requirement already satisfied: six>=1.5 in /home/ediss3/miniconda3/envs/lipnet/lib/python3.9/site-packages (from python-dateutil>=2.7->matplotlib) (1.16.0)\n",
      "Using cached matplotlib-3.8.2-cp39-cp39-manylinux_2_17_x86_64.manylinux2014_x86_64.whl (11.6 MB)\n",
      "Using cached contourpy-1.2.0-cp39-cp39-manylinux_2_17_x86_64.manylinux2014_x86_64.whl (310 kB)\n",
      "Using cached cycler-0.12.1-py3-none-any.whl (8.3 kB)\n",
      "Downloading fonttools-4.47.0-cp39-cp39-manylinux_2_17_x86_64.manylinux2014_x86_64.whl (4.6 MB)\n",
      "\u001B[2K   \u001B[90m━━━━━━━━━━━━━━━━━━━━━━━━━━━━━━━━━━━━━━━━\u001B[0m \u001B[32m4.6/4.6 MB\u001B[0m \u001B[31m20.7 MB/s\u001B[0m eta \u001B[36m0:00:00\u001B[0m00:01\u001B[0m00:01\u001B[0m\n",
      "\u001B[?25hUsing cached importlib_resources-6.1.1-py3-none-any.whl (33 kB)\n",
      "Using cached kiwisolver-1.4.5-cp39-cp39-manylinux_2_12_x86_64.manylinux2010_x86_64.whl (1.6 MB)\n",
      "Using cached pyparsing-3.1.1-py3-none-any.whl (103 kB)\n",
      "Installing collected packages: pyparsing, kiwisolver, importlib-resources, fonttools, cycler, contourpy, matplotlib\n",
      "Successfully installed contourpy-1.2.0 cycler-0.12.1 fonttools-4.47.0 importlib-resources-6.1.1 kiwisolver-1.4.5 matplotlib-3.8.2 pyparsing-3.1.1\n",
      "Note: you may need to restart the kernel to use updated packages.\n"
     ]
    }
   ],
   "source": [
    "%pip install matplotlib"
   ]
  },
  {
   "cell_type": "code",
   "execution_count": 7,
   "id": "e12f6739c9edaa08",
   "metadata": {
    "ExecuteTime": {
     "end_time": "2023-12-17T13:34:02.762933Z",
     "start_time": "2023-12-17T13:32:15.270862Z"
    },
    "collapsed": false
   },
   "outputs": [
    {
     "name": "stdout",
     "output_type": "stream",
     "text": [
      "Collecting dlib\n",
      "  Using cached dlib-19.24.2-cp39-cp39-linux_x86_64.whl\n",
      "Collecting imutils\n",
      "  Using cached imutils-0.5.4-py3-none-any.whl\n",
      "Installing collected packages: imutils, dlib\n",
      "Successfully installed dlib-19.24.2 imutils-0.5.4\n",
      "Note: you may need to restart the kernel to use updated packages.\n"
     ]
    }
   ],
   "source": [
    "%pip install dlib imutils"
   ]
  },
  {
   "cell_type": "code",
   "execution_count": 1,
   "id": "dc9d34cb4048217a",
   "metadata": {
    "ExecuteTime": {
     "end_time": "2023-12-17T13:25:13.758992Z",
     "start_time": "2023-12-17T13:24:15.939548Z"
    },
    "collapsed": false
   },
   "outputs": [
    {
     "name": "stdout",
     "output_type": "stream",
     "text": [
      "--2023-12-17 15:24:16--  http://dlib.net/files/shape_predictor_68_face_landmarks.dat.bz2\r\n",
      "Resolving dlib.net (dlib.net)... 107.180.26.78\r\n",
      "Connecting to dlib.net (dlib.net)|107.180.26.78|:80... connected.\r\n",
      "HTTP request sent, awaiting response... 200 OK\r\n",
      "Length: 64040097 (61M)\r\n",
      "Saving to: ‘shape_predictor_68_face_landmarks.dat.bz2’\r\n",
      "\r\n",
      "shape_predictor_68_ 100%[===================>]  61.07M  1.08MB/s    in 57s     \r\n",
      "\r\n",
      "2023-12-17 15:25:13 (1.07 MB/s) - ‘shape_predictor_68_face_landmarks.dat.bz2’ saved [64040097/64040097]\r\n",
      "\r\n"
     ]
    }
   ],
   "source": [
    "!wget 'http://dlib.net/files/shape_predictor_68_face_landmarks.dat.bz2'"
   ]
  },
  {
   "cell_type": "code",
   "execution_count": 2,
   "id": "b2a5bf1bd0b924b9",
   "metadata": {
    "ExecuteTime": {
     "end_time": "2023-12-17T13:25:44.657813Z",
     "start_time": "2023-12-17T13:25:41.751509Z"
    },
    "collapsed": false
   },
   "outputs": [],
   "source": [
    "!bzip2 -d 'shape_predictor_68_face_landmarks.dat.bz2'"
   ]
  },
  {
   "cell_type": "code",
   "execution_count": 1,
   "id": "initial_id",
   "metadata": {
    "collapsed": true,
    "ExecuteTime": {
     "end_time": "2024-01-02T13:56:57.353209Z",
     "start_time": "2024-01-02T13:56:45.318090Z"
    }
   },
   "outputs": [],
   "source": [
    "import os, cv2\n",
    "from matplotlib import pyplot as plt\n",
    "import imageio\n",
    "import numpy as np\n",
    "import tensorflow as tf"
   ]
  },
  {
   "cell_type": "code",
   "execution_count": 2,
   "id": "ed7ba8d9",
   "metadata": {
    "ExecuteTime": {
     "end_time": "2024-01-02T13:56:58.233414Z",
     "start_time": "2024-01-02T13:56:58.226546Z"
    }
   },
   "outputs": [
    {
     "data": {
      "text/plain": "[]"
     },
     "execution_count": 2,
     "metadata": {},
     "output_type": "execute_result"
    }
   ],
   "source": [
    "tf.config.list_physical_devices('GPU')"
   ]
  },
  {
   "cell_type": "code",
   "execution_count": 3,
   "id": "95402e83aa9da9dd",
   "metadata": {
    "collapsed": false,
    "ExecuteTime": {
     "end_time": "2024-01-02T13:56:59.260749Z",
     "start_time": "2024-01-02T13:56:59.118442Z"
    }
   },
   "outputs": [],
   "source": [
    "gpus = tf.config.list_physical_devices('GPU')\n",
    "if gpus:\n",
    "  try:\n",
    "    # Currently, memory growth needs to be the same across GPUs\n",
    "    for gpu in gpus:\n",
    "      tf.config.experimental.set_memory_growth(gpu, True)\n",
    "    logical_gpus = tf.config.list_logical_devices('GPU')\n",
    "    print(len(gpus), \"Physical GPUs,\", len(logical_gpus), \"Logical GPUs\")\n",
    "  except RuntimeError as e:\n",
    "    # Memory growth must be set before GPUs have been initialized\n",
    "    print(e)"
   ]
  },
  {
   "cell_type": "markdown",
   "id": "9f6d42c9475df34d",
   "metadata": {
    "collapsed": false
   },
   "source": [
    "# 2 Build Data Loading Functions"
   ]
  },
  {
   "cell_type": "code",
   "execution_count": 4,
   "id": "154d965ebaf848",
   "metadata": {
    "ExecuteTime": {
     "end_time": "2023-12-17T13:05:33.811225Z",
     "start_time": "2023-12-17T13:05:33.235658Z"
    },
    "collapsed": false
   },
   "outputs": [
    {
     "ename": "ModuleNotFoundError",
     "evalue": "No module named 'gdown'",
     "output_type": "error",
     "traceback": [
      "\u001B[0;31m---------------------------------------------------------------------------\u001B[0m",
      "\u001B[0;31mModuleNotFoundError\u001B[0m                       Traceback (most recent call last)",
      "Cell \u001B[0;32mIn[4], line 1\u001B[0m\n\u001B[0;32m----> 1\u001B[0m \u001B[38;5;28;01mimport\u001B[39;00m \u001B[38;5;21;01mgdown\u001B[39;00m\n",
      "\u001B[0;31mModuleNotFoundError\u001B[0m: No module named 'gdown'"
     ]
    }
   ],
   "source": [
    "import gdown"
   ]
  },
  {
   "cell_type": "code",
   "execution_count": 13,
   "id": "a09ed743cdf3ad4",
   "metadata": {
    "ExecuteTime": {
     "end_time": "2023-12-17T13:08:30.350984Z",
     "start_time": "2023-12-17T13:07:41.512694Z"
    },
    "collapsed": false
   },
   "outputs": [
    {
     "name": "stderr",
     "output_type": "stream",
     "text": [
      "Downloading...\n",
      "From (uriginal): https://drive.google.com/uc?id=1YlvpDLix3S-U8fd-gqRwPcWXAXm8JwjL\n",
      "From (redirected): https://drive.google.com/uc?id=1YlvpDLix3S-U8fd-gqRwPcWXAXm8JwjL&confirm=t&uuid=392b3f6d-6e7a-487a-9647-cbacf0b96f18\n",
      "To: /ediss_data/ediss3/khizar/data.zip\n",
      "100%|██████████| 423M/423M [00:23<00:00, 18.4MB/s] \n"
     ]
    },
    {
     "data": {
      "text/plain": [
       "['/ediss_data/ediss3/khizar/data/',\n",
       " '/ediss_data/ediss3/khizar/data/alignments/',\n",
       " '/ediss_data/ediss3/khizar/data/alignments/s1/',\n",
       " '/ediss_data/ediss3/khizar/data/alignments/s1/bbaf2n.align',\n",
       " '/ediss_data/ediss3/khizar/data/alignments/s1/bbaf3s.align',\n",
       " '/ediss_data/ediss3/khizar/data/alignments/s1/bbaf4p.align',\n",
       " '/ediss_data/ediss3/khizar/data/alignments/s1/bbaf5a.align',\n",
       " '/ediss_data/ediss3/khizar/data/alignments/s1/bbal6n.align',\n",
       " '/ediss_data/ediss3/khizar/data/alignments/s1/bbal7s.align',\n",
       " '/ediss_data/ediss3/khizar/data/alignments/s1/bbal8p.align',\n",
       " '/ediss_data/ediss3/khizar/data/alignments/s1/bbal9a.align',\n",
       " '/ediss_data/ediss3/khizar/data/alignments/s1/bbas1s.align',\n",
       " '/ediss_data/ediss3/khizar/data/alignments/s1/bbas2p.align',\n",
       " '/ediss_data/ediss3/khizar/data/alignments/s1/bbas3a.align',\n",
       " '/ediss_data/ediss3/khizar/data/alignments/s1/bbaszn.align',\n",
       " '/ediss_data/ediss3/khizar/data/alignments/s1/bbaz4n.align',\n",
       " '/ediss_data/ediss3/khizar/data/alignments/s1/bbaz5s.align',\n",
       " '/ediss_data/ediss3/khizar/data/alignments/s1/bbaz6p.align',\n",
       " '/ediss_data/ediss3/khizar/data/alignments/s1/bbaz7a.align',\n",
       " '/ediss_data/ediss3/khizar/data/alignments/s1/bbbf6n.align',\n",
       " '/ediss_data/ediss3/khizar/data/alignments/s1/bbbf7s.align',\n",
       " '/ediss_data/ediss3/khizar/data/alignments/s1/bbbf8p.align',\n",
       " '/ediss_data/ediss3/khizar/data/alignments/s1/bbbf9a.align',\n",
       " '/ediss_data/ediss3/khizar/data/alignments/s1/bbbm1s.align',\n",
       " '/ediss_data/ediss3/khizar/data/alignments/s1/bbbm2p.align',\n",
       " '/ediss_data/ediss3/khizar/data/alignments/s1/bbbm3a.align',\n",
       " '/ediss_data/ediss3/khizar/data/alignments/s1/bbbmzn.align',\n",
       " '/ediss_data/ediss3/khizar/data/alignments/s1/bbbs4n.align',\n",
       " '/ediss_data/ediss3/khizar/data/alignments/s1/bbbs5s.align',\n",
       " '/ediss_data/ediss3/khizar/data/alignments/s1/bbbs6p.align',\n",
       " '/ediss_data/ediss3/khizar/data/alignments/s1/bbbs7a.align',\n",
       " '/ediss_data/ediss3/khizar/data/alignments/s1/bbbz8n.align',\n",
       " '/ediss_data/ediss3/khizar/data/alignments/s1/bbbz9s.align',\n",
       " '/ediss_data/ediss3/khizar/data/alignments/s1/bbie8n.align',\n",
       " '/ediss_data/ediss3/khizar/data/alignments/s1/bbie9s.align',\n",
       " '/ediss_data/ediss3/khizar/data/alignments/s1/bbif1a.align',\n",
       " '/ediss_data/ediss3/khizar/data/alignments/s1/bbifzp.align',\n",
       " '/ediss_data/ediss3/khizar/data/alignments/s1/bbil2n.align',\n",
       " '/ediss_data/ediss3/khizar/data/alignments/s1/bbil3s.align',\n",
       " '/ediss_data/ediss3/khizar/data/alignments/s1/bbil4p.align',\n",
       " '/ediss_data/ediss3/khizar/data/alignments/s1/bbil5a.align',\n",
       " '/ediss_data/ediss3/khizar/data/alignments/s1/bbir6n.align',\n",
       " '/ediss_data/ediss3/khizar/data/alignments/s1/bbir7s.align',\n",
       " '/ediss_data/ediss3/khizar/data/alignments/s1/bbir8p.align',\n",
       " '/ediss_data/ediss3/khizar/data/alignments/s1/bbir9a.align',\n",
       " '/ediss_data/ediss3/khizar/data/alignments/s1/bbiz1s.align',\n",
       " '/ediss_data/ediss3/khizar/data/alignments/s1/bbiz2p.align',\n",
       " '/ediss_data/ediss3/khizar/data/alignments/s1/bbiz3a.align',\n",
       " '/ediss_data/ediss3/khizar/data/alignments/s1/bbizzn.align',\n",
       " '/ediss_data/ediss3/khizar/data/alignments/s1/bbwg1s.align',\n",
       " '/ediss_data/ediss3/khizar/data/alignments/s1/bbwg2p.align',\n",
       " '/ediss_data/ediss3/khizar/data/alignments/s1/bbwg3a.align',\n",
       " '/ediss_data/ediss3/khizar/data/alignments/s1/bbwgzn.align',\n",
       " '/ediss_data/ediss3/khizar/data/alignments/s1/bbwm4n.align',\n",
       " '/ediss_data/ediss3/khizar/data/alignments/s1/bbwm5s.align',\n",
       " '/ediss_data/ediss3/khizar/data/alignments/s1/bbwm6p.align',\n",
       " '/ediss_data/ediss3/khizar/data/alignments/s1/bbwm7a.align',\n",
       " '/ediss_data/ediss3/khizar/data/alignments/s1/bbws8n.align',\n",
       " '/ediss_data/ediss3/khizar/data/alignments/s1/bbws9s.align',\n",
       " '/ediss_data/ediss3/khizar/data/alignments/s1/bbwt1a.align',\n",
       " '/ediss_data/ediss3/khizar/data/alignments/s1/bbwtzp.align',\n",
       " '/ediss_data/ediss3/khizar/data/alignments/s1/bgaa6n.align',\n",
       " '/ediss_data/ediss3/khizar/data/alignments/s1/bgaa7s.align',\n",
       " '/ediss_data/ediss3/khizar/data/alignments/s1/bgaa8p.align',\n",
       " '/ediss_data/ediss3/khizar/data/alignments/s1/bgaa9a.align',\n",
       " '/ediss_data/ediss3/khizar/data/alignments/s1/bgah1s.align',\n",
       " '/ediss_data/ediss3/khizar/data/alignments/s1/bgah2p.align',\n",
       " '/ediss_data/ediss3/khizar/data/alignments/s1/bgah3a.align',\n",
       " '/ediss_data/ediss3/khizar/data/alignments/s1/bgahzn.align',\n",
       " '/ediss_data/ediss3/khizar/data/alignments/s1/bgan4n.align',\n",
       " '/ediss_data/ediss3/khizar/data/alignments/s1/bgan5s.align',\n",
       " '/ediss_data/ediss3/khizar/data/alignments/s1/bgan6p.align',\n",
       " '/ediss_data/ediss3/khizar/data/alignments/s1/bgan7a.align',\n",
       " '/ediss_data/ediss3/khizar/data/alignments/s1/bgat8n.align',\n",
       " '/ediss_data/ediss3/khizar/data/alignments/s1/bgat9s.align',\n",
       " '/ediss_data/ediss3/khizar/data/alignments/s1/bgau1a.align',\n",
       " '/ediss_data/ediss3/khizar/data/alignments/s1/bgauzp.align',\n",
       " '/ediss_data/ediss3/khizar/data/alignments/s1/bgbb1s.align',\n",
       " '/ediss_data/ediss3/khizar/data/alignments/s1/bgbb2p.align',\n",
       " '/ediss_data/ediss3/khizar/data/alignments/s1/bgbb3a.align',\n",
       " '/ediss_data/ediss3/khizar/data/alignments/s1/bgbbzn.align',\n",
       " '/ediss_data/ediss3/khizar/data/alignments/s1/bgbh4n.align',\n",
       " '/ediss_data/ediss3/khizar/data/alignments/s1/bgbh5s.align',\n",
       " '/ediss_data/ediss3/khizar/data/alignments/s1/bgbh6p.align',\n",
       " '/ediss_data/ediss3/khizar/data/alignments/s1/bgbh7a.align',\n",
       " '/ediss_data/ediss3/khizar/data/alignments/s1/bgbn8n.align',\n",
       " '/ediss_data/ediss3/khizar/data/alignments/s1/bgbn9s.align',\n",
       " '/ediss_data/ediss3/khizar/data/alignments/s1/bgbo1a.align',\n",
       " '/ediss_data/ediss3/khizar/data/alignments/s1/bgbozp.align',\n",
       " '/ediss_data/ediss3/khizar/data/alignments/s1/bgbu2n.align',\n",
       " '/ediss_data/ediss3/khizar/data/alignments/s1/bgbu3s.align',\n",
       " '/ediss_data/ediss3/khizar/data/alignments/s1/bgbu4p.align',\n",
       " '/ediss_data/ediss3/khizar/data/alignments/s1/bgbu5a.align',\n",
       " '/ediss_data/ediss3/khizar/data/alignments/s1/bgia2n.align',\n",
       " '/ediss_data/ediss3/khizar/data/alignments/s1/bgia3s.align',\n",
       " '/ediss_data/ediss3/khizar/data/alignments/s1/bgia4p.align',\n",
       " '/ediss_data/ediss3/khizar/data/alignments/s1/bgia5a.align',\n",
       " '/ediss_data/ediss3/khizar/data/alignments/s1/bgig6n.align',\n",
       " '/ediss_data/ediss3/khizar/data/alignments/s1/bgig7s.align',\n",
       " '/ediss_data/ediss3/khizar/data/alignments/s1/bgig8p.align',\n",
       " '/ediss_data/ediss3/khizar/data/alignments/s1/bgig9a.align',\n",
       " '/ediss_data/ediss3/khizar/data/alignments/s1/bgin1s.align',\n",
       " '/ediss_data/ediss3/khizar/data/alignments/s1/bgin2p.align',\n",
       " '/ediss_data/ediss3/khizar/data/alignments/s1/bgin3a.align',\n",
       " '/ediss_data/ediss3/khizar/data/alignments/s1/bginzn.align',\n",
       " '/ediss_data/ediss3/khizar/data/alignments/s1/bgit4n.align',\n",
       " '/ediss_data/ediss3/khizar/data/alignments/s1/bgit5s.align',\n",
       " '/ediss_data/ediss3/khizar/data/alignments/s1/bgit6p.align',\n",
       " '/ediss_data/ediss3/khizar/data/alignments/s1/bgit7a.align',\n",
       " '/ediss_data/ediss3/khizar/data/alignments/s1/bgwb4n.align',\n",
       " '/ediss_data/ediss3/khizar/data/alignments/s1/bgwb5s.align',\n",
       " '/ediss_data/ediss3/khizar/data/alignments/s1/bgwb6p.align',\n",
       " '/ediss_data/ediss3/khizar/data/alignments/s1/bgwb7a.align',\n",
       " '/ediss_data/ediss3/khizar/data/alignments/s1/bgwh8n.align',\n",
       " '/ediss_data/ediss3/khizar/data/alignments/s1/bgwh9s.align',\n",
       " '/ediss_data/ediss3/khizar/data/alignments/s1/bgwi1a.align',\n",
       " '/ediss_data/ediss3/khizar/data/alignments/s1/bgwizp.align',\n",
       " '/ediss_data/ediss3/khizar/data/alignments/s1/bgwo2n.align',\n",
       " '/ediss_data/ediss3/khizar/data/alignments/s1/bgwo3s.align',\n",
       " '/ediss_data/ediss3/khizar/data/alignments/s1/bgwo4p.align',\n",
       " '/ediss_data/ediss3/khizar/data/alignments/s1/bgwo5a.align',\n",
       " '/ediss_data/ediss3/khizar/data/alignments/s1/bgwu6n.align',\n",
       " '/ediss_data/ediss3/khizar/data/alignments/s1/bgwu7s.align',\n",
       " '/ediss_data/ediss3/khizar/data/alignments/s1/bgwu8p.align',\n",
       " '/ediss_data/ediss3/khizar/data/alignments/s1/bgwu9a.align',\n",
       " '/ediss_data/ediss3/khizar/data/alignments/s1/braf8n.align',\n",
       " '/ediss_data/ediss3/khizar/data/alignments/s1/braf9s.align',\n",
       " '/ediss_data/ediss3/khizar/data/alignments/s1/brag1a.align',\n",
       " '/ediss_data/ediss3/khizar/data/alignments/s1/bragzp.align',\n",
       " '/ediss_data/ediss3/khizar/data/alignments/s1/bram2n.align',\n",
       " '/ediss_data/ediss3/khizar/data/alignments/s1/bram3s.align',\n",
       " '/ediss_data/ediss3/khizar/data/alignments/s1/bram4p.align',\n",
       " '/ediss_data/ediss3/khizar/data/alignments/s1/bram5a.align',\n",
       " '/ediss_data/ediss3/khizar/data/alignments/s1/bras6n.align',\n",
       " '/ediss_data/ediss3/khizar/data/alignments/s1/bras7s.align',\n",
       " '/ediss_data/ediss3/khizar/data/alignments/s1/bras8p.align',\n",
       " '/ediss_data/ediss3/khizar/data/alignments/s1/bras9a.align',\n",
       " '/ediss_data/ediss3/khizar/data/alignments/s1/brba1a.align',\n",
       " '/ediss_data/ediss3/khizar/data/alignments/s1/brbazp.align',\n",
       " '/ediss_data/ediss3/khizar/data/alignments/s1/brbg2n.align',\n",
       " '/ediss_data/ediss3/khizar/data/alignments/s1/brbg3s.align',\n",
       " '/ediss_data/ediss3/khizar/data/alignments/s1/brbg4p.align',\n",
       " '/ediss_data/ediss3/khizar/data/alignments/s1/brbg5a.align',\n",
       " '/ediss_data/ediss3/khizar/data/alignments/s1/brbm6n.align',\n",
       " '/ediss_data/ediss3/khizar/data/alignments/s1/brbm7s.align',\n",
       " '/ediss_data/ediss3/khizar/data/alignments/s1/brbm8p.align',\n",
       " '/ediss_data/ediss3/khizar/data/alignments/s1/brbm9a.align',\n",
       " '/ediss_data/ediss3/khizar/data/alignments/s1/brbt1s.align',\n",
       " '/ediss_data/ediss3/khizar/data/alignments/s1/brbt2p.align',\n",
       " '/ediss_data/ediss3/khizar/data/alignments/s1/brbt3a.align',\n",
       " '/ediss_data/ediss3/khizar/data/alignments/s1/brbtzn.align',\n",
       " '/ediss_data/ediss3/khizar/data/alignments/s1/brif4n.align',\n",
       " '/ediss_data/ediss3/khizar/data/alignments/s1/brif5s.align',\n",
       " '/ediss_data/ediss3/khizar/data/alignments/s1/brif6p.align',\n",
       " '/ediss_data/ediss3/khizar/data/alignments/s1/brif7a.align',\n",
       " '/ediss_data/ediss3/khizar/data/alignments/s1/bril8n.align',\n",
       " '/ediss_data/ediss3/khizar/data/alignments/s1/bril9s.align',\n",
       " '/ediss_data/ediss3/khizar/data/alignments/s1/brim1a.align',\n",
       " '/ediss_data/ediss3/khizar/data/alignments/s1/brimzp.align',\n",
       " '/ediss_data/ediss3/khizar/data/alignments/s1/bris2n.align',\n",
       " '/ediss_data/ediss3/khizar/data/alignments/s1/bris3s.align',\n",
       " '/ediss_data/ediss3/khizar/data/alignments/s1/bris4p.align',\n",
       " '/ediss_data/ediss3/khizar/data/alignments/s1/bris5a.align',\n",
       " '/ediss_data/ediss3/khizar/data/alignments/s1/briz6n.align',\n",
       " '/ediss_data/ediss3/khizar/data/alignments/s1/briz7s.align',\n",
       " '/ediss_data/ediss3/khizar/data/alignments/s1/briz8p.align',\n",
       " '/ediss_data/ediss3/khizar/data/alignments/s1/briz9a.align',\n",
       " '/ediss_data/ediss3/khizar/data/alignments/s1/brwa2n.align',\n",
       " '/ediss_data/ediss3/khizar/data/alignments/s1/brwa3s.align',\n",
       " '/ediss_data/ediss3/khizar/data/alignments/s1/brwa4p.align',\n",
       " '/ediss_data/ediss3/khizar/data/alignments/s1/brwa5a.align',\n",
       " '/ediss_data/ediss3/khizar/data/alignments/s1/brwg6n.align',\n",
       " '/ediss_data/ediss3/khizar/data/alignments/s1/brwg7s.align',\n",
       " '/ediss_data/ediss3/khizar/data/alignments/s1/brwg8p.align',\n",
       " '/ediss_data/ediss3/khizar/data/alignments/s1/brwg9a.align',\n",
       " '/ediss_data/ediss3/khizar/data/alignments/s1/brwn1s.align',\n",
       " '/ediss_data/ediss3/khizar/data/alignments/s1/brwn2p.align',\n",
       " '/ediss_data/ediss3/khizar/data/alignments/s1/brwn3a.align',\n",
       " '/ediss_data/ediss3/khizar/data/alignments/s1/brwnzn.align',\n",
       " '/ediss_data/ediss3/khizar/data/alignments/s1/brwt4n.align',\n",
       " '/ediss_data/ediss3/khizar/data/alignments/s1/brwt5s.align',\n",
       " '/ediss_data/ediss3/khizar/data/alignments/s1/brwt6p.align',\n",
       " '/ediss_data/ediss3/khizar/data/alignments/s1/brwt7a.align',\n",
       " '/ediss_data/ediss3/khizar/data/alignments/s1/bwaa1s.align',\n",
       " '/ediss_data/ediss3/khizar/data/alignments/s1/bwaa2p.align',\n",
       " '/ediss_data/ediss3/khizar/data/alignments/s1/bwaa3a.align',\n",
       " '/ediss_data/ediss3/khizar/data/alignments/s1/bwaazn.align',\n",
       " '/ediss_data/ediss3/khizar/data/alignments/s1/bwag4n.align',\n",
       " '/ediss_data/ediss3/khizar/data/alignments/s1/bwag5s.align',\n",
       " '/ediss_data/ediss3/khizar/data/alignments/s1/bwag6p.align',\n",
       " '/ediss_data/ediss3/khizar/data/alignments/s1/bwag7a.align',\n",
       " '/ediss_data/ediss3/khizar/data/alignments/s1/bwam8n.align',\n",
       " '/ediss_data/ediss3/khizar/data/alignments/s1/bwam9s.align',\n",
       " '/ediss_data/ediss3/khizar/data/alignments/s1/bwan1a.align',\n",
       " '/ediss_data/ediss3/khizar/data/alignments/s1/bwanzp.align',\n",
       " '/ediss_data/ediss3/khizar/data/alignments/s1/bwat2n.align',\n",
       " '/ediss_data/ediss3/khizar/data/alignments/s1/bwat3s.align',\n",
       " '/ediss_data/ediss3/khizar/data/alignments/s1/bwat4p.align',\n",
       " '/ediss_data/ediss3/khizar/data/alignments/s1/bwat5a.align',\n",
       " '/ediss_data/ediss3/khizar/data/alignments/s1/bwba4n.align',\n",
       " '/ediss_data/ediss3/khizar/data/alignments/s1/bwba5s.align',\n",
       " '/ediss_data/ediss3/khizar/data/alignments/s1/bwba6p.align',\n",
       " '/ediss_data/ediss3/khizar/data/alignments/s1/bwba7a.align',\n",
       " '/ediss_data/ediss3/khizar/data/alignments/s1/bwbg8n.align',\n",
       " '/ediss_data/ediss3/khizar/data/alignments/s1/bwbg9s.align',\n",
       " '/ediss_data/ediss3/khizar/data/alignments/s1/bwbh1a.align',\n",
       " '/ediss_data/ediss3/khizar/data/alignments/s1/bwbhzp.align',\n",
       " '/ediss_data/ediss3/khizar/data/alignments/s1/bwbn2n.align',\n",
       " '/ediss_data/ediss3/khizar/data/alignments/s1/bwbn3s.align',\n",
       " '/ediss_data/ediss3/khizar/data/alignments/s1/bwbn4p.align',\n",
       " '/ediss_data/ediss3/khizar/data/alignments/s1/bwbn5a.align',\n",
       " '/ediss_data/ediss3/khizar/data/alignments/s1/bwbt6n.align',\n",
       " '/ediss_data/ediss3/khizar/data/alignments/s1/bwbt7s.align',\n",
       " '/ediss_data/ediss3/khizar/data/alignments/s1/bwbt8p.align',\n",
       " '/ediss_data/ediss3/khizar/data/alignments/s1/bwbt9a.align',\n",
       " '/ediss_data/ediss3/khizar/data/alignments/s1/bwig1s.align',\n",
       " '/ediss_data/ediss3/khizar/data/alignments/s1/bwig2p.align',\n",
       " '/ediss_data/ediss3/khizar/data/alignments/s1/bwig3a.align',\n",
       " '/ediss_data/ediss3/khizar/data/alignments/s1/bwigzn.align',\n",
       " '/ediss_data/ediss3/khizar/data/alignments/s1/bwim4n.align',\n",
       " '/ediss_data/ediss3/khizar/data/alignments/s1/bwim5s.align',\n",
       " '/ediss_data/ediss3/khizar/data/alignments/s1/bwim6p.align',\n",
       " '/ediss_data/ediss3/khizar/data/alignments/s1/bwim7a.align',\n",
       " '/ediss_data/ediss3/khizar/data/alignments/s1/bwis8n.align',\n",
       " '/ediss_data/ediss3/khizar/data/alignments/s1/bwis9s.align',\n",
       " '/ediss_data/ediss3/khizar/data/alignments/s1/bwit1a.align',\n",
       " '/ediss_data/ediss3/khizar/data/alignments/s1/bwitzp.align',\n",
       " '/ediss_data/ediss3/khizar/data/alignments/s1/bwwa8n.align',\n",
       " '/ediss_data/ediss3/khizar/data/alignments/s1/bwwa9s.align',\n",
       " '/ediss_data/ediss3/khizar/data/alignments/s1/bwwb1a.align',\n",
       " '/ediss_data/ediss3/khizar/data/alignments/s1/bwwbzp.align',\n",
       " '/ediss_data/ediss3/khizar/data/alignments/s1/bwwh2n.align',\n",
       " '/ediss_data/ediss3/khizar/data/alignments/s1/bwwh3s.align',\n",
       " '/ediss_data/ediss3/khizar/data/alignments/s1/bwwh4p.align',\n",
       " '/ediss_data/ediss3/khizar/data/alignments/s1/bwwh5a.align',\n",
       " '/ediss_data/ediss3/khizar/data/alignments/s1/bwwn6n.align',\n",
       " '/ediss_data/ediss3/khizar/data/alignments/s1/bwwn7s.align',\n",
       " '/ediss_data/ediss3/khizar/data/alignments/s1/bwwn8p.align',\n",
       " '/ediss_data/ediss3/khizar/data/alignments/s1/bwwn9a.align',\n",
       " '/ediss_data/ediss3/khizar/data/alignments/s1/bwwu1s.align',\n",
       " '/ediss_data/ediss3/khizar/data/alignments/s1/bwwu2p.align',\n",
       " '/ediss_data/ediss3/khizar/data/alignments/s1/bwwu3a.align',\n",
       " '/ediss_data/ediss3/khizar/data/alignments/s1/bwwuzn.align',\n",
       " '/ediss_data/ediss3/khizar/data/alignments/s1/lbad6n.align',\n",
       " '/ediss_data/ediss3/khizar/data/alignments/s1/lbad7s.align',\n",
       " '/ediss_data/ediss3/khizar/data/alignments/s1/lbad8p.align',\n",
       " '/ediss_data/ediss3/khizar/data/alignments/s1/lbad9a.align',\n",
       " '/ediss_data/ediss3/khizar/data/alignments/s1/lbak1s.align',\n",
       " '/ediss_data/ediss3/khizar/data/alignments/s1/lbak2p.align',\n",
       " '/ediss_data/ediss3/khizar/data/alignments/s1/lbak3a.align',\n",
       " '/ediss_data/ediss3/khizar/data/alignments/s1/lbakzn.align',\n",
       " '/ediss_data/ediss3/khizar/data/alignments/s1/lbaq4n.align',\n",
       " '/ediss_data/ediss3/khizar/data/alignments/s1/lbaq5s.align',\n",
       " '/ediss_data/ediss3/khizar/data/alignments/s1/lbaq6p.align',\n",
       " '/ediss_data/ediss3/khizar/data/alignments/s1/lbaq7a.align',\n",
       " '/ediss_data/ediss3/khizar/data/alignments/s1/lbax8n.align',\n",
       " '/ediss_data/ediss3/khizar/data/alignments/s1/lbax9s.align',\n",
       " '/ediss_data/ediss3/khizar/data/alignments/s1/lbay1a.align',\n",
       " '/ediss_data/ediss3/khizar/data/alignments/s1/lbayzp.align',\n",
       " '/ediss_data/ediss3/khizar/data/alignments/s1/lbbe1s.align',\n",
       " '/ediss_data/ediss3/khizar/data/alignments/s1/lbbe2p.align',\n",
       " '/ediss_data/ediss3/khizar/data/alignments/s1/lbbe3a.align',\n",
       " '/ediss_data/ediss3/khizar/data/alignments/s1/lbbezn.align',\n",
       " '/ediss_data/ediss3/khizar/data/alignments/s1/lbbk4n.align',\n",
       " '/ediss_data/ediss3/khizar/data/alignments/s1/lbbk5s.align',\n",
       " '/ediss_data/ediss3/khizar/data/alignments/s1/lbbk6p.align',\n",
       " '/ediss_data/ediss3/khizar/data/alignments/s1/lbbk7a.align',\n",
       " '/ediss_data/ediss3/khizar/data/alignments/s1/lbbq8n.align',\n",
       " '/ediss_data/ediss3/khizar/data/alignments/s1/lbbq9s.align',\n",
       " '/ediss_data/ediss3/khizar/data/alignments/s1/lbbr1a.align',\n",
       " '/ediss_data/ediss3/khizar/data/alignments/s1/lbbrzp.align',\n",
       " '/ediss_data/ediss3/khizar/data/alignments/s1/lbby2n.align',\n",
       " '/ediss_data/ediss3/khizar/data/alignments/s1/lbby3s.align',\n",
       " '/ediss_data/ediss3/khizar/data/alignments/s1/lbby4p.align',\n",
       " '/ediss_data/ediss3/khizar/data/alignments/s1/lbby5a.align',\n",
       " '/ediss_data/ediss3/khizar/data/alignments/s1/lbid2n.align',\n",
       " '/ediss_data/ediss3/khizar/data/alignments/s1/lbid3s.align',\n",
       " '/ediss_data/ediss3/khizar/data/alignments/s1/lbid4p.align',\n",
       " '/ediss_data/ediss3/khizar/data/alignments/s1/lbid5a.align',\n",
       " '/ediss_data/ediss3/khizar/data/alignments/s1/lbij6n.align',\n",
       " '/ediss_data/ediss3/khizar/data/alignments/s1/lbij7s.align',\n",
       " '/ediss_data/ediss3/khizar/data/alignments/s1/lbij8p.align',\n",
       " '/ediss_data/ediss3/khizar/data/alignments/s1/lbij9a.align',\n",
       " '/ediss_data/ediss3/khizar/data/alignments/s1/lbiq1s.align',\n",
       " '/ediss_data/ediss3/khizar/data/alignments/s1/lbiq2p.align',\n",
       " '/ediss_data/ediss3/khizar/data/alignments/s1/lbiq3a.align',\n",
       " '/ediss_data/ediss3/khizar/data/alignments/s1/lbiqzn.align',\n",
       " '/ediss_data/ediss3/khizar/data/alignments/s1/lbix4n.align',\n",
       " '/ediss_data/ediss3/khizar/data/alignments/s1/lbix5s.align',\n",
       " '/ediss_data/ediss3/khizar/data/alignments/s1/lbix6p.align',\n",
       " '/ediss_data/ediss3/khizar/data/alignments/s1/lbix7a.align',\n",
       " '/ediss_data/ediss3/khizar/data/alignments/s1/lbwe4n.align',\n",
       " '/ediss_data/ediss3/khizar/data/alignments/s1/lbwe5s.align',\n",
       " '/ediss_data/ediss3/khizar/data/alignments/s1/lbwe6p.align',\n",
       " '/ediss_data/ediss3/khizar/data/alignments/s1/lbwe7a.align',\n",
       " '/ediss_data/ediss3/khizar/data/alignments/s1/lbwk8n.align',\n",
       " '/ediss_data/ediss3/khizar/data/alignments/s1/lbwk9s.align',\n",
       " '/ediss_data/ediss3/khizar/data/alignments/s1/lbwl1a.align',\n",
       " '/ediss_data/ediss3/khizar/data/alignments/s1/lbwlzp.align',\n",
       " '/ediss_data/ediss3/khizar/data/alignments/s1/lbwr2n.align',\n",
       " '/ediss_data/ediss3/khizar/data/alignments/s1/lbwr3s.align',\n",
       " '/ediss_data/ediss3/khizar/data/alignments/s1/lbwr4p.align',\n",
       " '/ediss_data/ediss3/khizar/data/alignments/s1/lbwr5a.align',\n",
       " '/ediss_data/ediss3/khizar/data/alignments/s1/lbwy6n.align',\n",
       " '/ediss_data/ediss3/khizar/data/alignments/s1/lbwy7s.align',\n",
       " '/ediss_data/ediss3/khizar/data/alignments/s1/lbwy8p.align',\n",
       " '/ediss_data/ediss3/khizar/data/alignments/s1/lbwy9a.align',\n",
       " '/ediss_data/ediss3/khizar/data/alignments/s1/lgaf4n.align',\n",
       " '/ediss_data/ediss3/khizar/data/alignments/s1/lgaf5s.align',\n",
       " '/ediss_data/ediss3/khizar/data/alignments/s1/lgaf6p.align',\n",
       " '/ediss_data/ediss3/khizar/data/alignments/s1/lgaf7a.align',\n",
       " '/ediss_data/ediss3/khizar/data/alignments/s1/lgal8n.align',\n",
       " '/ediss_data/ediss3/khizar/data/alignments/s1/lgal9s.align',\n",
       " '/ediss_data/ediss3/khizar/data/alignments/s1/lgam1a.align',\n",
       " '/ediss_data/ediss3/khizar/data/alignments/s1/lgamzp.align',\n",
       " '/ediss_data/ediss3/khizar/data/alignments/s1/lgas2n.align',\n",
       " '/ediss_data/ediss3/khizar/data/alignments/s1/lgas3s.align',\n",
       " '/ediss_data/ediss3/khizar/data/alignments/s1/lgas4p.align',\n",
       " '/ediss_data/ediss3/khizar/data/alignments/s1/lgas5a.align',\n",
       " '/ediss_data/ediss3/khizar/data/alignments/s1/lgaz6n.align',\n",
       " '/ediss_data/ediss3/khizar/data/alignments/s1/lgaz7s.align',\n",
       " '/ediss_data/ediss3/khizar/data/alignments/s1/lgaz8p.align',\n",
       " '/ediss_data/ediss3/khizar/data/alignments/s1/lgaz9a.align',\n",
       " '/ediss_data/ediss3/khizar/data/alignments/s1/lgbf8n.align',\n",
       " '/ediss_data/ediss3/khizar/data/alignments/s1/lgbf9s.align',\n",
       " '/ediss_data/ediss3/khizar/data/alignments/s1/lgbg1a.align',\n",
       " '/ediss_data/ediss3/khizar/data/alignments/s1/lgbgzp.align',\n",
       " '/ediss_data/ediss3/khizar/data/alignments/s1/lgbm2n.align',\n",
       " '/ediss_data/ediss3/khizar/data/alignments/s1/lgbm3s.align',\n",
       " '/ediss_data/ediss3/khizar/data/alignments/s1/lgbm4p.align',\n",
       " '/ediss_data/ediss3/khizar/data/alignments/s1/lgbm5a.align',\n",
       " '/ediss_data/ediss3/khizar/data/alignments/s1/lgbs6n.align',\n",
       " '/ediss_data/ediss3/khizar/data/alignments/s1/lgbs7s.align',\n",
       " '/ediss_data/ediss3/khizar/data/alignments/s1/lgbs8p.align',\n",
       " '/ediss_data/ediss3/khizar/data/alignments/s1/lgbs9a.align',\n",
       " '/ediss_data/ediss3/khizar/data/alignments/s1/lgif1s.align',\n",
       " '/ediss_data/ediss3/khizar/data/alignments/s1/lgif2p.align',\n",
       " '/ediss_data/ediss3/khizar/data/alignments/s1/lgif3a.align',\n",
       " '/ediss_data/ediss3/khizar/data/alignments/s1/lgifzn.align',\n",
       " '/ediss_data/ediss3/khizar/data/alignments/s1/lgil4n.align',\n",
       " '/ediss_data/ediss3/khizar/data/alignments/s1/lgil5s.align',\n",
       " '/ediss_data/ediss3/khizar/data/alignments/s1/lgil6p.align',\n",
       " '/ediss_data/ediss3/khizar/data/alignments/s1/lgil7a.align',\n",
       " '/ediss_data/ediss3/khizar/data/alignments/s1/lgir8n.align',\n",
       " '/ediss_data/ediss3/khizar/data/alignments/s1/lgir9s.align',\n",
       " '/ediss_data/ediss3/khizar/data/alignments/s1/lgis1a.align',\n",
       " '/ediss_data/ediss3/khizar/data/alignments/s1/lgiszp.align',\n",
       " '/ediss_data/ediss3/khizar/data/alignments/s1/lgiz2n.align',\n",
       " '/ediss_data/ediss3/khizar/data/alignments/s1/lgiz3s.align',\n",
       " '/ediss_data/ediss3/khizar/data/alignments/s1/lgiz4p.align',\n",
       " '/ediss_data/ediss3/khizar/data/alignments/s1/lgiz5a.align',\n",
       " '/ediss_data/ediss3/khizar/data/alignments/s1/lgwa1a.align',\n",
       " '/ediss_data/ediss3/khizar/data/alignments/s1/lgwazp.align',\n",
       " '/ediss_data/ediss3/khizar/data/alignments/s1/lgwg2n.align',\n",
       " '/ediss_data/ediss3/khizar/data/alignments/s1/lgwg3s.align',\n",
       " '/ediss_data/ediss3/khizar/data/alignments/s1/lgwg4p.align',\n",
       " '/ediss_data/ediss3/khizar/data/alignments/s1/lgwg5a.align',\n",
       " '/ediss_data/ediss3/khizar/data/alignments/s1/lgwm6n.align',\n",
       " '/ediss_data/ediss3/khizar/data/alignments/s1/lgwm7s.align',\n",
       " '/ediss_data/ediss3/khizar/data/alignments/s1/lgwm8p.align',\n",
       " '/ediss_data/ediss3/khizar/data/alignments/s1/lgwm9a.align',\n",
       " '/ediss_data/ediss3/khizar/data/alignments/s1/lgwt1s.align',\n",
       " '/ediss_data/ediss3/khizar/data/alignments/s1/lgwt2p.align',\n",
       " '/ediss_data/ediss3/khizar/data/alignments/s1/lgwt3a.align',\n",
       " '/ediss_data/ediss3/khizar/data/alignments/s1/lgwtzn.align',\n",
       " '/ediss_data/ediss3/khizar/data/alignments/s1/lrae2n.align',\n",
       " '/ediss_data/ediss3/khizar/data/alignments/s1/lrae3s.align',\n",
       " '/ediss_data/ediss3/khizar/data/alignments/s1/lrae4p.align',\n",
       " '/ediss_data/ediss3/khizar/data/alignments/s1/lrae5a.align',\n",
       " '/ediss_data/ediss3/khizar/data/alignments/s1/lrak6n.align',\n",
       " '/ediss_data/ediss3/khizar/data/alignments/s1/lrak7s.align',\n",
       " '/ediss_data/ediss3/khizar/data/alignments/s1/lrak8p.align',\n",
       " '/ediss_data/ediss3/khizar/data/alignments/s1/lrak9a.align',\n",
       " '/ediss_data/ediss3/khizar/data/alignments/s1/lrar1s.align',\n",
       " '/ediss_data/ediss3/khizar/data/alignments/s1/lrar2p.align',\n",
       " '/ediss_data/ediss3/khizar/data/alignments/s1/lrar3a.align',\n",
       " '/ediss_data/ediss3/khizar/data/alignments/s1/lrarzn.align',\n",
       " '/ediss_data/ediss3/khizar/data/alignments/s1/lray4n.align',\n",
       " '/ediss_data/ediss3/khizar/data/alignments/s1/lray5s.align',\n",
       " '/ediss_data/ediss3/khizar/data/alignments/s1/lray6p.align',\n",
       " '/ediss_data/ediss3/khizar/data/alignments/s1/lray7a.align',\n",
       " '/ediss_data/ediss3/khizar/data/alignments/s1/lrbe6n.align',\n",
       " '/ediss_data/ediss3/khizar/data/alignments/s1/lrbe7s.align',\n",
       " '/ediss_data/ediss3/khizar/data/alignments/s1/lrbe8p.align',\n",
       " '/ediss_data/ediss3/khizar/data/alignments/s1/lrbe9a.align',\n",
       " '/ediss_data/ediss3/khizar/data/alignments/s1/lrbl1s.align',\n",
       " '/ediss_data/ediss3/khizar/data/alignments/s1/lrbl2p.align',\n",
       " '/ediss_data/ediss3/khizar/data/alignments/s1/lrbl3a.align',\n",
       " '/ediss_data/ediss3/khizar/data/alignments/s1/lrblzn.align',\n",
       " '/ediss_data/ediss3/khizar/data/alignments/s1/lrbr4n.align',\n",
       " '/ediss_data/ediss3/khizar/data/alignments/s1/lrbr5s.align',\n",
       " '/ediss_data/ediss3/khizar/data/alignments/s1/lrbr6p.align',\n",
       " '/ediss_data/ediss3/khizar/data/alignments/s1/lrbr7a.align',\n",
       " '/ediss_data/ediss3/khizar/data/alignments/s1/lrby8n.align',\n",
       " '/ediss_data/ediss3/khizar/data/alignments/s1/lrby9s.align',\n",
       " '/ediss_data/ediss3/khizar/data/alignments/s1/lrbz1a.align',\n",
       " '/ediss_data/ediss3/khizar/data/alignments/s1/lrbzzp.align',\n",
       " '/ediss_data/ediss3/khizar/data/alignments/s1/lrid8n.align',\n",
       " '/ediss_data/ediss3/khizar/data/alignments/s1/lrid9s.align',\n",
       " '/ediss_data/ediss3/khizar/data/alignments/s1/lrie1a.align',\n",
       " '/ediss_data/ediss3/khizar/data/alignments/s1/lriezp.align',\n",
       " '/ediss_data/ediss3/khizar/data/alignments/s1/lrik2n.align',\n",
       " '/ediss_data/ediss3/khizar/data/alignments/s1/lrik3s.align',\n",
       " '/ediss_data/ediss3/khizar/data/alignments/s1/lrik4p.align',\n",
       " '/ediss_data/ediss3/khizar/data/alignments/s1/lrik5a.align',\n",
       " '/ediss_data/ediss3/khizar/data/alignments/s1/lriq6n.align',\n",
       " '/ediss_data/ediss3/khizar/data/alignments/s1/lriq7s.align',\n",
       " '/ediss_data/ediss3/khizar/data/alignments/s1/lriq8p.align',\n",
       " '/ediss_data/ediss3/khizar/data/alignments/s1/lriq9a.align',\n",
       " '/ediss_data/ediss3/khizar/data/alignments/s1/lriy1s.align',\n",
       " '/ediss_data/ediss3/khizar/data/alignments/s1/lriy2p.align',\n",
       " '/ediss_data/ediss3/khizar/data/alignments/s1/lriy3a.align',\n",
       " '/ediss_data/ediss3/khizar/data/alignments/s1/lriyzn.align',\n",
       " '/ediss_data/ediss3/khizar/data/alignments/s1/lrwf1s.align',\n",
       " '/ediss_data/ediss3/khizar/data/alignments/s1/lrwf2p.align',\n",
       " '/ediss_data/ediss3/khizar/data/alignments/s1/lrwf3a.align',\n",
       " '/ediss_data/ediss3/khizar/data/alignments/s1/lrwfzn.align',\n",
       " '/ediss_data/ediss3/khizar/data/alignments/s1/lrwl4n.align',\n",
       " '/ediss_data/ediss3/khizar/data/alignments/s1/lrwl5s.align',\n",
       " '/ediss_data/ediss3/khizar/data/alignments/s1/lrwl6p.align',\n",
       " '/ediss_data/ediss3/khizar/data/alignments/s1/lrwl7a.align',\n",
       " '/ediss_data/ediss3/khizar/data/alignments/s1/lrwr8n.align',\n",
       " '/ediss_data/ediss3/khizar/data/alignments/s1/lrwr9s.align',\n",
       " '/ediss_data/ediss3/khizar/data/alignments/s1/lrws1a.align',\n",
       " '/ediss_data/ediss3/khizar/data/alignments/s1/lrwszp.align',\n",
       " '/ediss_data/ediss3/khizar/data/alignments/s1/lrwz2n.align',\n",
       " '/ediss_data/ediss3/khizar/data/alignments/s1/lrwz3s.align',\n",
       " '/ediss_data/ediss3/khizar/data/alignments/s1/lrwz4p.align',\n",
       " '/ediss_data/ediss3/khizar/data/alignments/s1/lrwz5a.align',\n",
       " '/ediss_data/ediss3/khizar/data/alignments/s1/lwae8n.align',\n",
       " '/ediss_data/ediss3/khizar/data/alignments/s1/lwae9s.align',\n",
       " '/ediss_data/ediss3/khizar/data/alignments/s1/lwaf1a.align',\n",
       " '/ediss_data/ediss3/khizar/data/alignments/s1/lwafzp.align',\n",
       " '/ediss_data/ediss3/khizar/data/alignments/s1/lwal2n.align',\n",
       " '/ediss_data/ediss3/khizar/data/alignments/s1/lwal3s.align',\n",
       " '/ediss_data/ediss3/khizar/data/alignments/s1/lwal4p.align',\n",
       " '/ediss_data/ediss3/khizar/data/alignments/s1/lwal5a.align',\n",
       " '/ediss_data/ediss3/khizar/data/alignments/s1/lwar6n.align',\n",
       " '/ediss_data/ediss3/khizar/data/alignments/s1/lwar7s.align',\n",
       " '/ediss_data/ediss3/khizar/data/alignments/s1/lwar8p.align',\n",
       " '/ediss_data/ediss3/khizar/data/alignments/s1/lwar9a.align',\n",
       " '/ediss_data/ediss3/khizar/data/alignments/s1/lwaz1s.align',\n",
       " '/ediss_data/ediss3/khizar/data/alignments/s1/lwaz2p.align',\n",
       " '/ediss_data/ediss3/khizar/data/alignments/s1/lwaz3a.align',\n",
       " '/ediss_data/ediss3/khizar/data/alignments/s1/lwazzn.align',\n",
       " '/ediss_data/ediss3/khizar/data/alignments/s1/lwbf2n.align',\n",
       " '/ediss_data/ediss3/khizar/data/alignments/s1/lwbf3s.align',\n",
       " '/ediss_data/ediss3/khizar/data/alignments/s1/lwbf4p.align',\n",
       " '/ediss_data/ediss3/khizar/data/alignments/s1/lwbf5a.align',\n",
       " '/ediss_data/ediss3/khizar/data/alignments/s1/lwbl6n.align',\n",
       " '/ediss_data/ediss3/khizar/data/alignments/s1/lwbl7s.align',\n",
       " '/ediss_data/ediss3/khizar/data/alignments/s1/lwbl8p.align',\n",
       " '/ediss_data/ediss3/khizar/data/alignments/s1/lwbl9a.align',\n",
       " '/ediss_data/ediss3/khizar/data/alignments/s1/lwbs1s.align',\n",
       " '/ediss_data/ediss3/khizar/data/alignments/s1/lwbs2p.align',\n",
       " '/ediss_data/ediss3/khizar/data/alignments/s1/lwbs3a.align',\n",
       " '/ediss_data/ediss3/khizar/data/alignments/s1/lwbszn.align',\n",
       " '/ediss_data/ediss3/khizar/data/alignments/s1/lwbz4n.align',\n",
       " '/ediss_data/ediss3/khizar/data/alignments/s1/lwbz5s.align',\n",
       " '/ediss_data/ediss3/khizar/data/alignments/s1/lwbz6p.align',\n",
       " '/ediss_data/ediss3/khizar/data/alignments/s1/lwbz7a.align',\n",
       " '/ediss_data/ediss3/khizar/data/alignments/s1/lwie4n.align',\n",
       " '/ediss_data/ediss3/khizar/data/alignments/s1/lwie5s.align',\n",
       " '/ediss_data/ediss3/khizar/data/alignments/s1/lwie6p.align',\n",
       " '/ediss_data/ediss3/khizar/data/alignments/s1/lwie7a.align',\n",
       " '/ediss_data/ediss3/khizar/data/alignments/s1/lwik8n.align',\n",
       " '/ediss_data/ediss3/khizar/data/alignments/s1/lwik9s.align',\n",
       " '/ediss_data/ediss3/khizar/data/alignments/s1/lwil1a.align',\n",
       " '/ediss_data/ediss3/khizar/data/alignments/s1/lwilzp.align',\n",
       " '/ediss_data/ediss3/khizar/data/alignments/s1/lwir2n.align',\n",
       " '/ediss_data/ediss3/khizar/data/alignments/s1/lwir3s.align',\n",
       " '/ediss_data/ediss3/khizar/data/alignments/s1/lwir4p.align',\n",
       " '/ediss_data/ediss3/khizar/data/alignments/s1/lwir5a.align',\n",
       " '/ediss_data/ediss3/khizar/data/alignments/s1/lwiy6n.align',\n",
       " '/ediss_data/ediss3/khizar/data/alignments/s1/lwiy7s.align',\n",
       " '/ediss_data/ediss3/khizar/data/alignments/s1/lwiy8p.align',\n",
       " '/ediss_data/ediss3/khizar/data/alignments/s1/lwiy9a.align',\n",
       " '/ediss_data/ediss3/khizar/data/alignments/s1/lwwf6n.align',\n",
       " '/ediss_data/ediss3/khizar/data/alignments/s1/lwwf7s.align',\n",
       " '/ediss_data/ediss3/khizar/data/alignments/s1/lwwf8p.align',\n",
       " '/ediss_data/ediss3/khizar/data/alignments/s1/lwwf9a.align',\n",
       " '/ediss_data/ediss3/khizar/data/alignments/s1/lwwm1s.align',\n",
       " '/ediss_data/ediss3/khizar/data/alignments/s1/lwwm2p.align',\n",
       " '/ediss_data/ediss3/khizar/data/alignments/s1/lwwm3a.align',\n",
       " '/ediss_data/ediss3/khizar/data/alignments/s1/lwwmzn.align',\n",
       " '/ediss_data/ediss3/khizar/data/alignments/s1/lwws4n.align',\n",
       " '/ediss_data/ediss3/khizar/data/alignments/s1/lwws5s.align',\n",
       " '/ediss_data/ediss3/khizar/data/alignments/s1/lwws6p.align',\n",
       " '/ediss_data/ediss3/khizar/data/alignments/s1/lwws7a.align',\n",
       " '/ediss_data/ediss3/khizar/data/alignments/s1/lwwz8n.align',\n",
       " '/ediss_data/ediss3/khizar/data/alignments/s1/lwwz9s.align',\n",
       " '/ediss_data/ediss3/khizar/data/alignments/s1/pbac1s.align',\n",
       " '/ediss_data/ediss3/khizar/data/alignments/s1/pbac2p.align',\n",
       " '/ediss_data/ediss3/khizar/data/alignments/s1/pbac3a.align',\n",
       " '/ediss_data/ediss3/khizar/data/alignments/s1/pbaczn.align',\n",
       " '/ediss_data/ediss3/khizar/data/alignments/s1/pbai4n.align',\n",
       " '/ediss_data/ediss3/khizar/data/alignments/s1/pbai5s.align',\n",
       " '/ediss_data/ediss3/khizar/data/alignments/s1/pbai6p.align',\n",
       " '/ediss_data/ediss3/khizar/data/alignments/s1/pbai7a.align',\n",
       " '/ediss_data/ediss3/khizar/data/alignments/s1/pbao8n.align',\n",
       " '/ediss_data/ediss3/khizar/data/alignments/s1/pbao9s.align',\n",
       " '/ediss_data/ediss3/khizar/data/alignments/s1/pbap1a.align',\n",
       " '/ediss_data/ediss3/khizar/data/alignments/s1/pbapzp.align',\n",
       " '/ediss_data/ediss3/khizar/data/alignments/s1/pbav2n.align',\n",
       " '/ediss_data/ediss3/khizar/data/alignments/s1/pbav3s.align',\n",
       " '/ediss_data/ediss3/khizar/data/alignments/s1/pbav4p.align',\n",
       " '/ediss_data/ediss3/khizar/data/alignments/s1/pbav5a.align',\n",
       " '/ediss_data/ediss3/khizar/data/alignments/s1/pbbc4n.align',\n",
       " '/ediss_data/ediss3/khizar/data/alignments/s1/pbbc5s.align',\n",
       " '/ediss_data/ediss3/khizar/data/alignments/s1/pbbc6p.align',\n",
       " '/ediss_data/ediss3/khizar/data/alignments/s1/pbbc7a.align',\n",
       " '/ediss_data/ediss3/khizar/data/alignments/s1/pbbi8n.align',\n",
       " '/ediss_data/ediss3/khizar/data/alignments/s1/pbbi9s.align',\n",
       " '/ediss_data/ediss3/khizar/data/alignments/s1/pbbj1a.align',\n",
       " '/ediss_data/ediss3/khizar/data/alignments/s1/pbbjzp.align',\n",
       " '/ediss_data/ediss3/khizar/data/alignments/s1/pbbp2n.align',\n",
       " '/ediss_data/ediss3/khizar/data/alignments/s1/pbbp3s.align',\n",
       " '/ediss_data/ediss3/khizar/data/alignments/s1/pbbp4p.align',\n",
       " '/ediss_data/ediss3/khizar/data/alignments/s1/pbbp5a.align',\n",
       " '/ediss_data/ediss3/khizar/data/alignments/s1/pbbv6n.align',\n",
       " '/ediss_data/ediss3/khizar/data/alignments/s1/pbbv7s.align',\n",
       " '/ediss_data/ediss3/khizar/data/alignments/s1/pbbv8p.align',\n",
       " '/ediss_data/ediss3/khizar/data/alignments/s1/pbbv9a.align',\n",
       " '/ediss_data/ediss3/khizar/data/alignments/s1/pbib6n.align',\n",
       " '/ediss_data/ediss3/khizar/data/alignments/s1/pbib7s.align',\n",
       " '/ediss_data/ediss3/khizar/data/alignments/s1/pbib8p.align',\n",
       " '/ediss_data/ediss3/khizar/data/alignments/s1/pbib9a.align',\n",
       " '/ediss_data/ediss3/khizar/data/alignments/s1/pbii1s.align',\n",
       " '/ediss_data/ediss3/khizar/data/alignments/s1/pbii2p.align',\n",
       " '/ediss_data/ediss3/khizar/data/alignments/s1/pbii3a.align',\n",
       " '/ediss_data/ediss3/khizar/data/alignments/s1/pbiizn.align',\n",
       " '/ediss_data/ediss3/khizar/data/alignments/s1/pbio4n.align',\n",
       " '/ediss_data/ediss3/khizar/data/alignments/s1/pbio5s.align',\n",
       " '/ediss_data/ediss3/khizar/data/alignments/s1/pbio6p.align',\n",
       " '/ediss_data/ediss3/khizar/data/alignments/s1/pbio7a.align',\n",
       " '/ediss_data/ediss3/khizar/data/alignments/s1/pbiu8n.align',\n",
       " '/ediss_data/ediss3/khizar/data/alignments/s1/pbiu9s.align',\n",
       " '/ediss_data/ediss3/khizar/data/alignments/s1/pbiv1a.align',\n",
       " '/ediss_data/ediss3/khizar/data/alignments/s1/pbivzp.align',\n",
       " '/ediss_data/ediss3/khizar/data/alignments/s1/pbwc8n.align',\n",
       " '/ediss_data/ediss3/khizar/data/alignments/s1/pbwc9s.align',\n",
       " '/ediss_data/ediss3/khizar/data/alignments/s1/pbwd1a.align',\n",
       " '/ediss_data/ediss3/khizar/data/alignments/s1/pbwdzp.align',\n",
       " '/ediss_data/ediss3/khizar/data/alignments/s1/pbwj2n.align',\n",
       " '/ediss_data/ediss3/khizar/data/alignments/s1/pbwj3s.align',\n",
       " '/ediss_data/ediss3/khizar/data/alignments/s1/pbwj4p.align',\n",
       " '/ediss_data/ediss3/khizar/data/alignments/s1/pbwj5a.align',\n",
       " '/ediss_data/ediss3/khizar/data/alignments/s1/pbwp6n.align',\n",
       " '/ediss_data/ediss3/khizar/data/alignments/s1/pbwp7s.align',\n",
       " '/ediss_data/ediss3/khizar/data/alignments/s1/pbwp8p.align',\n",
       " '/ediss_data/ediss3/khizar/data/alignments/s1/pbwp9a.align',\n",
       " '/ediss_data/ediss3/khizar/data/alignments/s1/pbwx1s.align',\n",
       " '/ediss_data/ediss3/khizar/data/alignments/s1/pbwx2p.align',\n",
       " '/ediss_data/ediss3/khizar/data/alignments/s1/pbwx3a.align',\n",
       " '/ediss_data/ediss3/khizar/data/alignments/s1/pbwxzn.align',\n",
       " '/ediss_data/ediss3/khizar/data/alignments/s1/pgad8n.align',\n",
       " '/ediss_data/ediss3/khizar/data/alignments/s1/pgad9s.align',\n",
       " '/ediss_data/ediss3/khizar/data/alignments/s1/pgae1a.align',\n",
       " '/ediss_data/ediss3/khizar/data/alignments/s1/pgaezp.align',\n",
       " '/ediss_data/ediss3/khizar/data/alignments/s1/pgak2n.align',\n",
       " '/ediss_data/ediss3/khizar/data/alignments/s1/pgak3s.align',\n",
       " '/ediss_data/ediss3/khizar/data/alignments/s1/pgak4p.align',\n",
       " '/ediss_data/ediss3/khizar/data/alignments/s1/pgak5a.align',\n",
       " '/ediss_data/ediss3/khizar/data/alignments/s1/pgaq6n.align',\n",
       " '/ediss_data/ediss3/khizar/data/alignments/s1/pgaq7s.align',\n",
       " '/ediss_data/ediss3/khizar/data/alignments/s1/pgaq8p.align',\n",
       " '/ediss_data/ediss3/khizar/data/alignments/s1/pgaq9a.align',\n",
       " '/ediss_data/ediss3/khizar/data/alignments/s1/pgay1s.align',\n",
       " '/ediss_data/ediss3/khizar/data/alignments/s1/pgay2p.align',\n",
       " '/ediss_data/ediss3/khizar/data/alignments/s1/pgay3a.align',\n",
       " '/ediss_data/ediss3/khizar/data/alignments/s1/pgayzn.align',\n",
       " '/ediss_data/ediss3/khizar/data/alignments/s1/pgbe2n.align',\n",
       " '/ediss_data/ediss3/khizar/data/alignments/s1/pgbe3s.align',\n",
       " '/ediss_data/ediss3/khizar/data/alignments/s1/pgbe4p.align',\n",
       " '/ediss_data/ediss3/khizar/data/alignments/s1/pgbe5a.align',\n",
       " '/ediss_data/ediss3/khizar/data/alignments/s1/pgbk6n.align',\n",
       " '/ediss_data/ediss3/khizar/data/alignments/s1/pgbk7s.align',\n",
       " '/ediss_data/ediss3/khizar/data/alignments/s1/pgbk8p.align',\n",
       " '/ediss_data/ediss3/khizar/data/alignments/s1/pgbk9a.align',\n",
       " '/ediss_data/ediss3/khizar/data/alignments/s1/pgbr1s.align',\n",
       " '/ediss_data/ediss3/khizar/data/alignments/s1/pgbr2p.align',\n",
       " '/ediss_data/ediss3/khizar/data/alignments/s1/pgbr3a.align',\n",
       " '/ediss_data/ediss3/khizar/data/alignments/s1/pgbrzn.align',\n",
       " '/ediss_data/ediss3/khizar/data/alignments/s1/pgby4n.align',\n",
       " '/ediss_data/ediss3/khizar/data/alignments/s1/pgby5s.align',\n",
       " '/ediss_data/ediss3/khizar/data/alignments/s1/pgby6p.align',\n",
       " '/ediss_data/ediss3/khizar/data/alignments/s1/pgby7a.align',\n",
       " '/ediss_data/ediss3/khizar/data/alignments/s1/pgid4n.align',\n",
       " '/ediss_data/ediss3/khizar/data/alignments/s1/pgid5s.align',\n",
       " '/ediss_data/ediss3/khizar/data/alignments/s1/pgid6p.align',\n",
       " '/ediss_data/ediss3/khizar/data/alignments/s1/pgid7a.align',\n",
       " '/ediss_data/ediss3/khizar/data/alignments/s1/pgij8n.align',\n",
       " '/ediss_data/ediss3/khizar/data/alignments/s1/pgij9s.align',\n",
       " '/ediss_data/ediss3/khizar/data/alignments/s1/pgik1a.align',\n",
       " '/ediss_data/ediss3/khizar/data/alignments/s1/pgikzp.align',\n",
       " '/ediss_data/ediss3/khizar/data/alignments/s1/pgiq2n.align',\n",
       " '/ediss_data/ediss3/khizar/data/alignments/s1/pgiq3s.align',\n",
       " '/ediss_data/ediss3/khizar/data/alignments/s1/pgiq4p.align',\n",
       " '/ediss_data/ediss3/khizar/data/alignments/s1/pgiq5a.align',\n",
       " '/ediss_data/ediss3/khizar/data/alignments/s1/pgix6n.align',\n",
       " '/ediss_data/ediss3/khizar/data/alignments/s1/pgix7s.align',\n",
       " '/ediss_data/ediss3/khizar/data/alignments/s1/pgix8p.align',\n",
       " '/ediss_data/ediss3/khizar/data/alignments/s1/pgix9a.align',\n",
       " '/ediss_data/ediss3/khizar/data/alignments/s1/pgwe6n.align',\n",
       " '/ediss_data/ediss3/khizar/data/alignments/s1/pgwe7s.align',\n",
       " '/ediss_data/ediss3/khizar/data/alignments/s1/pgwe8p.align',\n",
       " '/ediss_data/ediss3/khizar/data/alignments/s1/pgwe9a.align',\n",
       " '/ediss_data/ediss3/khizar/data/alignments/s1/pgwl1s.align',\n",
       " '/ediss_data/ediss3/khizar/data/alignments/s1/pgwl2p.align',\n",
       " '/ediss_data/ediss3/khizar/data/alignments/s1/pgwl3a.align',\n",
       " '/ediss_data/ediss3/khizar/data/alignments/s1/pgwlzn.align',\n",
       " '/ediss_data/ediss3/khizar/data/alignments/s1/pgwr4n.align',\n",
       " '/ediss_data/ediss3/khizar/data/alignments/s1/pgwr5s.align',\n",
       " '/ediss_data/ediss3/khizar/data/alignments/s1/pgwr6p.align',\n",
       " '/ediss_data/ediss3/khizar/data/alignments/s1/pgwr7a.align',\n",
       " '/ediss_data/ediss3/khizar/data/alignments/s1/pgwy8n.align',\n",
       " '/ediss_data/ediss3/khizar/data/alignments/s1/pgwy9s.align',\n",
       " '/ediss_data/ediss3/khizar/data/alignments/s1/pgwz1a.align',\n",
       " '/ediss_data/ediss3/khizar/data/alignments/s1/pgwzzp.align',\n",
       " '/ediss_data/ediss3/khizar/data/alignments/s1/prac6n.align',\n",
       " '/ediss_data/ediss3/khizar/data/alignments/s1/prac7s.align',\n",
       " '/ediss_data/ediss3/khizar/data/alignments/s1/prac8p.align',\n",
       " '/ediss_data/ediss3/khizar/data/alignments/s1/prac9a.align',\n",
       " '/ediss_data/ediss3/khizar/data/alignments/s1/praj1s.align',\n",
       " '/ediss_data/ediss3/khizar/data/alignments/s1/praj2p.align',\n",
       " '/ediss_data/ediss3/khizar/data/alignments/s1/praj3a.align',\n",
       " '/ediss_data/ediss3/khizar/data/alignments/s1/prajzn.align',\n",
       " '/ediss_data/ediss3/khizar/data/alignments/s1/prap4n.align',\n",
       " '/ediss_data/ediss3/khizar/data/alignments/s1/prap5s.align',\n",
       " '/ediss_data/ediss3/khizar/data/alignments/s1/prap6p.align',\n",
       " '/ediss_data/ediss3/khizar/data/alignments/s1/prap7a.align',\n",
       " '/ediss_data/ediss3/khizar/data/alignments/s1/prav8n.align',\n",
       " '/ediss_data/ediss3/khizar/data/alignments/s1/prav9s.align',\n",
       " '/ediss_data/ediss3/khizar/data/alignments/s1/prax1a.align',\n",
       " '/ediss_data/ediss3/khizar/data/alignments/s1/praxzp.align',\n",
       " '/ediss_data/ediss3/khizar/data/alignments/s1/prbd1s.align',\n",
       " '/ediss_data/ediss3/khizar/data/alignments/s1/prbd2p.align',\n",
       " '/ediss_data/ediss3/khizar/data/alignments/s1/prbd3a.align',\n",
       " '/ediss_data/ediss3/khizar/data/alignments/s1/prbdzn.align',\n",
       " '/ediss_data/ediss3/khizar/data/alignments/s1/prbj4n.align',\n",
       " '/ediss_data/ediss3/khizar/data/alignments/s1/prbj5s.align',\n",
       " '/ediss_data/ediss3/khizar/data/alignments/s1/prbj6p.align',\n",
       " '/ediss_data/ediss3/khizar/data/alignments/s1/prbj7a.align',\n",
       " '/ediss_data/ediss3/khizar/data/alignments/s1/prbp8n.align',\n",
       " '/ediss_data/ediss3/khizar/data/alignments/s1/prbp9s.align',\n",
       " '/ediss_data/ediss3/khizar/data/alignments/s1/prbq1a.align',\n",
       " '/ediss_data/ediss3/khizar/data/alignments/s1/prbqzp.align',\n",
       " '/ediss_data/ediss3/khizar/data/alignments/s1/prbx2n.align',\n",
       " '/ediss_data/ediss3/khizar/data/alignments/s1/prbx3s.align',\n",
       " '/ediss_data/ediss3/khizar/data/alignments/s1/prbx4p.align',\n",
       " '/ediss_data/ediss3/khizar/data/alignments/s1/prbx5a.align',\n",
       " '/ediss_data/ediss3/khizar/data/alignments/s1/pric2n.align',\n",
       " '/ediss_data/ediss3/khizar/data/alignments/s1/pric3s.align',\n",
       " '/ediss_data/ediss3/khizar/data/alignments/s1/pric4p.align',\n",
       " '/ediss_data/ediss3/khizar/data/alignments/s1/pric5a.align',\n",
       " '/ediss_data/ediss3/khizar/data/alignments/s1/prii6n.align',\n",
       " '/ediss_data/ediss3/khizar/data/alignments/s1/prii7s.align',\n",
       " '/ediss_data/ediss3/khizar/data/alignments/s1/prii8p.align',\n",
       " '/ediss_data/ediss3/khizar/data/alignments/s1/prii9a.align',\n",
       " '/ediss_data/ediss3/khizar/data/alignments/s1/prip1s.align',\n",
       " '/ediss_data/ediss3/khizar/data/alignments/s1/prip2p.align',\n",
       " '/ediss_data/ediss3/khizar/data/alignments/s1/prip3a.align',\n",
       " '/ediss_data/ediss3/khizar/data/alignments/s1/pripzn.align',\n",
       " '/ediss_data/ediss3/khizar/data/alignments/s1/priv4n.align',\n",
       " '/ediss_data/ediss3/khizar/data/alignments/s1/priv5s.align',\n",
       " '/ediss_data/ediss3/khizar/data/alignments/s1/priv6p.align',\n",
       " '/ediss_data/ediss3/khizar/data/alignments/s1/priv7a.align',\n",
       " '/ediss_data/ediss3/khizar/data/alignments/s1/prwd4n.align',\n",
       " '/ediss_data/ediss3/khizar/data/alignments/s1/prwd5s.align',\n",
       " '/ediss_data/ediss3/khizar/data/alignments/s1/prwd6p.align',\n",
       " '/ediss_data/ediss3/khizar/data/alignments/s1/prwd7a.align',\n",
       " '/ediss_data/ediss3/khizar/data/alignments/s1/prwj8n.align',\n",
       " '/ediss_data/ediss3/khizar/data/alignments/s1/prwj9s.align',\n",
       " '/ediss_data/ediss3/khizar/data/alignments/s1/prwk1a.align',\n",
       " '/ediss_data/ediss3/khizar/data/alignments/s1/prwkzp.align',\n",
       " '/ediss_data/ediss3/khizar/data/alignments/s1/prwq2n.align',\n",
       " '/ediss_data/ediss3/khizar/data/alignments/s1/prwq3s.align',\n",
       " '/ediss_data/ediss3/khizar/data/alignments/s1/prwq4p.align',\n",
       " '/ediss_data/ediss3/khizar/data/alignments/s1/prwq5a.align',\n",
       " '/ediss_data/ediss3/khizar/data/alignments/s1/prwx6n.align',\n",
       " '/ediss_data/ediss3/khizar/data/alignments/s1/prwx7s.align',\n",
       " '/ediss_data/ediss3/khizar/data/alignments/s1/prwx8p.align',\n",
       " '/ediss_data/ediss3/khizar/data/alignments/s1/prwx9a.align',\n",
       " '/ediss_data/ediss3/khizar/data/alignments/s1/pwad2n.align',\n",
       " '/ediss_data/ediss3/khizar/data/alignments/s1/pwad3s.align',\n",
       " '/ediss_data/ediss3/khizar/data/alignments/s1/pwad4p.align',\n",
       " '/ediss_data/ediss3/khizar/data/alignments/s1/pwad5a.align',\n",
       " '/ediss_data/ediss3/khizar/data/alignments/s1/pwaj6n.align',\n",
       " '/ediss_data/ediss3/khizar/data/alignments/s1/pwaj7s.align',\n",
       " '/ediss_data/ediss3/khizar/data/alignments/s1/pwaj8p.align',\n",
       " '/ediss_data/ediss3/khizar/data/alignments/s1/pwaj9a.align',\n",
       " '/ediss_data/ediss3/khizar/data/alignments/s1/pwaq1s.align',\n",
       " '/ediss_data/ediss3/khizar/data/alignments/s1/pwaq2p.align',\n",
       " '/ediss_data/ediss3/khizar/data/alignments/s1/pwaq3a.align',\n",
       " '/ediss_data/ediss3/khizar/data/alignments/s1/pwaqzn.align',\n",
       " '/ediss_data/ediss3/khizar/data/alignments/s1/pwax4n.align',\n",
       " '/ediss_data/ediss3/khizar/data/alignments/s1/pwax5s.align',\n",
       " '/ediss_data/ediss3/khizar/data/alignments/s1/pwax6p.align',\n",
       " '/ediss_data/ediss3/khizar/data/alignments/s1/pwax7a.align',\n",
       " '/ediss_data/ediss3/khizar/data/alignments/s1/pwbd6n.align',\n",
       " '/ediss_data/ediss3/khizar/data/alignments/s1/pwbd7s.align',\n",
       " '/ediss_data/ediss3/khizar/data/alignments/s1/pwbd8p.align',\n",
       " '/ediss_data/ediss3/khizar/data/alignments/s1/pwbd9a.align',\n",
       " '/ediss_data/ediss3/khizar/data/alignments/s1/pwbk1s.align',\n",
       " '/ediss_data/ediss3/khizar/data/alignments/s1/pwbk2p.align',\n",
       " '/ediss_data/ediss3/khizar/data/alignments/s1/pwbk3a.align',\n",
       " '/ediss_data/ediss3/khizar/data/alignments/s1/pwbkzn.align',\n",
       " '/ediss_data/ediss3/khizar/data/alignments/s1/pwbq4n.align',\n",
       " '/ediss_data/ediss3/khizar/data/alignments/s1/pwbq5s.align',\n",
       " '/ediss_data/ediss3/khizar/data/alignments/s1/pwbq6p.align',\n",
       " '/ediss_data/ediss3/khizar/data/alignments/s1/pwbq7a.align',\n",
       " '/ediss_data/ediss3/khizar/data/alignments/s1/pwbx8n.align',\n",
       " '/ediss_data/ediss3/khizar/data/alignments/s1/pwbx9s.align',\n",
       " '/ediss_data/ediss3/khizar/data/alignments/s1/pwby1a.align',\n",
       " '/ediss_data/ediss3/khizar/data/alignments/s1/pwbyzp.align',\n",
       " '/ediss_data/ediss3/khizar/data/alignments/s1/pwic8n.align',\n",
       " '/ediss_data/ediss3/khizar/data/alignments/s1/pwic9s.align',\n",
       " '/ediss_data/ediss3/khizar/data/alignments/s1/pwid1a.align',\n",
       " '/ediss_data/ediss3/khizar/data/alignments/s1/pwidzp.align',\n",
       " '/ediss_data/ediss3/khizar/data/alignments/s1/pwij2n.align',\n",
       " '/ediss_data/ediss3/khizar/data/alignments/s1/pwij3s.align',\n",
       " '/ediss_data/ediss3/khizar/data/alignments/s1/pwij4p.align',\n",
       " '/ediss_data/ediss3/khizar/data/alignments/s1/pwij5a.align',\n",
       " '/ediss_data/ediss3/khizar/data/alignments/s1/pwip6n.align',\n",
       " '/ediss_data/ediss3/khizar/data/alignments/s1/pwip7s.align',\n",
       " '/ediss_data/ediss3/khizar/data/alignments/s1/pwip8p.align',\n",
       " '/ediss_data/ediss3/khizar/data/alignments/s1/pwip9a.align',\n",
       " '/ediss_data/ediss3/khizar/data/alignments/s1/pwix1s.align',\n",
       " '/ediss_data/ediss3/khizar/data/alignments/s1/pwix2p.align',\n",
       " '/ediss_data/ediss3/khizar/data/alignments/s1/pwix3a.align',\n",
       " '/ediss_data/ediss3/khizar/data/alignments/s1/pwixzn.align',\n",
       " '/ediss_data/ediss3/khizar/data/alignments/s1/pwwe1s.align',\n",
       " '/ediss_data/ediss3/khizar/data/alignments/s1/pwwe2p.align',\n",
       " '/ediss_data/ediss3/khizar/data/alignments/s1/pwwe3a.align',\n",
       " '/ediss_data/ediss3/khizar/data/alignments/s1/pwwezn.align',\n",
       " '/ediss_data/ediss3/khizar/data/alignments/s1/pwwk4n.align',\n",
       " '/ediss_data/ediss3/khizar/data/alignments/s1/pwwk5s.align',\n",
       " '/ediss_data/ediss3/khizar/data/alignments/s1/pwwk6p.align',\n",
       " '/ediss_data/ediss3/khizar/data/alignments/s1/pwwk7a.align',\n",
       " '/ediss_data/ediss3/khizar/data/alignments/s1/pwwq8n.align',\n",
       " '/ediss_data/ediss3/khizar/data/alignments/s1/pwwq9s.align',\n",
       " '/ediss_data/ediss3/khizar/data/alignments/s1/pwwr1a.align',\n",
       " '/ediss_data/ediss3/khizar/data/alignments/s1/pwwrzp.align',\n",
       " '/ediss_data/ediss3/khizar/data/alignments/s1/pwwy2n.align',\n",
       " '/ediss_data/ediss3/khizar/data/alignments/s1/pwwy3s.align',\n",
       " '/ediss_data/ediss3/khizar/data/alignments/s1/pwwy4p.align',\n",
       " '/ediss_data/ediss3/khizar/data/alignments/s1/pwwy5a.align',\n",
       " '/ediss_data/ediss3/khizar/data/alignments/s1/sbaa4n.align',\n",
       " '/ediss_data/ediss3/khizar/data/alignments/s1/sbaa5s.align',\n",
       " '/ediss_data/ediss3/khizar/data/alignments/s1/sbaa6p.align',\n",
       " '/ediss_data/ediss3/khizar/data/alignments/s1/sbaa7a.align',\n",
       " '/ediss_data/ediss3/khizar/data/alignments/s1/sbag8n.align',\n",
       " '/ediss_data/ediss3/khizar/data/alignments/s1/sbag9s.align',\n",
       " '/ediss_data/ediss3/khizar/data/alignments/s1/sbah1a.align',\n",
       " '/ediss_data/ediss3/khizar/data/alignments/s1/sbahzp.align',\n",
       " '/ediss_data/ediss3/khizar/data/alignments/s1/sban2n.align',\n",
       " '/ediss_data/ediss3/khizar/data/alignments/s1/sban3s.align',\n",
       " '/ediss_data/ediss3/khizar/data/alignments/s1/sban4p.align',\n",
       " '/ediss_data/ediss3/khizar/data/alignments/s1/sban5a.align',\n",
       " '/ediss_data/ediss3/khizar/data/alignments/s1/sbat6n.align',\n",
       " '/ediss_data/ediss3/khizar/data/alignments/s1/sbat7s.align',\n",
       " '/ediss_data/ediss3/khizar/data/alignments/s1/sbat8p.align',\n",
       " '/ediss_data/ediss3/khizar/data/alignments/s1/sbat9a.align',\n",
       " '/ediss_data/ediss3/khizar/data/alignments/s1/sbba8n.align',\n",
       " '/ediss_data/ediss3/khizar/data/alignments/s1/sbba9s.align',\n",
       " '/ediss_data/ediss3/khizar/data/alignments/s1/sbbb1a.align',\n",
       " '/ediss_data/ediss3/khizar/data/alignments/s1/sbbbzp.align',\n",
       " '/ediss_data/ediss3/khizar/data/alignments/s1/sbbh2n.align',\n",
       " '/ediss_data/ediss3/khizar/data/alignments/s1/sbbh3s.align',\n",
       " '/ediss_data/ediss3/khizar/data/alignments/s1/sbbh4p.align',\n",
       " '/ediss_data/ediss3/khizar/data/alignments/s1/sbbh5a.align',\n",
       " '/ediss_data/ediss3/khizar/data/alignments/s1/sbbn6n.align',\n",
       " '/ediss_data/ediss3/khizar/data/alignments/s1/sbbn7s.align',\n",
       " '/ediss_data/ediss3/khizar/data/alignments/s1/sbbn8p.align',\n",
       " '/ediss_data/ediss3/khizar/data/alignments/s1/sbbn9a.align',\n",
       " '/ediss_data/ediss3/khizar/data/alignments/s1/sbbu1s.align',\n",
       " '/ediss_data/ediss3/khizar/data/alignments/s1/sbbu2p.align',\n",
       " '/ediss_data/ediss3/khizar/data/alignments/s1/sbbu3a.align',\n",
       " '/ediss_data/ediss3/khizar/data/alignments/s1/sbbuzn.align',\n",
       " '/ediss_data/ediss3/khizar/data/alignments/s1/sbia1s.align',\n",
       " '/ediss_data/ediss3/khizar/data/alignments/s1/sbia2p.align',\n",
       " '/ediss_data/ediss3/khizar/data/alignments/s1/sbia3a.align',\n",
       " '/ediss_data/ediss3/khizar/data/alignments/s1/sbiazn.align',\n",
       " '/ediss_data/ediss3/khizar/data/alignments/s1/sbig4n.align',\n",
       " '/ediss_data/ediss3/khizar/data/alignments/s1/sbig5s.align',\n",
       " '/ediss_data/ediss3/khizar/data/alignments/s1/sbig6p.align',\n",
       " '/ediss_data/ediss3/khizar/data/alignments/s1/sbig7a.align',\n",
       " '/ediss_data/ediss3/khizar/data/alignments/s1/sbim8n.align',\n",
       " '/ediss_data/ediss3/khizar/data/alignments/s1/sbim9s.align',\n",
       " '/ediss_data/ediss3/khizar/data/alignments/s1/sbin1a.align',\n",
       " '/ediss_data/ediss3/khizar/data/alignments/s1/sbinzp.align',\n",
       " '/ediss_data/ediss3/khizar/data/alignments/s1/sbit2n.align',\n",
       " '/ediss_data/ediss3/khizar/data/alignments/s1/sbit3s.align',\n",
       " '/ediss_data/ediss3/khizar/data/alignments/s1/sbit4p.align',\n",
       " '/ediss_data/ediss3/khizar/data/alignments/s1/sbit5a.align',\n",
       " '/ediss_data/ediss3/khizar/data/alignments/s1/sbwb2n.align',\n",
       " '/ediss_data/ediss3/khizar/data/alignments/s1/sbwb3s.align',\n",
       " '/ediss_data/ediss3/khizar/data/alignments/s1/sbwb4p.align',\n",
       " '/ediss_data/ediss3/khizar/data/alignments/s1/sbwb5a.align',\n",
       " '/ediss_data/ediss3/khizar/data/alignments/s1/sbwh6n.align',\n",
       " '/ediss_data/ediss3/khizar/data/alignments/s1/sbwh7s.align',\n",
       " '/ediss_data/ediss3/khizar/data/alignments/s1/sbwh8p.align',\n",
       " '/ediss_data/ediss3/khizar/data/alignments/s1/sbwh9a.align',\n",
       " '/ediss_data/ediss3/khizar/data/alignments/s1/sbwo1s.align',\n",
       " '/ediss_data/ediss3/khizar/data/alignments/s1/sbwo2p.align',\n",
       " '/ediss_data/ediss3/khizar/data/alignments/s1/sbwo3a.align',\n",
       " '/ediss_data/ediss3/khizar/data/alignments/s1/sbwozn.align',\n",
       " '/ediss_data/ediss3/khizar/data/alignments/s1/sbwu4n.align',\n",
       " '/ediss_data/ediss3/khizar/data/alignments/s1/sbwu5s.align',\n",
       " '/ediss_data/ediss3/khizar/data/alignments/s1/sbwu6p.align',\n",
       " '/ediss_data/ediss3/khizar/data/alignments/s1/sbwu7a.align',\n",
       " '/ediss_data/ediss3/khizar/data/alignments/s1/sgac2n.align',\n",
       " '/ediss_data/ediss3/khizar/data/alignments/s1/sgac3s.align',\n",
       " '/ediss_data/ediss3/khizar/data/alignments/s1/sgac4p.align',\n",
       " '/ediss_data/ediss3/khizar/data/alignments/s1/sgac5a.align',\n",
       " '/ediss_data/ediss3/khizar/data/alignments/s1/sgai6n.align',\n",
       " '/ediss_data/ediss3/khizar/data/alignments/s1/sgai7s.align',\n",
       " '/ediss_data/ediss3/khizar/data/alignments/s1/sgai8p.align',\n",
       " '/ediss_data/ediss3/khizar/data/alignments/s1/sgai9a.align',\n",
       " '/ediss_data/ediss3/khizar/data/alignments/s1/sgap1s.align',\n",
       " '/ediss_data/ediss3/khizar/data/alignments/s1/sgap2p.align',\n",
       " '/ediss_data/ediss3/khizar/data/alignments/s1/sgap3a.align',\n",
       " '/ediss_data/ediss3/khizar/data/alignments/s1/sgapzn.align',\n",
       " '/ediss_data/ediss3/khizar/data/alignments/s1/sgav4n.align',\n",
       " '/ediss_data/ediss3/khizar/data/alignments/s1/sgav5s.align',\n",
       " '/ediss_data/ediss3/khizar/data/alignments/s1/sgav6p.align',\n",
       " '/ediss_data/ediss3/khizar/data/alignments/s1/sgav7a.align',\n",
       " '/ediss_data/ediss3/khizar/data/alignments/s1/sgbc6n.align',\n",
       " '/ediss_data/ediss3/khizar/data/alignments/s1/sgbc7s.align',\n",
       " '/ediss_data/ediss3/khizar/data/alignments/s1/sgbc8p.align',\n",
       " '/ediss_data/ediss3/khizar/data/alignments/s1/sgbc9a.align',\n",
       " '/ediss_data/ediss3/khizar/data/alignments/s1/sgbj1s.align',\n",
       " '/ediss_data/ediss3/khizar/data/alignments/s1/sgbj2p.align',\n",
       " '/ediss_data/ediss3/khizar/data/alignments/s1/sgbj3a.align',\n",
       " '/ediss_data/ediss3/khizar/data/alignments/s1/sgbjzn.align',\n",
       " '/ediss_data/ediss3/khizar/data/alignments/s1/sgbp4n.align',\n",
       " '/ediss_data/ediss3/khizar/data/alignments/s1/sgbp5s.align',\n",
       " '/ediss_data/ediss3/khizar/data/alignments/s1/sgbp6p.align',\n",
       " '/ediss_data/ediss3/khizar/data/alignments/s1/sgbp7a.align',\n",
       " '/ediss_data/ediss3/khizar/data/alignments/s1/sgbv8n.align',\n",
       " '/ediss_data/ediss3/khizar/data/alignments/s1/sgbv9s.align',\n",
       " '/ediss_data/ediss3/khizar/data/alignments/s1/sgbx1a.align',\n",
       " '/ediss_data/ediss3/khizar/data/alignments/s1/sgbxzp.align',\n",
       " '/ediss_data/ediss3/khizar/data/alignments/s1/sgib8n.align',\n",
       " '/ediss_data/ediss3/khizar/data/alignments/s1/sgib9s.align',\n",
       " '/ediss_data/ediss3/khizar/data/alignments/s1/sgic1a.align',\n",
       " '/ediss_data/ediss3/khizar/data/alignments/s1/sgiczp.align',\n",
       " '/ediss_data/ediss3/khizar/data/alignments/s1/sgii2n.align',\n",
       " '/ediss_data/ediss3/khizar/data/alignments/s1/sgii3s.align',\n",
       " '/ediss_data/ediss3/khizar/data/alignments/s1/sgii4p.align',\n",
       " '/ediss_data/ediss3/khizar/data/alignments/s1/sgii5a.align',\n",
       " '/ediss_data/ediss3/khizar/data/alignments/s1/sgio6n.align',\n",
       " '/ediss_data/ediss3/khizar/data/alignments/s1/sgio7s.align',\n",
       " '/ediss_data/ediss3/khizar/data/alignments/s1/sgio8p.align',\n",
       " '/ediss_data/ediss3/khizar/data/alignments/s1/sgio9a.align',\n",
       " '/ediss_data/ediss3/khizar/data/alignments/s1/sgiv1s.align',\n",
       " '/ediss_data/ediss3/khizar/data/alignments/s1/sgiv2p.align',\n",
       " '/ediss_data/ediss3/khizar/data/alignments/s1/sgiv3a.align',\n",
       " '/ediss_data/ediss3/khizar/data/alignments/s1/sgivzn.align',\n",
       " '/ediss_data/ediss3/khizar/data/alignments/s1/sgwd1s.align',\n",
       " '/ediss_data/ediss3/khizar/data/alignments/s1/sgwd2p.align',\n",
       " '/ediss_data/ediss3/khizar/data/alignments/s1/sgwd3a.align',\n",
       " '/ediss_data/ediss3/khizar/data/alignments/s1/sgwdzn.align',\n",
       " '/ediss_data/ediss3/khizar/data/alignments/s1/sgwj4n.align',\n",
       " '/ediss_data/ediss3/khizar/data/alignments/s1/sgwj5s.align',\n",
       " '/ediss_data/ediss3/khizar/data/alignments/s1/sgwj6p.align',\n",
       " '/ediss_data/ediss3/khizar/data/alignments/s1/sgwj7a.align',\n",
       " '/ediss_data/ediss3/khizar/data/alignments/s1/sgwp8n.align',\n",
       " '/ediss_data/ediss3/khizar/data/alignments/s1/sgwp9s.align',\n",
       " '/ediss_data/ediss3/khizar/data/alignments/s1/sgwq1a.align',\n",
       " '/ediss_data/ediss3/khizar/data/alignments/s1/sgwqzp.align',\n",
       " '/ediss_data/ediss3/khizar/data/alignments/s1/sgwx2n.align',\n",
       " '/ediss_data/ediss3/khizar/data/alignments/s1/sgwx3s.align',\n",
       " '/ediss_data/ediss3/khizar/data/alignments/s1/sgwx4p.align',\n",
       " '/ediss_data/ediss3/khizar/data/alignments/s1/sgwx5a.align',\n",
       " '/ediss_data/ediss3/khizar/data/alignments/s1/srab1s.align',\n",
       " '/ediss_data/ediss3/khizar/data/alignments/s1/srab2p.align',\n",
       " '/ediss_data/ediss3/khizar/data/alignments/s1/srab3a.align',\n",
       " '/ediss_data/ediss3/khizar/data/alignments/s1/srabzn.align',\n",
       " '/ediss_data/ediss3/khizar/data/alignments/s1/srah4n.align',\n",
       " '/ediss_data/ediss3/khizar/data/alignments/s1/srah5s.align',\n",
       " '/ediss_data/ediss3/khizar/data/alignments/s1/srah6p.align',\n",
       " '/ediss_data/ediss3/khizar/data/alignments/s1/srah7a.align',\n",
       " '/ediss_data/ediss3/khizar/data/alignments/s1/sran8n.align',\n",
       " '/ediss_data/ediss3/khizar/data/alignments/s1/sran9s.align',\n",
       " '/ediss_data/ediss3/khizar/data/alignments/s1/srao1a.align',\n",
       " '/ediss_data/ediss3/khizar/data/alignments/s1/sraozp.align',\n",
       " '/ediss_data/ediss3/khizar/data/alignments/s1/srau2n.align',\n",
       " '/ediss_data/ediss3/khizar/data/alignments/s1/srau3s.align',\n",
       " '/ediss_data/ediss3/khizar/data/alignments/s1/srau4p.align',\n",
       " '/ediss_data/ediss3/khizar/data/alignments/s1/srau5a.align',\n",
       " '/ediss_data/ediss3/khizar/data/alignments/s1/srbb4n.align',\n",
       " '/ediss_data/ediss3/khizar/data/alignments/s1/srbb5s.align',\n",
       " '/ediss_data/ediss3/khizar/data/alignments/s1/srbb6p.align',\n",
       " '/ediss_data/ediss3/khizar/data/alignments/s1/srbb7a.align',\n",
       " '/ediss_data/ediss3/khizar/data/alignments/s1/srbh8n.align',\n",
       " '/ediss_data/ediss3/khizar/data/alignments/s1/srbh9s.align',\n",
       " '/ediss_data/ediss3/khizar/data/alignments/s1/srbi1a.align',\n",
       " '/ediss_data/ediss3/khizar/data/alignments/s1/srbizp.align',\n",
       " '/ediss_data/ediss3/khizar/data/alignments/s1/srbo2n.align',\n",
       " '/ediss_data/ediss3/khizar/data/alignments/s1/srbo3s.align',\n",
       " '/ediss_data/ediss3/khizar/data/alignments/s1/srbo4p.align',\n",
       " '/ediss_data/ediss3/khizar/data/alignments/s1/srbo5a.align',\n",
       " '/ediss_data/ediss3/khizar/data/alignments/s1/srbu6n.align',\n",
       " '/ediss_data/ediss3/khizar/data/alignments/s1/srbu7s.align',\n",
       " '/ediss_data/ediss3/khizar/data/alignments/s1/srbu8p.align',\n",
       " '/ediss_data/ediss3/khizar/data/alignments/s1/srbu9a.align',\n",
       " '/ediss_data/ediss3/khizar/data/alignments/s1/sria6n.align',\n",
       " '/ediss_data/ediss3/khizar/data/alignments/s1/sria7s.align',\n",
       " '/ediss_data/ediss3/khizar/data/alignments/s1/sria8p.align',\n",
       " '/ediss_data/ediss3/khizar/data/alignments/s1/sria9a.align',\n",
       " '/ediss_data/ediss3/khizar/data/alignments/s1/srih1s.align',\n",
       " '/ediss_data/ediss3/khizar/data/alignments/s1/srih2p.align',\n",
       " '/ediss_data/ediss3/khizar/data/alignments/s1/srih3a.align',\n",
       " '/ediss_data/ediss3/khizar/data/alignments/s1/srihzn.align',\n",
       " '/ediss_data/ediss3/khizar/data/alignments/s1/srin4n.align',\n",
       " '/ediss_data/ediss3/khizar/data/alignments/s1/srin5s.align',\n",
       " '/ediss_data/ediss3/khizar/data/alignments/s1/srin6p.align',\n",
       " '/ediss_data/ediss3/khizar/data/alignments/s1/srin7a.align',\n",
       " '/ediss_data/ediss3/khizar/data/alignments/s1/srit8n.align',\n",
       " '/ediss_data/ediss3/khizar/data/alignments/s1/srit9s.align',\n",
       " '/ediss_data/ediss3/khizar/data/alignments/s1/sriu1a.align',\n",
       " '/ediss_data/ediss3/khizar/data/alignments/s1/sriuzp.align',\n",
       " '/ediss_data/ediss3/khizar/data/alignments/s1/srwb8n.align',\n",
       " '/ediss_data/ediss3/khizar/data/alignments/s1/srwb9s.align',\n",
       " '/ediss_data/ediss3/khizar/data/alignments/s1/srwc1a.align',\n",
       " '/ediss_data/ediss3/khizar/data/alignments/s1/srwczp.align',\n",
       " '/ediss_data/ediss3/khizar/data/alignments/s1/srwi2n.align',\n",
       " '/ediss_data/ediss3/khizar/data/alignments/s1/srwi3s.align',\n",
       " '/ediss_data/ediss3/khizar/data/alignments/s1/srwi4p.align',\n",
       " '/ediss_data/ediss3/khizar/data/alignments/s1/srwi5a.align',\n",
       " '/ediss_data/ediss3/khizar/data/alignments/s1/srwo6n.align',\n",
       " '/ediss_data/ediss3/khizar/data/alignments/s1/srwo7s.align',\n",
       " '/ediss_data/ediss3/khizar/data/alignments/s1/srwo8p.align',\n",
       " '/ediss_data/ediss3/khizar/data/alignments/s1/srwo9a.align',\n",
       " '/ediss_data/ediss3/khizar/data/alignments/s1/srwv1s.align',\n",
       " '/ediss_data/ediss3/khizar/data/alignments/s1/srwv2p.align',\n",
       " '/ediss_data/ediss3/khizar/data/alignments/s1/srwv3a.align',\n",
       " '/ediss_data/ediss3/khizar/data/alignments/s1/srwvzn.align',\n",
       " '/ediss_data/ediss3/khizar/data/alignments/s1/swab6n.align',\n",
       " '/ediss_data/ediss3/khizar/data/alignments/s1/swab7s.align',\n",
       " '/ediss_data/ediss3/khizar/data/alignments/s1/swab8p.align',\n",
       " '/ediss_data/ediss3/khizar/data/alignments/s1/swab9a.align',\n",
       " '/ediss_data/ediss3/khizar/data/alignments/s1/swai1s.align',\n",
       " '/ediss_data/ediss3/khizar/data/alignments/s1/swai2p.align',\n",
       " '/ediss_data/ediss3/khizar/data/alignments/s1/swai3a.align',\n",
       " '/ediss_data/ediss3/khizar/data/alignments/s1/swaizn.align',\n",
       " '/ediss_data/ediss3/khizar/data/alignments/s1/swao4n.align',\n",
       " '/ediss_data/ediss3/khizar/data/alignments/s1/swao5s.align',\n",
       " '/ediss_data/ediss3/khizar/data/alignments/s1/swao6p.align',\n",
       " '/ediss_data/ediss3/khizar/data/alignments/s1/swao7a.align',\n",
       " '/ediss_data/ediss3/khizar/data/alignments/s1/swau8n.align',\n",
       " '/ediss_data/ediss3/khizar/data/alignments/s1/swau9s.align',\n",
       " '/ediss_data/ediss3/khizar/data/alignments/s1/swav1a.align',\n",
       " '/ediss_data/ediss3/khizar/data/alignments/s1/swavzp.align',\n",
       " '/ediss_data/ediss3/khizar/data/alignments/s1/swbc1s.align',\n",
       " '/ediss_data/ediss3/khizar/data/alignments/s1/swbc2p.align',\n",
       " '/ediss_data/ediss3/khizar/data/alignments/s1/swbc3a.align',\n",
       " '/ediss_data/ediss3/khizar/data/alignments/s1/swbczn.align',\n",
       " '/ediss_data/ediss3/khizar/data/alignments/s1/swbi4n.align',\n",
       " '/ediss_data/ediss3/khizar/data/alignments/s1/swbi5s.align',\n",
       " '/ediss_data/ediss3/khizar/data/alignments/s1/swbi6p.align',\n",
       " '/ediss_data/ediss3/khizar/data/alignments/s1/swbi7a.align',\n",
       " '/ediss_data/ediss3/khizar/data/alignments/s1/swbo8n.align',\n",
       " '/ediss_data/ediss3/khizar/data/alignments/s1/swbo9s.align',\n",
       " '/ediss_data/ediss3/khizar/data/alignments/s1/swbp1a.align',\n",
       " '/ediss_data/ediss3/khizar/data/alignments/s1/swbpzp.align',\n",
       " '/ediss_data/ediss3/khizar/data/alignments/s1/swbv2n.align',\n",
       " '/ediss_data/ediss3/khizar/data/alignments/s1/swbv3s.align',\n",
       " '/ediss_data/ediss3/khizar/data/alignments/s1/swbv4p.align',\n",
       " '/ediss_data/ediss3/khizar/data/alignments/s1/swbv5a.align',\n",
       " '/ediss_data/ediss3/khizar/data/alignments/s1/swib2n.align',\n",
       " '/ediss_data/ediss3/khizar/data/alignments/s1/swib3s.align',\n",
       " '/ediss_data/ediss3/khizar/data/alignments/s1/swib4p.align',\n",
       " '/ediss_data/ediss3/khizar/data/alignments/s1/swib5a.align',\n",
       " '/ediss_data/ediss3/khizar/data/alignments/s1/swih6n.align',\n",
       " '/ediss_data/ediss3/khizar/data/alignments/s1/swih7s.align',\n",
       " '/ediss_data/ediss3/khizar/data/alignments/s1/swih8p.align',\n",
       " '/ediss_data/ediss3/khizar/data/alignments/s1/swih9a.align',\n",
       " '/ediss_data/ediss3/khizar/data/alignments/s1/swio1s.align',\n",
       " '/ediss_data/ediss3/khizar/data/alignments/s1/swio2p.align',\n",
       " '/ediss_data/ediss3/khizar/data/alignments/s1/swio3a.align',\n",
       " '/ediss_data/ediss3/khizar/data/alignments/s1/swiozn.align',\n",
       " '/ediss_data/ediss3/khizar/data/alignments/s1/swiu4n.align',\n",
       " '/ediss_data/ediss3/khizar/data/alignments/s1/swiu5s.align',\n",
       " '/ediss_data/ediss3/khizar/data/alignments/s1/swiu6p.align',\n",
       " '/ediss_data/ediss3/khizar/data/alignments/s1/swiu7a.align',\n",
       " '/ediss_data/ediss3/khizar/data/alignments/s1/swwc4n.align',\n",
       " '/ediss_data/ediss3/khizar/data/alignments/s1/swwc5s.align',\n",
       " '/ediss_data/ediss3/khizar/data/alignments/s1/swwc6p.align',\n",
       " '/ediss_data/ediss3/khizar/data/alignments/s1/swwc7a.align',\n",
       " '/ediss_data/ediss3/khizar/data/alignments/s1/swwi8n.align',\n",
       " '/ediss_data/ediss3/khizar/data/alignments/s1/swwi9s.align',\n",
       " '/ediss_data/ediss3/khizar/data/alignments/s1/swwj1a.align',\n",
       " '/ediss_data/ediss3/khizar/data/alignments/s1/swwjzp.align',\n",
       " '/ediss_data/ediss3/khizar/data/alignments/s1/swwp2n.align',\n",
       " '/ediss_data/ediss3/khizar/data/alignments/s1/swwp3s.align',\n",
       " '/ediss_data/ediss3/khizar/data/alignments/s1/swwp4p.align',\n",
       " '/ediss_data/ediss3/khizar/data/alignments/s1/swwp5a.align',\n",
       " '/ediss_data/ediss3/khizar/data/alignments/s1/swwv6n.align',\n",
       " ...]"
      ]
     },
     "execution_count": 13,
     "metadata": {},
     "output_type": "execute_result"
    }
   ],
   "source": [
    "# downloading the dataset\n",
    "url = 'https://drive.google.com/uc?id=1YlvpDLix3S-U8fd-gqRwPcWXAXm8JwjL'\n",
    "output = '/ediss_data/ediss3/khizar/data.zip'\n",
    "gdown.download(url,output, quiet=False)\n",
    "gdown.extractall(output)"
   ]
  },
  {
   "cell_type": "code",
   "execution_count": 7,
   "id": "b9e28b02e153226b",
   "metadata": {
    "collapsed": false,
    "ExecuteTime": {
     "end_time": "2024-01-02T13:57:36.173836Z",
     "start_time": "2024-01-02T13:57:36.055099Z"
    }
   },
   "outputs": [],
   "source": [
    "from imutils import face_utils\n",
    "import dlib"
   ]
  },
  {
   "cell_type": "code",
   "execution_count": 8,
   "id": "eab3e19bf8874e47",
   "metadata": {
    "collapsed": false,
    "ExecuteTime": {
     "end_time": "2024-01-02T13:57:37.277677Z",
     "start_time": "2024-01-02T13:57:37.273298Z"
    }
   },
   "outputs": [],
   "source": [
    "\n",
    "# initialize dlib's face detector (HOG-based) and then create\n",
    "# the facial landmark predictor\n",
    "detector = dlib.get_frontal_face_detector()\n",
    "predictor = dlib.shape_predictor('./shape_predictor_68_face_landmarks.dat')"
   ]
  },
  {
   "cell_type": "code",
   "execution_count": 9,
   "id": "3af74ac57a2182ec",
   "metadata": {
    "collapsed": false,
    "ExecuteTime": {
     "end_time": "2024-01-02T13:57:37.809166Z",
     "start_time": "2024-01-02T13:57:37.802945Z"
    }
   },
   "outputs": [],
   "source": [
    "def get_roi(frame):\n",
    "    faces = detector(frame)\n",
    "    show = True\n",
    "    fixed_size = (100, 50)  # width x height\n",
    "\n",
    "    \n",
    "    for face in faces:\n",
    "        shape = predictor(frame, face)\n",
    "        shape = face_utils.shape_to_np(shape)\n",
    "        for (name, (i, j)) in face_utils.FACIAL_LANDMARKS_IDXS.items():\n",
    "            if name == \"mouth\":\n",
    "                # extract the ROI of the face region as a separate image\n",
    "                (x, y, w, h) = cv2.boundingRect(np.array([shape[i:j]]))\n",
    "                expansion_factor = 0.4  # e.g., 20% expansion\n",
    "                new_w = int(w * (1 + expansion_factor))\n",
    "                new_h = int(h * (1 + expansion_factor))\n",
    "                \n",
    "                # Adjust the top-left corner to compensate for the expansion\n",
    "                new_x = max(x - int(w * expansion_factor / 2), 0)\n",
    "                new_y = max(y - int(h * expansion_factor / 2), 0)\n",
    "\n",
    "                # Ensure the expanded ROI doesn't exceed the frame boundaries\n",
    "                new_x_end = min(new_x + new_w, frame.shape[1])\n",
    "                new_y_end = min(new_y + new_h, frame.shape[0])\n",
    "\n",
    "                roi = frame[new_y:new_y_end, new_x:new_x_end]\n",
    "                if roi.size == 0: \n",
    "                  roi = frame[190:236,80:220]\n",
    "                roi_resized = cv2.resize(roi, fixed_size)\n",
    "                return roi_resized\n",
    "    return cv2.resize(frame[190:236,80:220], fixed_size)\n",
    "    "
   ]
  },
  {
   "cell_type": "code",
   "execution_count": 10,
   "id": "7bf6bc4a3fc140bb",
   "metadata": {
    "collapsed": false,
    "ExecuteTime": {
     "end_time": "2024-01-02T13:57:57.941506Z",
     "start_time": "2024-01-02T13:57:57.931879Z"
    }
   },
   "outputs": [],
   "source": [
    "def load_video(path):\n",
    "    cap = cv2.VideoCapture(path)\n",
    "    frames = []\n",
    "    for _ in range(int(cap.get(cv2.CAP_PROP_FRAME_COUNT))):\n",
    "        ret, frame = cap.read()\n",
    "        frame = cv2.cvtColor(frame, cv2.COLOR_BGRA2GRAY)\n",
    "        frames.append(tf.expand_dims(tf.image.convert_image_dtype(get_roi(frame), dtype=tf.uint8),-1))\n",
    "    cap.release()\n",
    "    \n",
    "    mean = tf.math.reduce_mean(frames)\n",
    "    std = tf.math.reduce_std(tf.cast(frames, tf.float32))\n",
    "    return tf.cast((frames - mean), tf.float32) / std"
   ]
  },
  {
   "cell_type": "code",
   "execution_count": 11,
   "id": "4ebd79cdb0527dfe",
   "metadata": {
    "collapsed": false,
    "ExecuteTime": {
     "end_time": "2024-01-02T13:57:58.967436Z",
     "start_time": "2024-01-02T13:57:58.954640Z"
    }
   },
   "outputs": [],
   "source": [
    "vocab = [x for x in \"abcdefghijklmnopqrstuvwxyz'?!123456789 \"]"
   ]
  },
  {
   "cell_type": "code",
   "execution_count": 12,
   "id": "c337ad129b2ce741",
   "metadata": {
    "collapsed": false,
    "ExecuteTime": {
     "end_time": "2024-01-02T13:57:59.636043Z",
     "start_time": "2024-01-02T13:57:59.615702Z"
    }
   },
   "outputs": [
    {
     "name": "stdout",
     "output_type": "stream",
     "text": [
      "The vocabulary is: ['', 'a', 'b', 'c', 'd', 'e', 'f', 'g', 'h', 'i', 'j', 'k', 'l', 'm', 'n', 'o', 'p', 'q', 'r', 's', 't', 'u', 'v', 'w', 'x', 'y', 'z', \"'\", '?', '!', '1', '2', '3', '4', '5', '6', '7', '8', '9', ' '](size =40)\n"
     ]
    }
   ],
   "source": [
    "char_to_num = tf.keras.layers.StringLookup(vocabulary = vocab, oov_token = \"\")\n",
    "num_to_char = tf.keras.layers.StringLookup(vocabulary = char_to_num.get_vocabulary(), oov_token=\"\", invert=True)\n",
    "\n",
    "print(\n",
    "    f\"The vocabulary is: {char_to_num.get_vocabulary()}\"\n",
    "    f\"(size ={char_to_num.vocabulary_size()})\"\n",
    ")"
   ]
  },
  {
   "cell_type": "code",
   "execution_count": 13,
   "id": "107c541d32faacd9",
   "metadata": {
    "collapsed": false,
    "ExecuteTime": {
     "end_time": "2024-01-02T13:58:00.978068Z",
     "start_time": "2024-01-02T13:58:00.970605Z"
    }
   },
   "outputs": [],
   "source": [
    "def load_alignments(path):\n",
    "    with open(path, 'r') as f:\n",
    "        lines = f.readlines()\n",
    "        tokens = []\n",
    "        for line in lines:\n",
    "            line = line.split()\n",
    "            if line[2] != 'sil':\n",
    "                tokens = [*tokens, ' ', line[2]]\n",
    "        return char_to_num(tf.reshape(tf.strings.unicode_split(tokens, input_encoding='UTF-8'), (-1)))[1:]"
   ]
  },
  {
   "cell_type": "code",
   "execution_count": 18,
   "id": "f9c0fa47c71681a3",
   "metadata": {
    "collapsed": false,
    "ExecuteTime": {
     "end_time": "2024-01-02T13:58:33.268642Z",
     "start_time": "2024-01-02T13:58:33.262526Z"
    }
   },
   "outputs": [],
   "source": [
    "def load_data(path):\n",
    "    path = path.numpy().decode('UTF-8')\n",
    "    file_name = os.path.splitext(os.path.basename(path))[0]\n",
    "    video_path = os.path.join('data', 's1', f'{file_name}.mpg')\n",
    "    alignment_path = os.path.join('data', 'alignments', 's1', f'{file_name}.align')\n",
    "    frames = load_video(video_path)\n",
    "    alignments = load_alignments(alignment_path)\n",
    "    \n",
    "    return frames, alignments"
   ]
  },
  {
   "cell_type": "code",
   "execution_count": 19,
   "id": "d09fceeaffddf483",
   "metadata": {
    "collapsed": false,
    "ExecuteTime": {
     "end_time": "2024-01-02T13:58:35.153161Z",
     "start_time": "2024-01-02T13:58:35.144308Z"
    }
   },
   "outputs": [],
   "source": [
    "test_path = '/data/s1/bbaf2n.mpg'"
   ]
  },
  {
   "cell_type": "code",
   "execution_count": 20,
   "id": "a24bf15df2c77d7d",
   "metadata": {
    "collapsed": false,
    "ExecuteTime": {
     "end_time": "2024-01-02T13:58:37.083649Z",
     "start_time": "2024-01-02T13:58:36.239997Z"
    }
   },
   "outputs": [
    {
     "data": {
      "text/plain": "<tf.Tensor: shape=(50, 100, 1), dtype=float32, numpy=\narray([[[1.0411141 ],\n        [1.0884374 ],\n        [1.1830841 ],\n        ...,\n        [0.75717384],\n        [0.8518206 ],\n        [0.89914393]],\n\n       [[1.0411141 ],\n        [1.0884374 ],\n        [1.1830841 ],\n        ...,\n        [0.75717384],\n        [0.8518206 ],\n        [0.89914393]],\n\n       [[0.9937907 ],\n        [1.0411141 ],\n        [1.1357608 ],\n        ...,\n        [0.75717384],\n        [0.89914393],\n        [0.94646734]],\n\n       ...,\n\n       [[0.80449724],\n        [0.8518206 ],\n        [0.94646734],\n        ...,\n        [0.80449724],\n        [0.80449724],\n        [0.80449724]],\n\n       [[0.8518206 ],\n        [0.89914393],\n        [1.0411141 ],\n        ...,\n        [0.8518206 ],\n        [0.8518206 ],\n        [0.8518206 ]],\n\n       [[0.8518206 ],\n        [0.89914393],\n        [1.0411141 ],\n        ...,\n        [0.8518206 ],\n        [0.8518206 ],\n        [0.8518206 ]]], dtype=float32)>"
     },
     "execution_count": 20,
     "metadata": {},
     "output_type": "execute_result"
    }
   ],
   "source": [
    "frames, alignments = load_data(tf.convert_to_tensor(test_path))\n",
    "frames[2]"
   ]
  },
  {
   "cell_type": "code",
   "execution_count": 21,
   "id": "ec9d95fdf1fcc673",
   "metadata": {
    "collapsed": false,
    "ExecuteTime": {
     "end_time": "2024-01-02T13:58:38.283906Z",
     "start_time": "2024-01-02T13:58:38.141133Z"
    }
   },
   "outputs": [
    {
     "data": {
      "text/plain": "<matplotlib.image.AxesImage at 0x29b4df6a0>"
     },
     "execution_count": 21,
     "metadata": {},
     "output_type": "execute_result"
    },
    {
     "data": {
      "text/plain": "<Figure size 640x480 with 1 Axes>",
      "image/png": "[encoded data removed]"
     },
     "metadata": {},
     "output_type": "display_data"
    }
   ],
   "source": [
    "plt.imshow(frames[2])"
   ]
  },
  {
   "cell_type": "code",
   "execution_count": 22,
   "id": "b6b2df2942348518",
   "metadata": {
    "collapsed": false,
    "ExecuteTime": {
     "end_time": "2024-01-02T13:58:39.029725Z",
     "start_time": "2024-01-02T13:58:39.022269Z"
    }
   },
   "outputs": [],
   "source": [
    "def mappable_function(path):\n",
    "    result = tf.py_function(load_data, [path], (tf.float32, tf.int64))\n",
    "    return result"
   ]
  },
  {
   "cell_type": "markdown",
   "id": "61d2deeec1a51cfd",
   "metadata": {
    "collapsed": false
   },
   "source": [
    "# 3 Create Data Pipeline"
   ]
  },
  {
   "cell_type": "code",
   "execution_count": 17,
   "id": "af232a923a7e7414",
   "metadata": {
    "ExecuteTime": {
     "end_time": "2023-12-17T21:54:57.726755Z",
     "start_time": "2023-12-17T21:54:57.581953Z"
    },
    "collapsed": false
   },
   "outputs": [],
   "source": [
    "data = tf.data.Dataset.list_files('/ediss_data/ediss3/khizar/data/s1/*.mpg')\n",
    "data = data.shuffle(500, reshuffle_each_iteration=False)\n",
    "data = data.map(mappable_function)\n",
    "data = data.padded_batch(2, padded_shapes=([75, None, None, None], [40]))\n",
    "data = data.prefetch(tf.data.AUTOTUNE)\n",
    "train = data.take(450)\n",
    "test = data.skip(450)"
   ]
  },
  {
   "cell_type": "code",
   "execution_count": 18,
   "id": "65d7a1368973b8f4",
   "metadata": {
    "ExecuteTime": {
     "end_time": "2023-12-17T21:55:04.376888Z",
     "start_time": "2023-12-17T21:55:01.856498Z"
    },
    "collapsed": false
   },
   "outputs": [
    {
     "data": {
      "text/plain": [
       "<matplotlib.image.AxesImage at 0x7ffa24062550>"
      ]
     },
     "execution_count": 18,
     "metadata": {},
     "output_type": "execute_result"
    },
    {
     "data": {
      "image/png": "[encoded data removed]",
      "text/plain": [
       "<Figure size 640x480 with 1 Axes>"
      ]
     },
     "metadata": {},
     "output_type": "display_data"
    }
   ],
   "source": [
    "frames , alignments = data.as_numpy_iterator().next()\n",
    "plt.imshow(frames[0][1])"
   ]
  },
  {
   "cell_type": "code",
   "execution_count": 19,
   "id": "c9e91ab3448737b9",
   "metadata": {
    "ExecuteTime": {
     "end_time": "2023-12-17T21:55:05.510093Z",
     "start_time": "2023-12-17T21:55:05.355524Z"
    },
    "collapsed": false
   },
   "outputs": [],
   "source": [
    "from PIL import Image\n",
    "\n",
    "imageio.mimsave('./animation.gif', tf.image.convert_image_dtype(tf.image.resize(tf.squeeze(frames[0],-1),(600,50)),dtype=tf.uint8), fps=20)"
   ]
  },
  {
   "cell_type": "markdown",
   "id": "b2ff69027bd07411",
   "metadata": {
    "collapsed": false
   },
   "source": [
    "# 4 Building the Model"
   ]
  },
  {
   "cell_type": "code",
   "execution_count": 23,
   "id": "15f0c3a5c99aec14",
   "metadata": {
    "collapsed": false,
    "ExecuteTime": {
     "end_time": "2024-01-02T13:58:45.695296Z",
     "start_time": "2024-01-02T13:58:45.684469Z"
    }
   },
   "outputs": [],
   "source": [
    "from tensorflow.keras.models import Sequential\n",
    "from tensorflow.keras.layers import Conv3D, LSTM, Dense, Dropout, Bidirectional, MaxPool3D, Activation, Reshape, TimeDistributed, Flatten\n",
    "from tensorflow.keras.optimizers import Adam\n",
    "from tensorflow.keras.callbacks import ModelCheckpoint, LearningRateScheduler\n"
   ]
  },
  {
   "cell_type": "code",
   "execution_count": 24,
   "id": "1c53c74066c13dbe",
   "metadata": {
    "collapsed": false,
    "ExecuteTime": {
     "end_time": "2024-01-02T13:58:47.094823Z",
     "start_time": "2024-01-02T13:58:46.255601Z"
    }
   },
   "outputs": [],
   "source": [
    "model = Sequential()\n",
    "model.add(Conv3D(128, 3, input_shape=(75,50,100,1), padding='same', activation='relu'))\n",
    "model.add(MaxPool3D((1,2,2)))\n",
    "\n",
    "model.add(Conv3D(256, 3, padding='same', activation='relu'))\n",
    "model.add(MaxPool3D((1,2,2)))\n",
    "\n",
    "model.add(Conv3D(75, 3, padding='same', activation='relu'))\n",
    "model.add(MaxPool3D((1,2,2)))\n",
    "\n",
    "model.add(TimeDistributed(Flatten()))\n",
    "\n",
    "model.add(Bidirectional(LSTM(128, kernel_initializer='Orthogonal', return_sequences=True)))\n",
    "model.add(Dropout(0.5))\n",
    "\n",
    "model.add(Bidirectional(LSTM(128, kernel_initializer='Orthogonal', return_sequences=True)))\n",
    "model.add(Dropout(0.5))\n",
    "\n",
    "model.add(Dense(char_to_num.vocabulary_size()+1, kernel_initializer='he_normal', activation='softmax'))\n"
   ]
  },
  {
   "cell_type": "code",
   "execution_count": 25,
   "id": "40954eaf0e5af514",
   "metadata": {
    "collapsed": false,
    "ExecuteTime": {
     "end_time": "2024-01-02T13:58:47.700929Z",
     "start_time": "2024-01-02T13:58:47.670519Z"
    }
   },
   "outputs": [
    {
     "name": "stdout",
     "output_type": "stream",
     "text": [
      "Model: \"sequential_1\"\n",
      "_________________________________________________________________\n",
      " Layer (type)                Output Shape              Param #   \n",
      "=================================================================\n",
      " conv3d_3 (Conv3D)           (None, 75, 50, 100, 128   3584      \n",
      "                             )                                   \n",
      "                                                                 \n",
      " max_pooling3d_3 (MaxPoolin  (None, 75, 25, 50, 128)   0         \n",
      " g3D)                                                            \n",
      "                                                                 \n",
      " conv3d_4 (Conv3D)           (None, 75, 25, 50, 256)   884992    \n",
      "                                                                 \n",
      " max_pooling3d_4 (MaxPoolin  (None, 75, 12, 25, 256)   0         \n",
      " g3D)                                                            \n",
      "                                                                 \n",
      " conv3d_5 (Conv3D)           (None, 75, 12, 25, 75)    518475    \n",
      "                                                                 \n",
      " max_pooling3d_5 (MaxPoolin  (None, 75, 6, 12, 75)     0         \n",
      " g3D)                                                            \n",
      "                                                                 \n",
      " time_distributed_1 (TimeDi  (None, 75, 5400)          0         \n",
      " stributed)                                                      \n",
      "                                                                 \n",
      " bidirectional_2 (Bidirecti  (None, 75, 256)           5661696   \n",
      " onal)                                                           \n",
      "                                                                 \n",
      " dropout_2 (Dropout)         (None, 75, 256)           0         \n",
      "                                                                 \n",
      " bidirectional_3 (Bidirecti  (None, 75, 256)           394240    \n",
      " onal)                                                           \n",
      "                                                                 \n",
      " dropout_3 (Dropout)         (None, 75, 256)           0         \n",
      "                                                                 \n",
      " dense (Dense)               (None, 75, 41)            10537     \n",
      "                                                                 \n",
      "=================================================================\n",
      "Total params: 7473524 (28.51 MB)\n",
      "Trainable params: 7473524 (28.51 MB)\n",
      "Non-trainable params: 0 (0.00 Byte)\n",
      "_________________________________________________________________\n"
     ]
    }
   ],
   "source": [
    "model.summary()"
   ]
  },
  {
   "cell_type": "code",
   "execution_count": 23,
   "id": "e2fb22a116d42e47",
   "metadata": {
    "ExecuteTime": {
     "end_time": "2023-12-17T21:55:10.900437Z",
     "start_time": "2023-12-17T21:55:08.340802Z"
    },
    "collapsed": false
   },
   "outputs": [],
   "source": [
    "val = data.as_numpy_iterator().next()"
   ]
  },
  {
   "cell_type": "code",
   "execution_count": 24,
   "id": "6a3f1f1139c4594b",
   "metadata": {
    "ExecuteTime": {
     "end_time": "2023-12-17T21:55:12.900747Z",
     "start_time": "2023-12-17T21:55:10.901266Z"
    },
    "collapsed": false
   },
   "outputs": [
    {
     "name": "stderr",
     "output_type": "stream",
     "text": [
      "2023-12-19 17:29:10.418665: I external/local_xla/xla/stream_executor/cuda/cuda_dnn.cc:454] Loaded cuDNN version 8904\n"
     ]
    },
    {
     "name": "stdout",
     "output_type": "stream",
     "text": [
      "1/1 [==============================] - 7s 7s/step\n"
     ]
    }
   ],
   "source": [
    "yhat = model.predict(val[0])"
   ]
  },
  {
   "cell_type": "code",
   "execution_count": 25,
   "id": "e334524ac588327b",
   "metadata": {
    "ExecuteTime": {
     "end_time": "2023-12-17T21:55:12.936726Z",
     "start_time": "2023-12-17T21:55:12.900415Z"
    },
    "collapsed": false
   },
   "outputs": [
    {
     "data": {
      "text/plain": [
       "<tf.Tensor: shape=(), dtype=string, numpy=b'mfffffffffffffffffffffffffffffffffffffffffffffffffffffffffffffffffffffffff'>"
      ]
     },
     "execution_count": 25,
     "metadata": {},
     "output_type": "execute_result"
    }
   ],
   "source": [
    "tf.strings.reduce_join([num_to_char(tf.argmax(x)) for x in yhat[0]])"
   ]
  },
  {
   "cell_type": "markdown",
   "id": "35d52df911a1fd42",
   "metadata": {
    "collapsed": false
   },
   "source": [
    "# 5 Train the Model"
   ]
  },
  {
   "cell_type": "code",
   "execution_count": 26,
   "id": "47e43d28c041f3e7",
   "metadata": {
    "ExecuteTime": {
     "end_time": "2023-12-17T21:55:14.461115Z",
     "start_time": "2023-12-17T21:55:14.456719Z"
    },
    "collapsed": false
   },
   "outputs": [],
   "source": [
    "def scheduler(epoch, lr):\n",
    "    if epoch < 30:\n",
    "        return lr\n",
    "    else:\n",
    "        return lr * tf.math.exp(-0.1)"
   ]
  },
  {
   "cell_type": "code",
   "execution_count": 27,
   "id": "928dbf886f8e2452",
   "metadata": {
    "ExecuteTime": {
     "end_time": "2023-12-17T21:55:14.808559Z",
     "start_time": "2023-12-17T21:55:14.802125Z"
    },
    "collapsed": false
   },
   "outputs": [],
   "source": [
    "def CTCLoss(y_true, y_pred):\n",
    "    batch_len = tf.cast(tf.shape(y_true)[0], dtype=\"int64\")\n",
    "    input_length = tf.cast(tf.shape(y_pred)[1], dtype=\"int64\")\n",
    "    label_length = tf.cast(tf.shape(y_true)[1], dtype=\"int64\")\n",
    "    \n",
    "    input_length = input_length * tf.ones(shape=(batch_len,1), dtype=\"int64\")\n",
    "    label_length = label_length * tf.ones(shape=(batch_len,1), dtype=\"int64\")\n",
    "    \n",
    "    loss = tf.keras.backend.ctc_batch_cost(y_true, y_pred, input_length, label_length)\n",
    "    return loss"
   ]
  },
  {
   "cell_type": "code",
   "execution_count": 28,
   "id": "e6fc45828b1cf66c",
   "metadata": {
    "ExecuteTime": {
     "end_time": "2023-12-17T21:55:15.540274Z",
     "start_time": "2023-12-17T21:55:15.530498Z"
    },
    "collapsed": false
   },
   "outputs": [],
   "source": [
    "class ProduceExample(tf.keras.callbacks.Callback):\n",
    "    def __init__(self, dataset) -> None:\n",
    "        self.dataset = dataset.as_numpy_iterator()\n",
    "        \n",
    "    def on_epoch_end(self, epoch, logs=None) -> None:\n",
    "        data = self.dataset.next()\n",
    "        yhat = self.model.predict(data[0])\n",
    "        decoded = tf.keras.backend.ctc_decode(yhat, [75,75], greedy=False)[0][0].numpy()\n",
    "        for x in range(len(yhat)):           \n",
    "            print('Original:', tf.strings.reduce_join(num_to_char(data[1][x])).numpy().decode('utf-8'))\n",
    "            print('Prediction:', tf.strings.reduce_join(num_to_char(decoded[x])).numpy().decode('utf-8'))\n",
    "            print('~'*100)\n"
   ]
  },
  {
   "cell_type": "code",
   "execution_count": 29,
   "id": "292fbbe122f59c2b",
   "metadata": {
    "ExecuteTime": {
     "end_time": "2023-12-17T21:55:15.867422Z",
     "start_time": "2023-12-17T21:55:15.858133Z"
    },
    "collapsed": false
   },
   "outputs": [],
   "source": [
    "model.compile(optimizer=Adam(learning_rate=0.0001), loss=CTCLoss)"
   ]
  },
  {
   "cell_type": "code",
   "execution_count": 30,
   "id": "25eb1242decd0116",
   "metadata": {
    "ExecuteTime": {
     "end_time": "2023-12-17T21:55:16.114558Z",
     "start_time": "2023-12-17T21:55:16.111816Z"
    },
    "collapsed": false
   },
   "outputs": [],
   "source": [
    "checkpoint_callback = ModelCheckpoint(os.path.join('models','checkpoint'), monitor='loss', save_weights_only=True) "
   ]
  },
  {
   "cell_type": "code",
   "execution_count": 31,
   "id": "5f1a65b2ab22735c",
   "metadata": {
    "ExecuteTime": {
     "end_time": "2023-12-17T21:55:16.630455Z",
     "start_time": "2023-12-17T21:55:16.627743Z"
    },
    "collapsed": false
   },
   "outputs": [],
   "source": [
    "schedule_callback = LearningRateScheduler(scheduler)"
   ]
  },
  {
   "cell_type": "code",
   "execution_count": 32,
   "id": "bdfbe8aa8905a9e1",
   "metadata": {
    "ExecuteTime": {
     "end_time": "2023-12-17T21:55:17.705498Z",
     "start_time": "2023-12-17T21:55:17.690315Z"
    },
    "collapsed": false
   },
   "outputs": [],
   "source": [
    "example_callback = ProduceExample(data)"
   ]
  },
  {
   "cell_type": "code",
   "execution_count": 33,
   "id": "5d7010715659c42f",
   "metadata": {
    "ExecuteTime": {
     "end_time": "2023-12-17T21:56:16.206942Z",
     "start_time": "2023-12-17T21:55:22.948058Z"
    },
    "collapsed": false
   },
   "outputs": [
    {
     "name": "stdout",
     "output_type": "stream",
     "text": [
      "Epoch 1/2\n"
     ]
    }
   ],
   "source": [
    "model.fit(train, validation_data=test, epochs=2, callbacks=[checkpoint_callback, schedule_callback, example_callback])"
   ]
  },
  {
   "cell_type": "code",
   "execution_count": 30,
   "id": "fae1aecd810ea7e0",
   "metadata": {
    "collapsed": false,
    "ExecuteTime": {
     "end_time": "2024-01-02T14:00:35.421735Z",
     "start_time": "2024-01-02T14:00:35.356976Z"
    }
   },
   "outputs": [
    {
     "data": {
      "text/plain": "<tensorflow.python.checkpoint.checkpoint.CheckpointLoadStatus at 0x29cde7fa0>"
     },
     "execution_count": 30,
     "metadata": {},
     "output_type": "execute_result"
    }
   ],
   "source": [
    "model.load_weights(\"./models/checkpoint\")"
   ]
  },
  {
   "cell_type": "code",
   "execution_count": 31,
   "outputs": [],
   "source": [
    "sample = load_data(tf.convert_to_tensor('/data/s1/bras9a.mpg'))"
   ],
   "metadata": {
    "collapsed": false,
    "ExecuteTime": {
     "end_time": "2024-01-02T14:01:14.734156Z",
     "start_time": "2024-01-02T14:01:13.872166Z"
    }
   },
   "id": "ae2672ffa215353"
  },
  {
   "cell_type": "code",
   "execution_count": 32,
   "outputs": [
    {
     "name": "stdout",
     "output_type": "stream",
     "text": [
      "~~~~~~~~~~~~~~~~~~~~~~~~~~~~~~~~~~~~~~~~~~~~~~~~~~~~~~~~~~~~~~~~~~~~~~~~~~~~~~~~~~~~~~~~~~~~~~~~~~~~ REAL TEXT\n"
     ]
    },
    {
     "data": {
      "text/plain": "[<tf.Tensor: shape=(), dtype=string, numpy=b'bin red at s nine again'>]"
     },
     "execution_count": 32,
     "metadata": {},
     "output_type": "execute_result"
    }
   ],
   "source": [
    "\n",
    "\n",
    "print('~'*100, 'REAL TEXT')\n",
    "[tf.strings.reduce_join([num_to_char(word) for word in sentence]) for sentence in [sample[1]]]\n",
    "\n"
   ],
   "metadata": {
    "collapsed": false,
    "ExecuteTime": {
     "end_time": "2024-01-02T14:01:24.289743Z",
     "start_time": "2024-01-02T14:01:24.248578Z"
    }
   },
   "id": "c4a870979cb2f2db"
  },
  {
   "cell_type": "code",
   "execution_count": 33,
   "outputs": [
    {
     "name": "stdout",
     "output_type": "stream",
     "text": [
      "1/1 [==============================] - 2s 2s/step\n"
     ]
    }
   ],
   "source": [
    "yhat = model.predict(tf.expand_dims(sample[0], axis=0))"
   ],
   "metadata": {
    "collapsed": false,
    "ExecuteTime": {
     "end_time": "2024-01-02T14:01:33.999121Z",
     "start_time": "2024-01-02T14:01:32.390553Z"
    }
   },
   "id": "c7a73ab63dbb78f8"
  },
  {
   "cell_type": "code",
   "execution_count": 34,
   "outputs": [],
   "source": [
    "decoded = tf.keras.backend.ctc_decode(yhat, input_length=[75], greedy=True)[0][0].numpy()"
   ],
   "metadata": {
    "collapsed": false,
    "ExecuteTime": {
     "end_time": "2024-01-02T14:01:40.334071Z",
     "start_time": "2024-01-02T14:01:40.304936Z"
    }
   },
   "id": "15663ec327f5f5f2"
  },
  {
   "cell_type": "code",
   "execution_count": 35,
   "outputs": [
    {
     "name": "stdout",
     "output_type": "stream",
     "text": [
      "~~~~~~~~~~~~~~~~~~~~~~~~~~~~~~~~~~~~~~~~~~~~~~~~~~~~~~~~~~~~~~~~~~~~~~~~~~~~~~~~~~~~~~~~~~~~~~~~~~~~ PREDICTIONS\n"
     ]
    },
    {
     "data": {
      "text/plain": "[<tf.Tensor: shape=(), dtype=string, numpy=b'bin red at nine again'>]"
     },
     "execution_count": 35,
     "metadata": {},
     "output_type": "execute_result"
    }
   ],
   "source": [
    "print('~'*100, 'PREDICTIONS')\n",
    "[tf.strings.reduce_join([num_to_char(word) for word in sentence]) for sentence in decoded]"
   ],
   "metadata": {
    "collapsed": false,
    "ExecuteTime": {
     "end_time": "2024-01-02T14:01:54.892591Z",
     "start_time": "2024-01-02T14:01:54.855034Z"
    }
   },
   "id": "c894f50c2bef590"
  },
  {
   "cell_type": "code",
   "execution_count": null,
   "outputs": [],
   "source": [],
   "metadata": {
    "collapsed": false
   },
   "id": "d3ff07bf7cf77527"
  }
 ],
 "metadata": {
  "kernelspec": {
   "display_name": "Python 3",
   "language": "python",
   "name": "python3"
  },
  "language_info": {
   "codemirror_mode": {
    "name": "ipython",
    "version": 3
   },
   "file_extension": ".py",
   "mimetype": "text/x-python",
   "name": "python",
   "nbconvert_exporter": "python",
   "pygments_lexer": "ipython3",
   "version": "3.9.18"
  }
 },
 "nbformat": 4,
 "nbformat_minor": 5
}
